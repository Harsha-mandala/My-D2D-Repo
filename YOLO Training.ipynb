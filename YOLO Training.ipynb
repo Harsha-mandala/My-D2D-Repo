{
 "cells": [
  {
   "cell_type": "markdown",
   "id": "6e82c8b4",
   "metadata": {},
   "source": [
    "Convert gt.txt to YOLO Labels for Train and Val"
   ]
  },
  {
   "cell_type": "code",
   "execution_count": 1,
   "id": "98f5fb7b",
   "metadata": {},
   "outputs": [],
   "source": [
    "import os\n",
    "import cv2\n",
    "\n",
    "# Paths\n",
    "base_dir = \"C:/Users/Venu Gopal/Downloads/TrainIJYOLO2013/TrainIJYOLO2013\"\n",
    "gt_file = os.path.join(base_dir, \"gt.txt\")\n",
    "\n",
    "# Helper: which images are in train/val\n",
    "train_images_dir = os.path.join(base_dir, \"train\", \"images\")\n",
    "val_images_dir = os.path.join(base_dir, \"val\", \"images\")\n",
    "train_labels_dir = os.path.join(base_dir, \"train\", \"labels\")\n",
    "val_labels_dir = os.path.join(base_dir, \"val\", \"labels\")\n",
    "os.makedirs(train_labels_dir, exist_ok=True)\n",
    "os.makedirs(val_labels_dir, exist_ok=True)\n",
    "\n",
    "train_images = set(os.listdir(train_images_dir))\n",
    "val_images = set(os.listdir(val_images_dir))\n",
    "\n",
    "with open(gt_file, 'r') as f:\n",
    "    for line in f:\n",
    "        parts = line.strip().split(';')\n",
    "        if len(parts) < 6: continue\n",
    "        img_name, left, top, right, bottom, class_id = parts[0], int(parts[1]), int(parts[2]), int(parts[3]), int(parts[4]), int(parts[5])\n",
    "        # Decide if this image is train or val\n",
    "        if img_name in train_images:\n",
    "            labels_dir = train_labels_dir\n",
    "            images_dir = train_images_dir\n",
    "        elif img_name in val_images:\n",
    "            labels_dir = val_labels_dir\n",
    "            images_dir = val_images_dir\n",
    "        else:\n",
    "            continue  # Not in either split\n",
    "        img_path = os.path.join(images_dir, img_name)\n",
    "        if not os.path.exists(img_path): continue\n",
    "        img = cv2.imread(img_path)\n",
    "        if img is None: continue\n",
    "        height, width = img.shape[:2]\n",
    "        x_center = ((left + right) / 2) / width\n",
    "        y_center = ((top + bottom) / 2) / height\n",
    "        box_width = (right - left) / width\n",
    "        box_height = (bottom - top) / height\n",
    "        label_path = os.path.join(labels_dir, os.path.splitext(img_name)[0] + '.txt')\n",
    "        with open(label_path, 'a') as label_file:\n",
    "            label_file.write(f\"{class_id} {x_center} {y_center} {box_width} {box_height}\\n\")\n"
   ]
  },
  {
   "cell_type": "markdown",
   "id": "90cbd739",
   "metadata": {},
   "source": [
    "Create the Required Folder Structure"
   ]
  },
  {
   "cell_type": "code",
   "execution_count": 3,
   "id": "d7b29c5e",
   "metadata": {},
   "outputs": [
    {
     "name": "stdout",
     "output_type": "stream",
     "text": [
      "Created: C:/Users/Venu Gopal/Downloads/TrainIJYOLO2013/TrainIJYOLO2013\\train/images\n",
      "Created: C:/Users/Venu Gopal/Downloads/TrainIJYOLO2013/TrainIJYOLO2013\\train/labels\n",
      "Created: C:/Users/Venu Gopal/Downloads/TrainIJYOLO2013/TrainIJYOLO2013\\val/images\n",
      "Created: C:/Users/Venu Gopal/Downloads/TrainIJYOLO2013/TrainIJYOLO2013\\val/labels\n"
     ]
    }
   ],
   "source": [
    "import os\n",
    "\n",
    "# Base directory path\n",
    "base_dir = \"C:/Users/Venu Gopal/Downloads/TrainIJYOLO2013/TrainIJYOLO2013\"\n",
    "\n",
    "# Create folder structure\n",
    "folders = [\n",
    "    \"train/images\",\n",
    "    \"train/labels\", \n",
    "    \"val/images\",\n",
    "    \"val/labels\"\n",
    "]\n",
    "\n",
    "for folder in folders:\n",
    "    folder_path = os.path.join(base_dir, folder)\n",
    "    os.makedirs(folder_path, exist_ok=True)\n",
    "    print(f\"Created: {folder_path}\")\n"
   ]
  },
  {
   "cell_type": "markdown",
   "id": "0f145a90",
   "metadata": {},
   "source": [
    "Move Your Images to the Correct Folders"
   ]
  },
  {
   "cell_type": "code",
   "execution_count": 4,
   "id": "88005626",
   "metadata": {},
   "outputs": [],
   "source": [
    "import shutil\n",
    "import os\n",
    "\n",
    "# Source directory (where your original images are)\n",
    "source_images = \"C:/Users/Venu Gopal/Downloads/TrainIJYOLO2013/TrainIJYOLO2013\"  # Update this path\n",
    "\n",
    "# Destination directories\n",
    "train_images_dir = \"C:/Users/Venu Gopal/Downloads/TrainIJYOLO2013/TrainIJYOLO2013/train/images\"\n",
    "val_images_dir = \"C:/Users/Venu Gopal/Downloads/TrainIJYOLO2013/TrainIJYOLO2013/val/images\"\n",
    "\n",
    "# Move training images (00000.ppm to 00479.ppm)\n",
    "for i in range(480):\n",
    "    img_name = f\"{i:05d}.ppm\"\n",
    "    src_path = os.path.join(source_images, img_name)\n",
    "    dst_path = os.path.join(train_images_dir, img_name)\n",
    "    \n",
    "    if os.path.exists(src_path):\n",
    "        shutil.move(src_path, dst_path)\n",
    "        print(f\"Moved {img_name} to train\")\n",
    "\n",
    "# Move validation images (00480.ppm to 00599.ppm)\n",
    "for i in range(480, 600):\n",
    "    img_name = f\"{i:05d}.ppm\"\n",
    "    src_path = os.path.join(source_images, img_name)\n",
    "    dst_path = os.path.join(val_images_dir, img_name)\n",
    "    \n",
    "    if os.path.exists(src_path):\n",
    "        shutil.move(src_path, dst_path)\n",
    "        print(f\"Moved {img_name} to val\")\n"
   ]
  },
  {
   "cell_type": "markdown",
   "id": "e28b8445",
   "metadata": {},
   "source": [
    "Convert Annotations to YOLO Format"
   ]
  },
  {
   "cell_type": "code",
   "execution_count": 5,
   "id": "220d375e",
   "metadata": {},
   "outputs": [
    {
     "name": "stdout",
     "output_type": "stream",
     "text": [
      "Train images: 480, Val images: 120\n",
      "Annotation conversion complete!\n"
     ]
    }
   ],
   "source": [
    "import os\n",
    "import cv2\n",
    "\n",
    "# Paths\n",
    "base_dir = \"C:/Users/Venu Gopal/Downloads/TrainIJYOLO2013/TrainIJYOLO2013\"\n",
    "gt_file = os.path.join(base_dir, \"gt.txt\")\n",
    "\n",
    "# Destination directories\n",
    "train_images_dir = os.path.join(base_dir, \"train\", \"images\")\n",
    "val_images_dir = os.path.join(base_dir, \"val\", \"images\")\n",
    "train_labels_dir = os.path.join(base_dir, \"train\", \"labels\")\n",
    "val_labels_dir = os.path.join(base_dir, \"val\", \"labels\")\n",
    "\n",
    "# Get list of images in each folder\n",
    "train_images = set(os.listdir(train_images_dir)) if os.path.exists(train_images_dir) else set()\n",
    "val_images = set(os.listdir(val_images_dir)) if os.path.exists(val_images_dir) else set()\n",
    "\n",
    "print(f\"Train images: {len(train_images)}, Val images: {len(val_images)}\")\n",
    "\n",
    "# Process annotations\n",
    "with open(gt_file, 'r') as f:\n",
    "    for line in f:\n",
    "        parts = line.strip().split(';')\n",
    "        if len(parts) < 6: continue\n",
    "        \n",
    "        img_name, left, top, right, bottom, class_id = parts[0], int(parts[1]), int(parts[2]), int(parts[3]), int(parts[4]), int(parts[5])\n",
    "        \n",
    "        # Determine if image is in train or val\n",
    "        if img_name in train_images:\n",
    "            labels_dir = train_labels_dir\n",
    "            images_dir = train_images_dir\n",
    "        elif img_name in val_images:\n",
    "            labels_dir = val_labels_dir\n",
    "            images_dir = val_images_dir\n",
    "        else:\n",
    "            continue  # Skip if image not found\n",
    "            \n",
    "        # Read image to get dimensions\n",
    "        img_path = os.path.join(images_dir, img_name)\n",
    "        if not os.path.exists(img_path): continue\n",
    "        \n",
    "        img = cv2.imread(img_path)\n",
    "        if img is None: continue\n",
    "        \n",
    "        height, width = img.shape[:2]\n",
    "        \n",
    "        # Convert to YOLO format\n",
    "        x_center = ((left + right) / 2) / width\n",
    "        y_center = ((top + bottom) / 2) / height\n",
    "        box_width = (right - left) / width\n",
    "        box_height = (bottom - top) / height\n",
    "        \n",
    "        # Write label file\n",
    "        label_path = os.path.join(labels_dir, os.path.splitext(img_name)[0] + '.txt')\n",
    "        with open(label_path, 'a') as label_file:\n",
    "            label_file.write(f\"{class_id} {x_center} {y_center} {box_width} {box_height}\\n\")\n",
    "\n",
    "print(\"Annotation conversion complete!\")\n"
   ]
  },
  {
   "cell_type": "markdown",
   "id": "abe7e525",
   "metadata": {},
   "source": [
    "Verify Your Folder Structure"
   ]
  },
  {
   "cell_type": "code",
   "execution_count": 6,
   "id": "2ebaa6d8",
   "metadata": {},
   "outputs": [
    {
     "name": "stdout",
     "output_type": "stream",
     "text": [
      "train/images: 480 files\n",
      "train/labels: 443 files\n",
      "val/images: 120 files\n",
      "val/labels: 63 files\n"
     ]
    }
   ],
   "source": [
    "import os\n",
    "\n",
    "base_dir = \"C:/Users/Venu Gopal/Downloads/TrainIJYOLO2013/TrainIJYOLO2013\"\n",
    "\n",
    "# Check folder contents\n",
    "for folder in [\"train/images\", \"train/labels\", \"val/images\", \"val/labels\"]:\n",
    "    folder_path = os.path.join(base_dir, folder)\n",
    "    if os.path.exists(folder_path):\n",
    "        files = os.listdir(folder_path)\n",
    "        print(f\"{folder}: {len(files)} files\")\n",
    "    else:\n",
    "        print(f\"{folder}: DOES NOT EXIST\")\n"
   ]
  },
  {
   "cell_type": "markdown",
   "id": "c2ba17f0",
   "metadata": {},
   "source": [
    "Locate Your Actual Image Files"
   ]
  },
  {
   "cell_type": "code",
   "execution_count": 8,
   "id": "18b98289",
   "metadata": {},
   "outputs": [
    {
     "name": "stdout",
     "output_type": "stream",
     "text": [
      "Searching for traffic sign images...\n",
      "Found 1753 *.ppm files in C:/Users/Venu Gopal/Downloads/**/*\n",
      "Sample files: ['C:/Users/Venu Gopal/Downloads\\\\TestIJYOLO2013\\\\TestIJYOLO2013Download\\\\images\\\\00000.ppm', 'C:/Users/Venu Gopal/Downloads\\\\TestIJYOLO2013\\\\TestIJYOLO2013Download\\\\images\\\\00001.ppm', 'C:/Users/Venu Gopal/Downloads\\\\TestIJYOLO2013\\\\TestIJYOLO2013Download\\\\images\\\\00002.ppm', 'C:/Users/Venu Gopal/Downloads\\\\TestIJYOLO2013\\\\TestIJYOLO2013Download\\\\images\\\\00003.ppm', 'C:/Users/Venu Gopal/Downloads\\\\TestIJYOLO2013\\\\TestIJYOLO2013Download\\\\images\\\\00004.ppm']\n",
      "Found 9508 *.jpg files in C:/Users/Venu Gopal/Desktop/**/*\n",
      "Sample files: ['C:/Users/Venu Gopal/Desktop\\\\Files\\\\SEM 3\\\\MTH301\\\\Exercises\\\\0_p_1 case.jpg', 'C:/Users/Venu Gopal/Desktop\\\\Files\\\\SEM 3\\\\MTH301\\\\Exercises\\\\Distance formula (Stereographic projection) - 1.jpg', 'C:/Users/Venu Gopal/Desktop\\\\Files\\\\SEM 3\\\\MTH301\\\\Exercises\\\\Distance formula (Stereographic projection) - 2.jpg', 'C:/Users/Venu Gopal/Desktop\\\\Files\\\\SEM 3\\\\MTH301\\\\Exercises\\\\Ex. 1.1., Exercise Sheet 1.jpg', 'C:/Users/Venu Gopal/Desktop\\\\Files\\\\SEM 3\\\\MTH301\\\\Exercises\\\\Ex. 1.6., Exercise Sheet 1.jpg']\n",
      "Found 89 *.jpg files in C:/Users/Venu Gopal/Documents/**/*\n",
      "Sample files: ['C:/Users/Venu Gopal/Documents\\\\Image-Line\\\\Downloads\\\\Themes\\\\Community Vision Themes Vol 1\\\\thmCarbon.jpg', 'C:/Users/Venu Gopal/Documents\\\\Image-Line\\\\Downloads\\\\Themes\\\\Community Vision Themes Vol 1\\\\thmClean Bean.jpg', 'C:/Users/Venu Gopal/Documents\\\\Image-Line\\\\Downloads\\\\Themes\\\\Community Vision Themes Vol 1\\\\thmDark Prism.jpg', 'C:/Users/Venu Gopal/Documents\\\\Image-Line\\\\Downloads\\\\Themes\\\\Community Vision Themes Vol 1\\\\thmGranite Lo-Fi.jpg', 'C:/Users/Venu Gopal/Documents\\\\Image-Line\\\\Downloads\\\\Themes\\\\Community Vision Themes Vol 1\\\\thmHangar.jpg']\n"
     ]
    }
   ],
   "source": [
    "import os\n",
    "import glob\n",
    "\n",
    "# Search for image files in broader locations\n",
    "search_paths = [\n",
    "    \"C:/Users/Venu Gopal/Downloads/**/*\",\n",
    "    \"C:/Users/Venu Gopal/Desktop/**/*\",\n",
    "    \"C:/Users/Venu Gopal/Documents/**/*\"\n",
    "]\n",
    "\n",
    "print(\"Searching for traffic sign images...\")\n",
    "for search_path in search_paths:\n",
    "    # Search for common image formats\n",
    "    for ext in ['*.ppm', '*.jpg', '*.png', '*.jpeg']:\n",
    "        files = glob.glob(search_path + ext, recursive=True)\n",
    "        if files:\n",
    "            print(f\"Found {len(files)} {ext} files in {search_path}\")\n",
    "            print(f\"Sample files: {files[:5]}\")\n",
    "            break\n"
   ]
  },
  {
   "cell_type": "markdown",
   "id": "97bfce63",
   "metadata": {},
   "source": [
    "Check Your Downloaded Data"
   ]
  },
  {
   "cell_type": "code",
   "execution_count": 9,
   "id": "beee50b7",
   "metadata": {},
   "outputs": [
    {
     "name": "stdout",
     "output_type": "stream",
     "text": [
      "Contents of TrainIJYOLO2013 folder:\n",
      "Directory: C:/Users/Venu Gopal/Downloads/TrainIJYOLO2013\n",
      "Subdirectories: ['TrainIJYOLO2013']\n",
      "Files: []\n",
      "--------------------------------------------------\n",
      "Directory: C:/Users/Venu Gopal/Downloads/TrainIJYOLO2013\\TrainIJYOLO2013\n",
      "Subdirectories: ['00', '01', '02', '03', '04', '05', '06', '07', '08', '09', '10', '11', '12', '13', '14', '15', '16', '17', '18', '19', '20', '21', '22', '23', '24', '25', '26', '27', '28', '29', '30', '31', '32', '33', '34', '35', '36', '37', '38', '39', '40', '41', '42', 'train', 'val']\n",
      "Files: ['ex.txt', 'gt.txt', 'ReadMeTrain.txt', 'traffic_signs.yaml']\n",
      "--------------------------------------------------\n",
      "Directory: C:/Users/Venu Gopal/Downloads/TrainIJYOLO2013\\TrainIJYOLO2013\\00\n",
      "Subdirectories: []\n",
      "Files: ['00000.ppm', '00001.ppm', '00002.ppm', '00003.ppm']\n",
      "--------------------------------------------------\n",
      "Directory: C:/Users/Venu Gopal/Downloads/TrainIJYOLO2013\\TrainIJYOLO2013\\01\n",
      "Subdirectories: []\n",
      "Files: ['00000.ppm', '00001.ppm', '00002.ppm', '00003.ppm', '00004.ppm', '00005.ppm', '00006.ppm', '00007.ppm', '00008.ppm', '00009.ppm']\n",
      "--------------------------------------------------\n",
      "Directory: C:/Users/Venu Gopal/Downloads/TrainIJYOLO2013\\TrainIJYOLO2013\\02\n",
      "Subdirectories: []\n",
      "Files: ['00000.ppm', '00001.ppm', '00002.ppm', '00003.ppm', '00004.ppm', '00005.ppm', '00006.ppm', '00007.ppm', '00008.ppm', '00009.ppm']\n",
      "--------------------------------------------------\n",
      "Directory: C:/Users/Venu Gopal/Downloads/TrainIJYOLO2013\\TrainIJYOLO2013\\03\n",
      "Subdirectories: []\n",
      "Files: ['00000.ppm', '00001.ppm', '00002.ppm', '00003.ppm', '00004.ppm', '00005.ppm', '00006.ppm', '00007.ppm', '00008.ppm', '00009.ppm']\n",
      "--------------------------------------------------\n",
      "Directory: C:/Users/Venu Gopal/Downloads/TrainIJYOLO2013\\TrainIJYOLO2013\\04\n",
      "Subdirectories: []\n",
      "Files: ['00000.ppm', '00001.ppm', '00002.ppm', '00003.ppm', '00004.ppm', '00005.ppm', '00006.ppm', '00007.ppm', '00008.ppm', '00009.ppm']\n",
      "--------------------------------------------------\n",
      "Directory: C:/Users/Venu Gopal/Downloads/TrainIJYOLO2013\\TrainIJYOLO2013\\05\n",
      "Subdirectories: []\n",
      "Files: ['00000.ppm', '00001.ppm', '00002.ppm', '00003.ppm', '00004.ppm', '00005.ppm', '00006.ppm', '00007.ppm', '00008.ppm', '00009.ppm']\n",
      "--------------------------------------------------\n",
      "Directory: C:/Users/Venu Gopal/Downloads/TrainIJYOLO2013\\TrainIJYOLO2013\\06\n",
      "Subdirectories: []\n",
      "Files: ['00000.ppm', '00001.ppm', '00002.ppm', '00003.ppm', '00004.ppm', '00005.ppm', '00006.ppm', '00007.ppm', '00008.ppm', '00009.ppm']\n",
      "--------------------------------------------------\n",
      "Directory: C:/Users/Venu Gopal/Downloads/TrainIJYOLO2013\\TrainIJYOLO2013\\07\n",
      "Subdirectories: []\n",
      "Files: ['00000.ppm', '00001.ppm', '00002.ppm', '00003.ppm', '00004.ppm', '00005.ppm', '00006.ppm', '00007.ppm', '00008.ppm', '00009.ppm']\n",
      "--------------------------------------------------\n",
      "Directory: C:/Users/Venu Gopal/Downloads/TrainIJYOLO2013\\TrainIJYOLO2013\\08\n",
      "Subdirectories: []\n",
      "Files: ['00000.ppm', '00001.ppm', '00002.ppm', '00003.ppm', '00004.ppm', '00005.ppm', '00006.ppm', '00007.ppm', '00008.ppm', '00009.ppm']\n",
      "--------------------------------------------------\n",
      "Directory: C:/Users/Venu Gopal/Downloads/TrainIJYOLO2013\\TrainIJYOLO2013\\09\n",
      "Subdirectories: []\n",
      "Files: ['00000.ppm', '00001.ppm', '00002.ppm', '00003.ppm', '00004.ppm', '00005.ppm', '00006.ppm', '00007.ppm', '00008.ppm', '00009.ppm']\n",
      "--------------------------------------------------\n",
      "Directory: C:/Users/Venu Gopal/Downloads/TrainIJYOLO2013\\TrainIJYOLO2013\\10\n",
      "Subdirectories: []\n",
      "Files: ['00000.ppm', '00001.ppm', '00002.ppm', '00003.ppm', '00004.ppm', '00005.ppm', '00006.ppm', '00007.ppm', '00008.ppm', '00009.ppm']\n",
      "--------------------------------------------------\n",
      "Directory: C:/Users/Venu Gopal/Downloads/TrainIJYOLO2013\\TrainIJYOLO2013\\11\n",
      "Subdirectories: []\n",
      "Files: ['00000.ppm', '00001.ppm', '00002.ppm', '00003.ppm', '00004.ppm', '00005.ppm', '00006.ppm', '00007.ppm', '00008.ppm', '00009.ppm']\n",
      "--------------------------------------------------\n",
      "Directory: C:/Users/Venu Gopal/Downloads/TrainIJYOLO2013\\TrainIJYOLO2013\\12\n",
      "Subdirectories: []\n",
      "Files: ['00000.ppm', '00001.ppm', '00002.ppm', '00003.ppm', '00004.ppm', '00005.ppm', '00006.ppm', '00007.ppm', '00008.ppm', '00009.ppm']\n",
      "--------------------------------------------------\n",
      "Directory: C:/Users/Venu Gopal/Downloads/TrainIJYOLO2013\\TrainIJYOLO2013\\13\n",
      "Subdirectories: []\n",
      "Files: ['00000.ppm', '00001.ppm', '00002.ppm', '00003.ppm', '00004.ppm', '00005.ppm', '00006.ppm', '00007.ppm', '00008.ppm', '00009.ppm']\n",
      "--------------------------------------------------\n",
      "Directory: C:/Users/Venu Gopal/Downloads/TrainIJYOLO2013\\TrainIJYOLO2013\\14\n",
      "Subdirectories: []\n",
      "Files: ['00000.ppm', '00001.ppm', '00002.ppm', '00003.ppm', '00004.ppm', '00005.ppm', '00006.ppm', '00007.ppm', '00008.ppm', '00009.ppm']\n",
      "--------------------------------------------------\n",
      "Directory: C:/Users/Venu Gopal/Downloads/TrainIJYOLO2013\\TrainIJYOLO2013\\15\n",
      "Subdirectories: []\n",
      "Files: ['00000.ppm', '00001.ppm', '00002.ppm', '00003.ppm', '00004.ppm', '00005.ppm', '00006.ppm', '00007.ppm', '00008.ppm', '00009.ppm']\n",
      "--------------------------------------------------\n",
      "Directory: C:/Users/Venu Gopal/Downloads/TrainIJYOLO2013\\TrainIJYOLO2013\\16\n",
      "Subdirectories: []\n",
      "Files: ['00000.ppm', '00001.ppm', '00002.ppm', '00003.ppm', '00004.ppm', '00005.ppm', '00006.ppm']\n",
      "--------------------------------------------------\n",
      "Directory: C:/Users/Venu Gopal/Downloads/TrainIJYOLO2013\\TrainIJYOLO2013\\17\n",
      "Subdirectories: []\n",
      "Files: ['00000.ppm', '00001.ppm', '00002.ppm', '00003.ppm', '00004.ppm', '00005.ppm', '00006.ppm', '00007.ppm', '00008.ppm', '00009.ppm']\n",
      "--------------------------------------------------\n",
      "Directory: C:/Users/Venu Gopal/Downloads/TrainIJYOLO2013\\TrainIJYOLO2013\\18\n",
      "Subdirectories: []\n",
      "Files: ['00000.ppm', '00001.ppm', '00002.ppm', '00003.ppm', '00004.ppm', '00005.ppm', '00006.ppm', '00007.ppm', '00008.ppm', '00009.ppm']\n",
      "--------------------------------------------------\n",
      "Directory: C:/Users/Venu Gopal/Downloads/TrainIJYOLO2013\\TrainIJYOLO2013\\19\n",
      "Subdirectories: []\n",
      "Files: ['00000.ppm', '00001.ppm']\n",
      "--------------------------------------------------\n",
      "Directory: C:/Users/Venu Gopal/Downloads/TrainIJYOLO2013\\TrainIJYOLO2013\\20\n",
      "Subdirectories: []\n",
      "Files: ['00000.ppm', '00001.ppm', '00002.ppm', '00003.ppm', '00004.ppm', '00005.ppm', '00006.ppm', '00007.ppm', '00008.ppm']\n",
      "--------------------------------------------------\n",
      "Directory: C:/Users/Venu Gopal/Downloads/TrainIJYOLO2013\\TrainIJYOLO2013\\21\n",
      "Subdirectories: []\n",
      "Files: ['00000.ppm', '00001.ppm', '00002.ppm', '00003.ppm', '00004.ppm']\n",
      "--------------------------------------------------\n",
      "Directory: C:/Users/Venu Gopal/Downloads/TrainIJYOLO2013\\TrainIJYOLO2013\\22\n",
      "Subdirectories: []\n",
      "Files: ['00000.ppm', '00001.ppm', '00002.ppm', '00003.ppm', '00004.ppm', '00005.ppm', '00006.ppm', '00007.ppm', '00008.ppm']\n",
      "--------------------------------------------------\n",
      "Directory: C:/Users/Venu Gopal/Downloads/TrainIJYOLO2013\\TrainIJYOLO2013\\23\n",
      "Subdirectories: []\n",
      "Files: ['00000.ppm', '00001.ppm', '00002.ppm', '00003.ppm', '00004.ppm', '00005.ppm', '00006.ppm', '00007.ppm', '00008.ppm', '00009.ppm']\n",
      "--------------------------------------------------\n",
      "Directory: C:/Users/Venu Gopal/Downloads/TrainIJYOLO2013\\TrainIJYOLO2013\\24\n",
      "Subdirectories: []\n",
      "Files: ['00000.ppm', '00001.ppm']\n",
      "--------------------------------------------------\n",
      "Directory: C:/Users/Venu Gopal/Downloads/TrainIJYOLO2013\\TrainIJYOLO2013\\25\n",
      "Subdirectories: []\n",
      "Files: ['00000.ppm', '00001.ppm', '00002.ppm', '00003.ppm', '00004.ppm', '00005.ppm', '00006.ppm', '00007.ppm', '00008.ppm', '00009.ppm']\n",
      "--------------------------------------------------\n",
      "Directory: C:/Users/Venu Gopal/Downloads/TrainIJYOLO2013\\TrainIJYOLO2013\\26\n",
      "Subdirectories: []\n",
      "Files: ['00000.ppm', '00001.ppm', '00002.ppm', '00003.ppm', '00004.ppm', '00005.ppm', '00006.ppm', '00007.ppm', '00008.ppm', '00009.ppm']\n",
      "--------------------------------------------------\n",
      "Directory: C:/Users/Venu Gopal/Downloads/TrainIJYOLO2013\\TrainIJYOLO2013\\27\n",
      "Subdirectories: []\n",
      "Files: ['00000.ppm', '00001.ppm', '00002.ppm']\n",
      "--------------------------------------------------\n",
      "Directory: C:/Users/Venu Gopal/Downloads/TrainIJYOLO2013\\TrainIJYOLO2013\\28\n",
      "Subdirectories: []\n",
      "Files: ['00000.ppm', '00001.ppm', '00002.ppm', '00003.ppm', '00004.ppm', '00005.ppm', '00006.ppm', '00007.ppm', '00008.ppm']\n",
      "--------------------------------------------------\n",
      "Directory: C:/Users/Venu Gopal/Downloads/TrainIJYOLO2013\\TrainIJYOLO2013\\29\n",
      "Subdirectories: []\n",
      "Files: ['00000.ppm', '00001.ppm', '00002.ppm', '00003.ppm']\n",
      "--------------------------------------------------\n",
      "Directory: C:/Users/Venu Gopal/Downloads/TrainIJYOLO2013\\TrainIJYOLO2013\\30\n",
      "Subdirectories: []\n",
      "Files: ['00000.ppm', '00001.ppm', '00002.ppm', '00003.ppm', '00004.ppm', '00005.ppm', '00006.ppm', '00007.ppm', '00008.ppm', '00009.ppm']\n",
      "--------------------------------------------------\n",
      "Directory: C:/Users/Venu Gopal/Downloads/TrainIJYOLO2013\\TrainIJYOLO2013\\31\n",
      "Subdirectories: []\n",
      "Files: ['00000.ppm']\n",
      "--------------------------------------------------\n",
      "Directory: C:/Users/Venu Gopal/Downloads/TrainIJYOLO2013\\TrainIJYOLO2013\\32\n",
      "Subdirectories: []\n",
      "Files: ['00000.ppm', '00001.ppm', '00002.ppm']\n",
      "--------------------------------------------------\n",
      "Directory: C:/Users/Venu Gopal/Downloads/TrainIJYOLO2013\\TrainIJYOLO2013\\33\n",
      "Subdirectories: []\n",
      "Files: ['00000.ppm', '00001.ppm', '00002.ppm', '00003.ppm', '00004.ppm', '00005.ppm', '00006.ppm', '00007.ppm', '00008.ppm', '00009.ppm']\n",
      "--------------------------------------------------\n",
      "Directory: C:/Users/Venu Gopal/Downloads/TrainIJYOLO2013\\TrainIJYOLO2013\\34\n",
      "Subdirectories: []\n",
      "Files: ['00000.ppm', '00001.ppm', '00002.ppm', '00003.ppm', '00004.ppm', '00005.ppm', '00006.ppm', '00007.ppm', '00008.ppm']\n",
      "--------------------------------------------------\n",
      "Directory: C:/Users/Venu Gopal/Downloads/TrainIJYOLO2013\\TrainIJYOLO2013\\35\n",
      "Subdirectories: []\n",
      "Files: ['00000.ppm', '00001.ppm', '00002.ppm', '00003.ppm', '00004.ppm', '00005.ppm', '00006.ppm', '00007.ppm', '00008.ppm', '00009.ppm']\n",
      "--------------------------------------------------\n",
      "Directory: C:/Users/Venu Gopal/Downloads/TrainIJYOLO2013\\TrainIJYOLO2013\\36\n",
      "Subdirectories: []\n",
      "Files: ['00000.ppm', '00001.ppm', '00002.ppm', '00003.ppm', '00004.ppm', '00005.ppm', '00006.ppm', '00007.ppm']\n",
      "--------------------------------------------------\n",
      "Directory: C:/Users/Venu Gopal/Downloads/TrainIJYOLO2013\\TrainIJYOLO2013\\37\n",
      "Subdirectories: []\n",
      "Files: ['00000.ppm']\n",
      "--------------------------------------------------\n",
      "Directory: C:/Users/Venu Gopal/Downloads/TrainIJYOLO2013\\TrainIJYOLO2013\\38\n",
      "Subdirectories: []\n",
      "Files: ['00000.ppm', '00001.ppm', '00002.ppm', '00003.ppm', '00004.ppm', '00005.ppm', '00006.ppm', '00007.ppm', '00008.ppm', '00009.ppm']\n",
      "--------------------------------------------------\n",
      "Directory: C:/Users/Venu Gopal/Downloads/TrainIJYOLO2013\\TrainIJYOLO2013\\39\n",
      "Subdirectories: []\n",
      "Files: ['00000.ppm', '00001.ppm', '00002.ppm', '00003.ppm']\n",
      "--------------------------------------------------\n",
      "Directory: C:/Users/Venu Gopal/Downloads/TrainIJYOLO2013\\TrainIJYOLO2013\\40\n",
      "Subdirectories: []\n",
      "Files: ['00000.ppm', '00001.ppm', '00002.ppm', '00003.ppm', '00004.ppm', '00005.ppm', '00006.ppm', '00007.ppm']\n",
      "--------------------------------------------------\n",
      "Directory: C:/Users/Venu Gopal/Downloads/TrainIJYOLO2013\\TrainIJYOLO2013\\41\n",
      "Subdirectories: []\n",
      "Files: ['00000.ppm', '00001.ppm', '00002.ppm', '00003.ppm', '00004.ppm', '00005.ppm']\n",
      "--------------------------------------------------\n",
      "Directory: C:/Users/Venu Gopal/Downloads/TrainIJYOLO2013\\TrainIJYOLO2013\\42\n",
      "Subdirectories: []\n",
      "Files: ['00000.ppm', '00001.ppm', '00002.ppm', '00003.ppm', '00004.ppm', '00005.ppm', '00006.ppm']\n",
      "--------------------------------------------------\n",
      "Directory: C:/Users/Venu Gopal/Downloads/TrainIJYOLO2013\\TrainIJYOLO2013\\train\n",
      "Subdirectories: ['images', 'labels']\n",
      "Files: []\n",
      "--------------------------------------------------\n",
      "Directory: C:/Users/Venu Gopal/Downloads/TrainIJYOLO2013\\TrainIJYOLO2013\\train\\images\n",
      "Subdirectories: []\n",
      "Files: ['00000.ppm', '00001.ppm', '00002.ppm', '00003.ppm', '00004.ppm', '00005.ppm', '00006.ppm', '00007.ppm', '00008.ppm', '00009.ppm']\n",
      "--------------------------------------------------\n",
      "Directory: C:/Users/Venu Gopal/Downloads/TrainIJYOLO2013\\TrainIJYOLO2013\\train\\labels\n",
      "Subdirectories: []\n",
      "Files: ['00000.txt', '00001.txt', '00002.txt', '00003.txt', '00004.txt', '00005.txt', '00006.txt', '00007.txt', '00008.txt', '00009.txt']\n",
      "--------------------------------------------------\n",
      "Directory: C:/Users/Venu Gopal/Downloads/TrainIJYOLO2013\\TrainIJYOLO2013\\val\n",
      "Subdirectories: ['images', 'labels']\n",
      "Files: []\n",
      "--------------------------------------------------\n",
      "Directory: C:/Users/Venu Gopal/Downloads/TrainIJYOLO2013\\TrainIJYOLO2013\\val\\images\n",
      "Subdirectories: []\n",
      "Files: ['00480.ppm', '00481.ppm', '00482.ppm', '00483.ppm', '00484.ppm', '00485.ppm', '00486.ppm', '00487.ppm', '00488.ppm', '00489.ppm']\n",
      "--------------------------------------------------\n",
      "Directory: C:/Users/Venu Gopal/Downloads/TrainIJYOLO2013\\TrainIJYOLO2013\\val\\labels\n",
      "Subdirectories: []\n",
      "Files: ['00480.txt', '00481.txt', '00482.txt', '00483.txt', '00484.txt', '00485.txt', '00486.txt', '00487.txt', '00488.txt', '00490.txt']\n",
      "--------------------------------------------------\n"
     ]
    }
   ],
   "source": [
    "# Check what's actually in your TrainIJYOLO2013 folder\n",
    "base_path = \"C:/Users/Venu Gopal/Downloads/TrainIJYOLO2013\"\n",
    "print(\"Contents of TrainIJYOLO2013 folder:\")\n",
    "for root, dirs, files in os.walk(base_path):\n",
    "    print(f\"Directory: {root}\")\n",
    "    print(f\"Subdirectories: {dirs}\")\n",
    "    print(f\"Files: {files[:10]}\")  # Show first 10 files\n",
    "    print(\"-\" * 50)\n"
   ]
  },
  {
   "cell_type": "markdown",
   "id": "04e11e32",
   "metadata": {},
   "source": [
    "Move Images to Correct Folders "
   ]
  },
  {
   "cell_type": "code",
   "execution_count": 10,
   "id": "d1fe10f0",
   "metadata": {},
   "outputs": [],
   "source": [
    "import shutil\n",
    "import os\n",
    "\n",
    "# Update this path to where your images actually are\n",
    "actual_images_location = \"path/to/your/actual/images\"  # UPDATE THIS!\n",
    "\n",
    "base_dir = \"C:/Users/Venu Gopal/Downloads/TrainIJYOLO2013/TrainIJYOLO2013\"\n",
    "train_images_dir = os.path.join(base_dir, \"train/images\")\n",
    "val_images_dir = os.path.join(base_dir, \"val/images\")\n",
    "\n",
    "# Move training images (00000.ppm to 00479.ppm)\n",
    "for i in range(480):\n",
    "    img_name = f\"{i:05d}.ppm\"\n",
    "    src = os.path.join(actual_images_location, img_name)\n",
    "    dst = os.path.join(train_images_dir, img_name)\n",
    "    if os.path.exists(src):\n",
    "        shutil.copy2(src, dst)  # Use copy2 instead of move to keep originals\n",
    "        print(f\"Copied {img_name} to train\")\n",
    "\n",
    "# Move validation images (00480.ppm to 00599.ppm)\n",
    "for i in range(480, 600):\n",
    "    img_name = f\"{i:05d}.ppm\"\n",
    "    src = os.path.join(actual_images_location, img_name)\n",
    "    dst = os.path.join(val_images_dir, img_name)\n",
    "    if os.path.exists(src):\n",
    "        shutil.copy2(src, dst)\n",
    "        print(f\"Copied {img_name} to val\")\n"
   ]
  },
  {
   "cell_type": "markdown",
   "id": "44482365",
   "metadata": {},
   "source": [
    "Convert Images"
   ]
  },
  {
   "cell_type": "code",
   "execution_count": 12,
   "id": "fdb4070b",
   "metadata": {},
   "outputs": [
    {
     "name": "stdout",
     "output_type": "stream",
     "text": [
      "Converted 00000.ppm to 00000.jpg\n",
      "Converted 00001.ppm to 00001.jpg\n",
      "Converted 00002.ppm to 00002.jpg\n",
      "Converted 00003.ppm to 00003.jpg\n",
      "Converted 00004.ppm to 00004.jpg\n",
      "Converted 00005.ppm to 00005.jpg\n",
      "Converted 00006.ppm to 00006.jpg\n",
      "Converted 00007.ppm to 00007.jpg\n",
      "Converted 00008.ppm to 00008.jpg\n",
      "Converted 00009.ppm to 00009.jpg\n",
      "Converted 00010.ppm to 00010.jpg\n",
      "Converted 00011.ppm to 00011.jpg\n",
      "Converted 00012.ppm to 00012.jpg\n",
      "Converted 00013.ppm to 00013.jpg\n",
      "Converted 00014.ppm to 00014.jpg\n",
      "Converted 00015.ppm to 00015.jpg\n",
      "Converted 00016.ppm to 00016.jpg\n",
      "Converted 00017.ppm to 00017.jpg\n",
      "Converted 00018.ppm to 00018.jpg\n",
      "Converted 00019.ppm to 00019.jpg\n",
      "Converted 00020.ppm to 00020.jpg\n",
      "Converted 00021.ppm to 00021.jpg\n",
      "Converted 00022.ppm to 00022.jpg\n",
      "Converted 00023.ppm to 00023.jpg\n",
      "Converted 00024.ppm to 00024.jpg\n",
      "Converted 00025.ppm to 00025.jpg\n",
      "Converted 00026.ppm to 00026.jpg\n",
      "Converted 00027.ppm to 00027.jpg\n",
      "Converted 00028.ppm to 00028.jpg\n",
      "Converted 00029.ppm to 00029.jpg\n",
      "Converted 00030.ppm to 00030.jpg\n",
      "Converted 00031.ppm to 00031.jpg\n",
      "Converted 00032.ppm to 00032.jpg\n",
      "Converted 00033.ppm to 00033.jpg\n",
      "Converted 00034.ppm to 00034.jpg\n",
      "Converted 00035.ppm to 00035.jpg\n",
      "Converted 00036.ppm to 00036.jpg\n",
      "Converted 00037.ppm to 00037.jpg\n",
      "Converted 00038.ppm to 00038.jpg\n",
      "Converted 00039.ppm to 00039.jpg\n",
      "Converted 00040.ppm to 00040.jpg\n",
      "Converted 00041.ppm to 00041.jpg\n",
      "Converted 00042.ppm to 00042.jpg\n",
      "Converted 00043.ppm to 00043.jpg\n",
      "Converted 00044.ppm to 00044.jpg\n",
      "Converted 00045.ppm to 00045.jpg\n",
      "Converted 00046.ppm to 00046.jpg\n",
      "Converted 00047.ppm to 00047.jpg\n",
      "Converted 00048.ppm to 00048.jpg\n",
      "Converted 00049.ppm to 00049.jpg\n",
      "Converted 00050.ppm to 00050.jpg\n",
      "Converted 00051.ppm to 00051.jpg\n",
      "Converted 00052.ppm to 00052.jpg\n",
      "Converted 00053.ppm to 00053.jpg\n",
      "Converted 00054.ppm to 00054.jpg\n",
      "Converted 00055.ppm to 00055.jpg\n",
      "Converted 00056.ppm to 00056.jpg\n",
      "Converted 00057.ppm to 00057.jpg\n",
      "Converted 00058.ppm to 00058.jpg\n",
      "Converted 00059.ppm to 00059.jpg\n",
      "Converted 00060.ppm to 00060.jpg\n",
      "Converted 00061.ppm to 00061.jpg\n",
      "Converted 00062.ppm to 00062.jpg\n",
      "Converted 00063.ppm to 00063.jpg\n",
      "Converted 00064.ppm to 00064.jpg\n",
      "Converted 00065.ppm to 00065.jpg\n",
      "Converted 00066.ppm to 00066.jpg\n",
      "Converted 00067.ppm to 00067.jpg\n",
      "Converted 00068.ppm to 00068.jpg\n",
      "Converted 00069.ppm to 00069.jpg\n",
      "Converted 00070.ppm to 00070.jpg\n",
      "Converted 00071.ppm to 00071.jpg\n",
      "Converted 00072.ppm to 00072.jpg\n",
      "Converted 00073.ppm to 00073.jpg\n",
      "Converted 00074.ppm to 00074.jpg\n",
      "Converted 00075.ppm to 00075.jpg\n",
      "Converted 00076.ppm to 00076.jpg\n",
      "Converted 00077.ppm to 00077.jpg\n",
      "Converted 00078.ppm to 00078.jpg\n",
      "Converted 00079.ppm to 00079.jpg\n",
      "Converted 00080.ppm to 00080.jpg\n",
      "Converted 00081.ppm to 00081.jpg\n",
      "Converted 00082.ppm to 00082.jpg\n",
      "Converted 00083.ppm to 00083.jpg\n",
      "Converted 00084.ppm to 00084.jpg\n",
      "Converted 00085.ppm to 00085.jpg\n",
      "Converted 00086.ppm to 00086.jpg\n",
      "Converted 00087.ppm to 00087.jpg\n",
      "Converted 00088.ppm to 00088.jpg\n",
      "Converted 00089.ppm to 00089.jpg\n",
      "Converted 00090.ppm to 00090.jpg\n",
      "Converted 00091.ppm to 00091.jpg\n",
      "Converted 00092.ppm to 00092.jpg\n",
      "Converted 00093.ppm to 00093.jpg\n",
      "Converted 00094.ppm to 00094.jpg\n",
      "Converted 00095.ppm to 00095.jpg\n",
      "Converted 00096.ppm to 00096.jpg\n",
      "Converted 00097.ppm to 00097.jpg\n",
      "Converted 00098.ppm to 00098.jpg\n",
      "Converted 00099.ppm to 00099.jpg\n",
      "Converted 00100.ppm to 00100.jpg\n",
      "Converted 00101.ppm to 00101.jpg\n",
      "Converted 00102.ppm to 00102.jpg\n",
      "Converted 00103.ppm to 00103.jpg\n",
      "Converted 00104.ppm to 00104.jpg\n",
      "Converted 00105.ppm to 00105.jpg\n",
      "Converted 00106.ppm to 00106.jpg\n",
      "Converted 00107.ppm to 00107.jpg\n",
      "Converted 00108.ppm to 00108.jpg\n",
      "Converted 00109.ppm to 00109.jpg\n",
      "Converted 00110.ppm to 00110.jpg\n",
      "Converted 00111.ppm to 00111.jpg\n",
      "Converted 00112.ppm to 00112.jpg\n",
      "Converted 00113.ppm to 00113.jpg\n",
      "Converted 00114.ppm to 00114.jpg\n",
      "Converted 00115.ppm to 00115.jpg\n",
      "Converted 00116.ppm to 00116.jpg\n",
      "Converted 00117.ppm to 00117.jpg\n",
      "Converted 00118.ppm to 00118.jpg\n",
      "Converted 00119.ppm to 00119.jpg\n",
      "Converted 00120.ppm to 00120.jpg\n",
      "Converted 00121.ppm to 00121.jpg\n",
      "Converted 00122.ppm to 00122.jpg\n",
      "Converted 00123.ppm to 00123.jpg\n",
      "Converted 00124.ppm to 00124.jpg\n",
      "Converted 00125.ppm to 00125.jpg\n",
      "Converted 00126.ppm to 00126.jpg\n",
      "Converted 00127.ppm to 00127.jpg\n",
      "Converted 00128.ppm to 00128.jpg\n",
      "Converted 00129.ppm to 00129.jpg\n",
      "Converted 00130.ppm to 00130.jpg\n",
      "Converted 00131.ppm to 00131.jpg\n",
      "Converted 00132.ppm to 00132.jpg\n",
      "Converted 00133.ppm to 00133.jpg\n",
      "Converted 00134.ppm to 00134.jpg\n",
      "Converted 00135.ppm to 00135.jpg\n",
      "Converted 00136.ppm to 00136.jpg\n",
      "Converted 00137.ppm to 00137.jpg\n",
      "Converted 00138.ppm to 00138.jpg\n",
      "Converted 00139.ppm to 00139.jpg\n",
      "Converted 00140.ppm to 00140.jpg\n",
      "Converted 00141.ppm to 00141.jpg\n",
      "Converted 00142.ppm to 00142.jpg\n",
      "Converted 00143.ppm to 00143.jpg\n",
      "Converted 00144.ppm to 00144.jpg\n",
      "Converted 00145.ppm to 00145.jpg\n",
      "Converted 00146.ppm to 00146.jpg\n",
      "Converted 00147.ppm to 00147.jpg\n",
      "Converted 00148.ppm to 00148.jpg\n",
      "Converted 00149.ppm to 00149.jpg\n",
      "Converted 00150.ppm to 00150.jpg\n",
      "Converted 00151.ppm to 00151.jpg\n",
      "Converted 00152.ppm to 00152.jpg\n",
      "Converted 00153.ppm to 00153.jpg\n",
      "Converted 00154.ppm to 00154.jpg\n",
      "Converted 00155.ppm to 00155.jpg\n",
      "Converted 00156.ppm to 00156.jpg\n",
      "Converted 00157.ppm to 00157.jpg\n",
      "Converted 00158.ppm to 00158.jpg\n",
      "Converted 00159.ppm to 00159.jpg\n",
      "Converted 00160.ppm to 00160.jpg\n",
      "Converted 00161.ppm to 00161.jpg\n",
      "Converted 00162.ppm to 00162.jpg\n",
      "Converted 00163.ppm to 00163.jpg\n",
      "Converted 00164.ppm to 00164.jpg\n",
      "Converted 00165.ppm to 00165.jpg\n",
      "Converted 00166.ppm to 00166.jpg\n",
      "Converted 00167.ppm to 00167.jpg\n",
      "Converted 00168.ppm to 00168.jpg\n",
      "Converted 00169.ppm to 00169.jpg\n",
      "Converted 00170.ppm to 00170.jpg\n",
      "Converted 00171.ppm to 00171.jpg\n",
      "Converted 00172.ppm to 00172.jpg\n",
      "Converted 00173.ppm to 00173.jpg\n",
      "Converted 00174.ppm to 00174.jpg\n",
      "Converted 00175.ppm to 00175.jpg\n",
      "Converted 00176.ppm to 00176.jpg\n",
      "Converted 00177.ppm to 00177.jpg\n",
      "Converted 00178.ppm to 00178.jpg\n",
      "Converted 00179.ppm to 00179.jpg\n",
      "Converted 00180.ppm to 00180.jpg\n",
      "Converted 00181.ppm to 00181.jpg\n",
      "Converted 00182.ppm to 00182.jpg\n",
      "Converted 00183.ppm to 00183.jpg\n",
      "Converted 00184.ppm to 00184.jpg\n",
      "Converted 00185.ppm to 00185.jpg\n",
      "Converted 00186.ppm to 00186.jpg\n",
      "Converted 00187.ppm to 00187.jpg\n",
      "Converted 00188.ppm to 00188.jpg\n",
      "Converted 00189.ppm to 00189.jpg\n",
      "Converted 00190.ppm to 00190.jpg\n",
      "Converted 00191.ppm to 00191.jpg\n",
      "Converted 00192.ppm to 00192.jpg\n",
      "Converted 00193.ppm to 00193.jpg\n",
      "Converted 00194.ppm to 00194.jpg\n",
      "Converted 00195.ppm to 00195.jpg\n",
      "Converted 00196.ppm to 00196.jpg\n",
      "Converted 00197.ppm to 00197.jpg\n",
      "Converted 00198.ppm to 00198.jpg\n",
      "Converted 00199.ppm to 00199.jpg\n",
      "Converted 00200.ppm to 00200.jpg\n",
      "Converted 00201.ppm to 00201.jpg\n",
      "Converted 00202.ppm to 00202.jpg\n",
      "Converted 00203.ppm to 00203.jpg\n",
      "Converted 00204.ppm to 00204.jpg\n",
      "Converted 00205.ppm to 00205.jpg\n",
      "Converted 00206.ppm to 00206.jpg\n",
      "Converted 00207.ppm to 00207.jpg\n",
      "Converted 00208.ppm to 00208.jpg\n",
      "Converted 00209.ppm to 00209.jpg\n",
      "Converted 00210.ppm to 00210.jpg\n",
      "Converted 00211.ppm to 00211.jpg\n",
      "Converted 00212.ppm to 00212.jpg\n",
      "Converted 00213.ppm to 00213.jpg\n",
      "Converted 00214.ppm to 00214.jpg\n",
      "Converted 00215.ppm to 00215.jpg\n",
      "Converted 00216.ppm to 00216.jpg\n",
      "Converted 00217.ppm to 00217.jpg\n",
      "Converted 00218.ppm to 00218.jpg\n",
      "Converted 00219.ppm to 00219.jpg\n",
      "Converted 00220.ppm to 00220.jpg\n",
      "Converted 00221.ppm to 00221.jpg\n",
      "Converted 00222.ppm to 00222.jpg\n",
      "Converted 00223.ppm to 00223.jpg\n",
      "Converted 00224.ppm to 00224.jpg\n",
      "Converted 00225.ppm to 00225.jpg\n",
      "Converted 00226.ppm to 00226.jpg\n",
      "Converted 00227.ppm to 00227.jpg\n",
      "Converted 00228.ppm to 00228.jpg\n",
      "Converted 00229.ppm to 00229.jpg\n",
      "Converted 00230.ppm to 00230.jpg\n",
      "Converted 00231.ppm to 00231.jpg\n",
      "Converted 00232.ppm to 00232.jpg\n",
      "Converted 00233.ppm to 00233.jpg\n",
      "Converted 00234.ppm to 00234.jpg\n",
      "Converted 00235.ppm to 00235.jpg\n",
      "Converted 00236.ppm to 00236.jpg\n",
      "Converted 00237.ppm to 00237.jpg\n",
      "Converted 00238.ppm to 00238.jpg\n",
      "Converted 00239.ppm to 00239.jpg\n",
      "Converted 00240.ppm to 00240.jpg\n",
      "Converted 00241.ppm to 00241.jpg\n",
      "Converted 00242.ppm to 00242.jpg\n",
      "Converted 00243.ppm to 00243.jpg\n",
      "Converted 00244.ppm to 00244.jpg\n",
      "Converted 00245.ppm to 00245.jpg\n",
      "Converted 00246.ppm to 00246.jpg\n",
      "Converted 00247.ppm to 00247.jpg\n",
      "Converted 00248.ppm to 00248.jpg\n",
      "Converted 00249.ppm to 00249.jpg\n",
      "Converted 00250.ppm to 00250.jpg\n",
      "Converted 00251.ppm to 00251.jpg\n",
      "Converted 00252.ppm to 00252.jpg\n",
      "Converted 00253.ppm to 00253.jpg\n",
      "Converted 00254.ppm to 00254.jpg\n",
      "Converted 00255.ppm to 00255.jpg\n",
      "Converted 00256.ppm to 00256.jpg\n",
      "Converted 00257.ppm to 00257.jpg\n",
      "Converted 00258.ppm to 00258.jpg\n",
      "Converted 00259.ppm to 00259.jpg\n",
      "Converted 00260.ppm to 00260.jpg\n",
      "Converted 00261.ppm to 00261.jpg\n",
      "Converted 00262.ppm to 00262.jpg\n",
      "Converted 00263.ppm to 00263.jpg\n",
      "Converted 00264.ppm to 00264.jpg\n",
      "Converted 00265.ppm to 00265.jpg\n",
      "Converted 00266.ppm to 00266.jpg\n",
      "Converted 00267.ppm to 00267.jpg\n",
      "Converted 00268.ppm to 00268.jpg\n",
      "Converted 00269.ppm to 00269.jpg\n",
      "Converted 00270.ppm to 00270.jpg\n",
      "Converted 00271.ppm to 00271.jpg\n",
      "Converted 00272.ppm to 00272.jpg\n",
      "Converted 00273.ppm to 00273.jpg\n",
      "Converted 00274.ppm to 00274.jpg\n",
      "Converted 00275.ppm to 00275.jpg\n",
      "Converted 00276.ppm to 00276.jpg\n",
      "Converted 00277.ppm to 00277.jpg\n",
      "Converted 00278.ppm to 00278.jpg\n",
      "Converted 00279.ppm to 00279.jpg\n",
      "Converted 00280.ppm to 00280.jpg\n",
      "Converted 00281.ppm to 00281.jpg\n",
      "Converted 00282.ppm to 00282.jpg\n",
      "Converted 00283.ppm to 00283.jpg\n",
      "Converted 00284.ppm to 00284.jpg\n",
      "Converted 00285.ppm to 00285.jpg\n",
      "Converted 00286.ppm to 00286.jpg\n",
      "Converted 00287.ppm to 00287.jpg\n",
      "Converted 00288.ppm to 00288.jpg\n",
      "Converted 00289.ppm to 00289.jpg\n",
      "Converted 00290.ppm to 00290.jpg\n",
      "Converted 00291.ppm to 00291.jpg\n",
      "Converted 00292.ppm to 00292.jpg\n",
      "Converted 00293.ppm to 00293.jpg\n",
      "Converted 00294.ppm to 00294.jpg\n",
      "Converted 00295.ppm to 00295.jpg\n",
      "Converted 00296.ppm to 00296.jpg\n",
      "Converted 00297.ppm to 00297.jpg\n",
      "Converted 00298.ppm to 00298.jpg\n",
      "Converted 00299.ppm to 00299.jpg\n",
      "Converted 00300.ppm to 00300.jpg\n",
      "Converted 00301.ppm to 00301.jpg\n",
      "Converted 00302.ppm to 00302.jpg\n",
      "Converted 00303.ppm to 00303.jpg\n",
      "Converted 00304.ppm to 00304.jpg\n",
      "Converted 00305.ppm to 00305.jpg\n",
      "Converted 00306.ppm to 00306.jpg\n",
      "Converted 00307.ppm to 00307.jpg\n",
      "Converted 00308.ppm to 00308.jpg\n",
      "Converted 00309.ppm to 00309.jpg\n",
      "Converted 00310.ppm to 00310.jpg\n",
      "Converted 00311.ppm to 00311.jpg\n",
      "Converted 00312.ppm to 00312.jpg\n",
      "Converted 00313.ppm to 00313.jpg\n",
      "Converted 00314.ppm to 00314.jpg\n",
      "Converted 00315.ppm to 00315.jpg\n",
      "Converted 00316.ppm to 00316.jpg\n",
      "Converted 00317.ppm to 00317.jpg\n",
      "Converted 00318.ppm to 00318.jpg\n",
      "Converted 00319.ppm to 00319.jpg\n",
      "Converted 00320.ppm to 00320.jpg\n",
      "Converted 00321.ppm to 00321.jpg\n",
      "Converted 00322.ppm to 00322.jpg\n",
      "Converted 00323.ppm to 00323.jpg\n",
      "Converted 00324.ppm to 00324.jpg\n",
      "Converted 00325.ppm to 00325.jpg\n",
      "Converted 00326.ppm to 00326.jpg\n",
      "Converted 00327.ppm to 00327.jpg\n",
      "Converted 00328.ppm to 00328.jpg\n",
      "Converted 00329.ppm to 00329.jpg\n",
      "Converted 00330.ppm to 00330.jpg\n",
      "Converted 00331.ppm to 00331.jpg\n",
      "Converted 00332.ppm to 00332.jpg\n",
      "Converted 00333.ppm to 00333.jpg\n",
      "Converted 00334.ppm to 00334.jpg\n",
      "Converted 00335.ppm to 00335.jpg\n",
      "Converted 00336.ppm to 00336.jpg\n",
      "Converted 00337.ppm to 00337.jpg\n",
      "Converted 00338.ppm to 00338.jpg\n",
      "Converted 00339.ppm to 00339.jpg\n",
      "Converted 00340.ppm to 00340.jpg\n",
      "Converted 00341.ppm to 00341.jpg\n",
      "Converted 00342.ppm to 00342.jpg\n",
      "Converted 00343.ppm to 00343.jpg\n",
      "Converted 00344.ppm to 00344.jpg\n",
      "Converted 00345.ppm to 00345.jpg\n",
      "Converted 00346.ppm to 00346.jpg\n",
      "Converted 00347.ppm to 00347.jpg\n",
      "Converted 00348.ppm to 00348.jpg\n",
      "Converted 00349.ppm to 00349.jpg\n",
      "Converted 00350.ppm to 00350.jpg\n",
      "Converted 00351.ppm to 00351.jpg\n",
      "Converted 00352.ppm to 00352.jpg\n",
      "Converted 00353.ppm to 00353.jpg\n",
      "Converted 00354.ppm to 00354.jpg\n",
      "Converted 00355.ppm to 00355.jpg\n",
      "Converted 00356.ppm to 00356.jpg\n",
      "Converted 00357.ppm to 00357.jpg\n",
      "Converted 00358.ppm to 00358.jpg\n",
      "Converted 00359.ppm to 00359.jpg\n",
      "Converted 00360.ppm to 00360.jpg\n",
      "Converted 00361.ppm to 00361.jpg\n",
      "Converted 00362.ppm to 00362.jpg\n",
      "Converted 00363.ppm to 00363.jpg\n",
      "Converted 00364.ppm to 00364.jpg\n",
      "Converted 00365.ppm to 00365.jpg\n",
      "Converted 00366.ppm to 00366.jpg\n",
      "Converted 00367.ppm to 00367.jpg\n",
      "Converted 00368.ppm to 00368.jpg\n",
      "Converted 00369.ppm to 00369.jpg\n",
      "Converted 00370.ppm to 00370.jpg\n",
      "Converted 00371.ppm to 00371.jpg\n",
      "Converted 00372.ppm to 00372.jpg\n",
      "Converted 00373.ppm to 00373.jpg\n",
      "Converted 00374.ppm to 00374.jpg\n",
      "Converted 00375.ppm to 00375.jpg\n",
      "Converted 00376.ppm to 00376.jpg\n",
      "Converted 00377.ppm to 00377.jpg\n",
      "Converted 00378.ppm to 00378.jpg\n",
      "Converted 00379.ppm to 00379.jpg\n",
      "Converted 00380.ppm to 00380.jpg\n",
      "Converted 00381.ppm to 00381.jpg\n",
      "Converted 00382.ppm to 00382.jpg\n",
      "Converted 00383.ppm to 00383.jpg\n",
      "Converted 00384.ppm to 00384.jpg\n",
      "Converted 00385.ppm to 00385.jpg\n",
      "Converted 00386.ppm to 00386.jpg\n",
      "Converted 00387.ppm to 00387.jpg\n",
      "Converted 00388.ppm to 00388.jpg\n",
      "Converted 00389.ppm to 00389.jpg\n",
      "Converted 00390.ppm to 00390.jpg\n",
      "Converted 00391.ppm to 00391.jpg\n",
      "Converted 00392.ppm to 00392.jpg\n",
      "Converted 00393.ppm to 00393.jpg\n",
      "Converted 00394.ppm to 00394.jpg\n",
      "Converted 00395.ppm to 00395.jpg\n",
      "Converted 00396.ppm to 00396.jpg\n",
      "Converted 00397.ppm to 00397.jpg\n",
      "Converted 00398.ppm to 00398.jpg\n",
      "Converted 00399.ppm to 00399.jpg\n",
      "Converted 00400.ppm to 00400.jpg\n",
      "Converted 00401.ppm to 00401.jpg\n",
      "Converted 00402.ppm to 00402.jpg\n",
      "Converted 00403.ppm to 00403.jpg\n",
      "Converted 00404.ppm to 00404.jpg\n",
      "Converted 00405.ppm to 00405.jpg\n",
      "Converted 00406.ppm to 00406.jpg\n",
      "Converted 00407.ppm to 00407.jpg\n",
      "Converted 00408.ppm to 00408.jpg\n",
      "Converted 00409.ppm to 00409.jpg\n",
      "Converted 00410.ppm to 00410.jpg\n",
      "Converted 00411.ppm to 00411.jpg\n",
      "Converted 00412.ppm to 00412.jpg\n",
      "Converted 00413.ppm to 00413.jpg\n",
      "Converted 00414.ppm to 00414.jpg\n",
      "Converted 00415.ppm to 00415.jpg\n",
      "Converted 00416.ppm to 00416.jpg\n",
      "Converted 00417.ppm to 00417.jpg\n",
      "Converted 00418.ppm to 00418.jpg\n",
      "Converted 00419.ppm to 00419.jpg\n",
      "Converted 00420.ppm to 00420.jpg\n",
      "Converted 00421.ppm to 00421.jpg\n",
      "Converted 00422.ppm to 00422.jpg\n",
      "Converted 00423.ppm to 00423.jpg\n",
      "Converted 00424.ppm to 00424.jpg\n",
      "Converted 00425.ppm to 00425.jpg\n",
      "Converted 00426.ppm to 00426.jpg\n",
      "Converted 00427.ppm to 00427.jpg\n",
      "Converted 00428.ppm to 00428.jpg\n",
      "Converted 00429.ppm to 00429.jpg\n",
      "Converted 00430.ppm to 00430.jpg\n",
      "Converted 00431.ppm to 00431.jpg\n",
      "Converted 00432.ppm to 00432.jpg\n",
      "Converted 00433.ppm to 00433.jpg\n",
      "Converted 00434.ppm to 00434.jpg\n",
      "Converted 00435.ppm to 00435.jpg\n",
      "Converted 00436.ppm to 00436.jpg\n",
      "Converted 00437.ppm to 00437.jpg\n",
      "Converted 00438.ppm to 00438.jpg\n",
      "Converted 00439.ppm to 00439.jpg\n",
      "Converted 00440.ppm to 00440.jpg\n",
      "Converted 00441.ppm to 00441.jpg\n",
      "Converted 00442.ppm to 00442.jpg\n",
      "Converted 00443.ppm to 00443.jpg\n",
      "Converted 00444.ppm to 00444.jpg\n",
      "Converted 00445.ppm to 00445.jpg\n",
      "Converted 00446.ppm to 00446.jpg\n",
      "Converted 00447.ppm to 00447.jpg\n",
      "Converted 00448.ppm to 00448.jpg\n",
      "Converted 00449.ppm to 00449.jpg\n",
      "Converted 00450.ppm to 00450.jpg\n",
      "Converted 00451.ppm to 00451.jpg\n",
      "Converted 00452.ppm to 00452.jpg\n",
      "Converted 00453.ppm to 00453.jpg\n",
      "Converted 00454.ppm to 00454.jpg\n",
      "Converted 00455.ppm to 00455.jpg\n",
      "Converted 00456.ppm to 00456.jpg\n",
      "Converted 00457.ppm to 00457.jpg\n",
      "Converted 00458.ppm to 00458.jpg\n",
      "Converted 00459.ppm to 00459.jpg\n",
      "Converted 00460.ppm to 00460.jpg\n",
      "Converted 00461.ppm to 00461.jpg\n",
      "Converted 00462.ppm to 00462.jpg\n",
      "Converted 00463.ppm to 00463.jpg\n",
      "Converted 00464.ppm to 00464.jpg\n",
      "Converted 00465.ppm to 00465.jpg\n",
      "Converted 00466.ppm to 00466.jpg\n",
      "Converted 00467.ppm to 00467.jpg\n",
      "Converted 00468.ppm to 00468.jpg\n",
      "Converted 00469.ppm to 00469.jpg\n",
      "Converted 00470.ppm to 00470.jpg\n",
      "Converted 00471.ppm to 00471.jpg\n",
      "Converted 00472.ppm to 00472.jpg\n",
      "Converted 00473.ppm to 00473.jpg\n",
      "Converted 00474.ppm to 00474.jpg\n",
      "Converted 00475.ppm to 00475.jpg\n",
      "Converted 00476.ppm to 00476.jpg\n",
      "Converted 00477.ppm to 00477.jpg\n",
      "Converted 00478.ppm to 00478.jpg\n",
      "Converted 00479.ppm to 00479.jpg\n",
      "Converted 00480.ppm to 00480.jpg\n",
      "Converted 00481.ppm to 00481.jpg\n",
      "Converted 00482.ppm to 00482.jpg\n",
      "Converted 00483.ppm to 00483.jpg\n",
      "Converted 00484.ppm to 00484.jpg\n",
      "Converted 00485.ppm to 00485.jpg\n",
      "Converted 00486.ppm to 00486.jpg\n",
      "Converted 00487.ppm to 00487.jpg\n",
      "Converted 00488.ppm to 00488.jpg\n",
      "Converted 00489.ppm to 00489.jpg\n",
      "Converted 00490.ppm to 00490.jpg\n",
      "Converted 00491.ppm to 00491.jpg\n",
      "Converted 00492.ppm to 00492.jpg\n",
      "Converted 00493.ppm to 00493.jpg\n",
      "Converted 00494.ppm to 00494.jpg\n",
      "Converted 00495.ppm to 00495.jpg\n",
      "Converted 00496.ppm to 00496.jpg\n",
      "Converted 00497.ppm to 00497.jpg\n",
      "Converted 00498.ppm to 00498.jpg\n",
      "Converted 00499.ppm to 00499.jpg\n",
      "Converted 00500.ppm to 00500.jpg\n",
      "Converted 00501.ppm to 00501.jpg\n",
      "Converted 00502.ppm to 00502.jpg\n",
      "Converted 00503.ppm to 00503.jpg\n",
      "Converted 00504.ppm to 00504.jpg\n",
      "Converted 00505.ppm to 00505.jpg\n",
      "Converted 00506.ppm to 00506.jpg\n",
      "Converted 00507.ppm to 00507.jpg\n",
      "Converted 00508.ppm to 00508.jpg\n",
      "Converted 00509.ppm to 00509.jpg\n",
      "Converted 00510.ppm to 00510.jpg\n",
      "Converted 00511.ppm to 00511.jpg\n",
      "Converted 00512.ppm to 00512.jpg\n",
      "Converted 00513.ppm to 00513.jpg\n",
      "Converted 00514.ppm to 00514.jpg\n",
      "Converted 00515.ppm to 00515.jpg\n",
      "Converted 00516.ppm to 00516.jpg\n",
      "Converted 00517.ppm to 00517.jpg\n",
      "Converted 00518.ppm to 00518.jpg\n",
      "Converted 00519.ppm to 00519.jpg\n",
      "Converted 00520.ppm to 00520.jpg\n",
      "Converted 00521.ppm to 00521.jpg\n",
      "Converted 00522.ppm to 00522.jpg\n",
      "Converted 00523.ppm to 00523.jpg\n",
      "Converted 00524.ppm to 00524.jpg\n",
      "Converted 00525.ppm to 00525.jpg\n",
      "Converted 00526.ppm to 00526.jpg\n",
      "Converted 00527.ppm to 00527.jpg\n",
      "Converted 00528.ppm to 00528.jpg\n",
      "Converted 00529.ppm to 00529.jpg\n",
      "Converted 00530.ppm to 00530.jpg\n",
      "Converted 00531.ppm to 00531.jpg\n",
      "Converted 00532.ppm to 00532.jpg\n",
      "Converted 00533.ppm to 00533.jpg\n",
      "Converted 00534.ppm to 00534.jpg\n",
      "Converted 00535.ppm to 00535.jpg\n",
      "Converted 00536.ppm to 00536.jpg\n",
      "Converted 00537.ppm to 00537.jpg\n",
      "Converted 00538.ppm to 00538.jpg\n",
      "Converted 00539.ppm to 00539.jpg\n",
      "Converted 00540.ppm to 00540.jpg\n",
      "Converted 00541.ppm to 00541.jpg\n",
      "Converted 00542.ppm to 00542.jpg\n",
      "Converted 00543.ppm to 00543.jpg\n",
      "Converted 00544.ppm to 00544.jpg\n",
      "Converted 00545.ppm to 00545.jpg\n",
      "Converted 00546.ppm to 00546.jpg\n",
      "Converted 00547.ppm to 00547.jpg\n",
      "Converted 00548.ppm to 00548.jpg\n",
      "Converted 00549.ppm to 00549.jpg\n",
      "Converted 00550.ppm to 00550.jpg\n",
      "Converted 00551.ppm to 00551.jpg\n",
      "Converted 00552.ppm to 00552.jpg\n",
      "Converted 00553.ppm to 00553.jpg\n",
      "Converted 00554.ppm to 00554.jpg\n",
      "Converted 00555.ppm to 00555.jpg\n",
      "Converted 00556.ppm to 00556.jpg\n",
      "Converted 00557.ppm to 00557.jpg\n",
      "Converted 00558.ppm to 00558.jpg\n",
      "Converted 00559.ppm to 00559.jpg\n",
      "Converted 00560.ppm to 00560.jpg\n",
      "Converted 00561.ppm to 00561.jpg\n",
      "Converted 00562.ppm to 00562.jpg\n",
      "Converted 00563.ppm to 00563.jpg\n",
      "Converted 00564.ppm to 00564.jpg\n",
      "Converted 00565.ppm to 00565.jpg\n",
      "Converted 00566.ppm to 00566.jpg\n",
      "Converted 00567.ppm to 00567.jpg\n",
      "Converted 00568.ppm to 00568.jpg\n",
      "Converted 00569.ppm to 00569.jpg\n",
      "Converted 00570.ppm to 00570.jpg\n",
      "Converted 00571.ppm to 00571.jpg\n",
      "Converted 00572.ppm to 00572.jpg\n",
      "Converted 00573.ppm to 00573.jpg\n",
      "Converted 00574.ppm to 00574.jpg\n",
      "Converted 00575.ppm to 00575.jpg\n",
      "Converted 00576.ppm to 00576.jpg\n",
      "Converted 00577.ppm to 00577.jpg\n",
      "Converted 00578.ppm to 00578.jpg\n",
      "Converted 00579.ppm to 00579.jpg\n",
      "Converted 00580.ppm to 00580.jpg\n",
      "Converted 00581.ppm to 00581.jpg\n",
      "Converted 00582.ppm to 00582.jpg\n",
      "Converted 00583.ppm to 00583.jpg\n",
      "Converted 00584.ppm to 00584.jpg\n",
      "Converted 00585.ppm to 00585.jpg\n",
      "Converted 00586.ppm to 00586.jpg\n",
      "Converted 00587.ppm to 00587.jpg\n",
      "Converted 00588.ppm to 00588.jpg\n",
      "Converted 00589.ppm to 00589.jpg\n",
      "Converted 00590.ppm to 00590.jpg\n",
      "Converted 00591.ppm to 00591.jpg\n",
      "Converted 00592.ppm to 00592.jpg\n",
      "Converted 00593.ppm to 00593.jpg\n",
      "Converted 00594.ppm to 00594.jpg\n",
      "Converted 00595.ppm to 00595.jpg\n",
      "Converted 00596.ppm to 00596.jpg\n",
      "Converted 00597.ppm to 00597.jpg\n",
      "Converted 00598.ppm to 00598.jpg\n",
      "Converted 00599.ppm to 00599.jpg\n"
     ]
    }
   ],
   "source": [
    "import os\n",
    "from PIL import Image\n",
    "\n",
    "def convert_ppm_to_jpg(folder):\n",
    "    for filename in os.listdir(folder):\n",
    "        if filename.endswith('.ppm'):\n",
    "            img_path = os.path.join(folder, filename)\n",
    "            img = Image.open(img_path)\n",
    "            new_filename = filename.replace('.ppm', '.jpg')\n",
    "            img.save(os.path.join(folder, new_filename))\n",
    "            print(f\"Converted {filename} to {new_filename}\")\n",
    "\n",
    "# Convert train and val images\n",
    "convert_ppm_to_jpg(\"C:/Users/Venu Gopal/Downloads/TrainIJYOLO2013/TrainIJYOLO2013/train/images\")\n",
    "convert_ppm_to_jpg(\"C:/Users/Venu Gopal/Downloads/TrainIJYOLO2013/TrainIJYOLO2013/val/images\")\n"
   ]
  },
  {
   "cell_type": "markdown",
   "id": "d9ee4cf8",
   "metadata": {},
   "source": [
    "Remove Old .ppm Images"
   ]
  },
  {
   "cell_type": "code",
   "execution_count": 13,
   "id": "fc88422e",
   "metadata": {},
   "outputs": [
    {
     "name": "stdout",
     "output_type": "stream",
     "text": [
      "Removed 00000.ppm\n",
      "Removed 00001.ppm\n",
      "Removed 00002.ppm\n",
      "Removed 00003.ppm\n",
      "Removed 00004.ppm\n",
      "Removed 00005.ppm\n",
      "Removed 00006.ppm\n",
      "Removed 00007.ppm\n",
      "Removed 00008.ppm\n",
      "Removed 00009.ppm\n",
      "Removed 00010.ppm\n",
      "Removed 00011.ppm\n",
      "Removed 00012.ppm\n",
      "Removed 00013.ppm\n",
      "Removed 00014.ppm\n",
      "Removed 00015.ppm\n",
      "Removed 00016.ppm\n",
      "Removed 00017.ppm\n",
      "Removed 00018.ppm\n",
      "Removed 00019.ppm\n",
      "Removed 00020.ppm\n",
      "Removed 00021.ppm\n",
      "Removed 00022.ppm\n",
      "Removed 00023.ppm\n",
      "Removed 00024.ppm\n",
      "Removed 00025.ppm\n",
      "Removed 00026.ppm\n",
      "Removed 00027.ppm\n",
      "Removed 00028.ppm\n",
      "Removed 00029.ppm\n",
      "Removed 00030.ppm\n",
      "Removed 00031.ppm\n",
      "Removed 00032.ppm\n",
      "Removed 00033.ppm\n",
      "Removed 00034.ppm\n",
      "Removed 00035.ppm\n",
      "Removed 00036.ppm\n",
      "Removed 00037.ppm\n",
      "Removed 00038.ppm\n",
      "Removed 00039.ppm\n",
      "Removed 00040.ppm\n",
      "Removed 00041.ppm\n",
      "Removed 00042.ppm\n",
      "Removed 00043.ppm\n",
      "Removed 00044.ppm\n",
      "Removed 00045.ppm\n",
      "Removed 00046.ppm\n",
      "Removed 00047.ppm\n",
      "Removed 00048.ppm\n",
      "Removed 00049.ppm\n",
      "Removed 00050.ppm\n",
      "Removed 00051.ppm\n",
      "Removed 00052.ppm\n",
      "Removed 00053.ppm\n",
      "Removed 00054.ppm\n",
      "Removed 00055.ppm\n",
      "Removed 00056.ppm\n",
      "Removed 00057.ppm\n",
      "Removed 00058.ppm\n",
      "Removed 00059.ppm\n",
      "Removed 00060.ppm\n",
      "Removed 00061.ppm\n",
      "Removed 00062.ppm\n",
      "Removed 00063.ppm\n",
      "Removed 00064.ppm\n",
      "Removed 00065.ppm\n",
      "Removed 00066.ppm\n",
      "Removed 00067.ppm\n",
      "Removed 00068.ppm\n",
      "Removed 00069.ppm\n",
      "Removed 00070.ppm\n",
      "Removed 00071.ppm\n",
      "Removed 00072.ppm\n",
      "Removed 00073.ppm\n",
      "Removed 00074.ppm\n",
      "Removed 00075.ppm\n",
      "Removed 00076.ppm\n",
      "Removed 00077.ppm\n",
      "Removed 00078.ppm\n",
      "Removed 00079.ppm\n",
      "Removed 00080.ppm\n",
      "Removed 00081.ppm\n",
      "Removed 00082.ppm\n",
      "Removed 00083.ppm\n",
      "Removed 00084.ppm\n",
      "Removed 00085.ppm\n",
      "Removed 00086.ppm\n",
      "Removed 00087.ppm\n",
      "Removed 00088.ppm\n",
      "Removed 00089.ppm\n",
      "Removed 00090.ppm\n",
      "Removed 00091.ppm\n",
      "Removed 00092.ppm\n",
      "Removed 00093.ppm\n",
      "Removed 00094.ppm\n",
      "Removed 00095.ppm\n",
      "Removed 00096.ppm\n",
      "Removed 00097.ppm\n",
      "Removed 00098.ppm\n",
      "Removed 00099.ppm\n",
      "Removed 00100.ppm\n",
      "Removed 00101.ppm\n",
      "Removed 00102.ppm\n",
      "Removed 00103.ppm\n",
      "Removed 00104.ppm\n",
      "Removed 00105.ppm\n",
      "Removed 00106.ppm\n",
      "Removed 00107.ppm\n",
      "Removed 00108.ppm\n",
      "Removed 00109.ppm\n",
      "Removed 00110.ppm\n",
      "Removed 00111.ppm\n",
      "Removed 00112.ppm\n",
      "Removed 00113.ppm\n",
      "Removed 00114.ppm\n",
      "Removed 00115.ppm\n",
      "Removed 00116.ppm\n",
      "Removed 00117.ppm\n",
      "Removed 00118.ppm\n",
      "Removed 00119.ppm\n",
      "Removed 00120.ppm\n",
      "Removed 00121.ppm\n",
      "Removed 00122.ppm\n",
      "Removed 00123.ppm\n",
      "Removed 00124.ppm\n",
      "Removed 00125.ppm\n",
      "Removed 00126.ppm\n",
      "Removed 00127.ppm\n",
      "Removed 00128.ppm\n",
      "Removed 00129.ppm\n",
      "Removed 00130.ppm\n",
      "Removed 00131.ppm\n",
      "Removed 00132.ppm\n",
      "Removed 00133.ppm\n",
      "Removed 00134.ppm\n",
      "Removed 00135.ppm\n",
      "Removed 00136.ppm\n",
      "Removed 00137.ppm\n",
      "Removed 00138.ppm\n",
      "Removed 00139.ppm\n",
      "Removed 00140.ppm\n",
      "Removed 00141.ppm\n",
      "Removed 00142.ppm\n",
      "Removed 00143.ppm\n",
      "Removed 00144.ppm\n",
      "Removed 00145.ppm\n",
      "Removed 00146.ppm\n",
      "Removed 00147.ppm\n",
      "Removed 00148.ppm\n",
      "Removed 00149.ppm\n",
      "Removed 00150.ppm\n",
      "Removed 00151.ppm\n",
      "Removed 00152.ppm\n",
      "Removed 00153.ppm\n",
      "Removed 00154.ppm\n",
      "Removed 00155.ppm\n",
      "Removed 00156.ppm\n",
      "Removed 00157.ppm\n",
      "Removed 00158.ppm\n",
      "Removed 00159.ppm\n",
      "Removed 00160.ppm\n",
      "Removed 00161.ppm\n",
      "Removed 00162.ppm\n",
      "Removed 00163.ppm\n",
      "Removed 00164.ppm\n",
      "Removed 00165.ppm\n",
      "Removed 00166.ppm\n",
      "Removed 00167.ppm\n",
      "Removed 00168.ppm\n",
      "Removed 00169.ppm\n",
      "Removed 00170.ppm\n",
      "Removed 00171.ppm\n",
      "Removed 00172.ppm\n",
      "Removed 00173.ppm\n",
      "Removed 00174.ppm\n",
      "Removed 00175.ppm\n",
      "Removed 00176.ppm\n",
      "Removed 00177.ppm\n",
      "Removed 00178.ppm\n",
      "Removed 00179.ppm\n",
      "Removed 00180.ppm\n",
      "Removed 00181.ppm\n",
      "Removed 00182.ppm\n",
      "Removed 00183.ppm\n",
      "Removed 00184.ppm\n",
      "Removed 00185.ppm\n",
      "Removed 00186.ppm\n",
      "Removed 00187.ppm\n",
      "Removed 00188.ppm\n",
      "Removed 00189.ppm\n",
      "Removed 00190.ppm\n",
      "Removed 00191.ppm\n",
      "Removed 00192.ppm\n",
      "Removed 00193.ppm\n",
      "Removed 00194.ppm\n",
      "Removed 00195.ppm\n",
      "Removed 00196.ppm\n",
      "Removed 00197.ppm\n",
      "Removed 00198.ppm\n",
      "Removed 00199.ppm\n",
      "Removed 00200.ppm\n",
      "Removed 00201.ppm\n",
      "Removed 00202.ppm\n",
      "Removed 00203.ppm\n",
      "Removed 00204.ppm\n",
      "Removed 00205.ppm\n",
      "Removed 00206.ppm\n",
      "Removed 00207.ppm\n",
      "Removed 00208.ppm\n",
      "Removed 00209.ppm\n",
      "Removed 00210.ppm\n",
      "Removed 00211.ppm\n",
      "Removed 00212.ppm\n",
      "Removed 00213.ppm\n",
      "Removed 00214.ppm\n",
      "Removed 00215.ppm\n",
      "Removed 00216.ppm\n",
      "Removed 00217.ppm\n",
      "Removed 00218.ppm\n",
      "Removed 00219.ppm\n",
      "Removed 00220.ppm\n",
      "Removed 00221.ppm\n",
      "Removed 00222.ppm\n",
      "Removed 00223.ppm\n",
      "Removed 00224.ppm\n",
      "Removed 00225.ppm\n",
      "Removed 00226.ppm\n",
      "Removed 00227.ppm\n",
      "Removed 00228.ppm\n",
      "Removed 00229.ppm\n",
      "Removed 00230.ppm\n",
      "Removed 00231.ppm\n",
      "Removed 00232.ppm\n",
      "Removed 00233.ppm\n",
      "Removed 00234.ppm\n",
      "Removed 00235.ppm\n",
      "Removed 00236.ppm\n",
      "Removed 00237.ppm\n",
      "Removed 00238.ppm\n",
      "Removed 00239.ppm\n",
      "Removed 00240.ppm\n",
      "Removed 00241.ppm\n",
      "Removed 00242.ppm\n",
      "Removed 00243.ppm\n",
      "Removed 00244.ppm\n",
      "Removed 00245.ppm\n",
      "Removed 00246.ppm\n",
      "Removed 00247.ppm\n",
      "Removed 00248.ppm\n",
      "Removed 00249.ppm\n",
      "Removed 00250.ppm\n",
      "Removed 00251.ppm\n",
      "Removed 00252.ppm\n",
      "Removed 00253.ppm\n",
      "Removed 00254.ppm\n",
      "Removed 00255.ppm\n",
      "Removed 00256.ppm\n",
      "Removed 00257.ppm\n",
      "Removed 00258.ppm\n",
      "Removed 00259.ppm\n",
      "Removed 00260.ppm\n",
      "Removed 00261.ppm\n",
      "Removed 00262.ppm\n",
      "Removed 00263.ppm\n",
      "Removed 00264.ppm\n",
      "Removed 00265.ppm\n",
      "Removed 00266.ppm\n",
      "Removed 00267.ppm\n",
      "Removed 00268.ppm\n",
      "Removed 00269.ppm\n",
      "Removed 00270.ppm\n",
      "Removed 00271.ppm\n",
      "Removed 00272.ppm\n",
      "Removed 00273.ppm\n",
      "Removed 00274.ppm\n",
      "Removed 00275.ppm\n",
      "Removed 00276.ppm\n",
      "Removed 00277.ppm\n",
      "Removed 00278.ppm\n",
      "Removed 00279.ppm\n",
      "Removed 00280.ppm\n",
      "Removed 00281.ppm\n",
      "Removed 00282.ppm\n",
      "Removed 00283.ppm\n",
      "Removed 00284.ppm\n",
      "Removed 00285.ppm\n",
      "Removed 00286.ppm\n",
      "Removed 00287.ppm\n",
      "Removed 00288.ppm\n",
      "Removed 00289.ppm\n",
      "Removed 00290.ppm\n",
      "Removed 00291.ppm\n",
      "Removed 00292.ppm\n",
      "Removed 00293.ppm\n",
      "Removed 00294.ppm\n",
      "Removed 00295.ppm\n",
      "Removed 00296.ppm\n",
      "Removed 00297.ppm\n",
      "Removed 00298.ppm\n",
      "Removed 00299.ppm\n",
      "Removed 00300.ppm\n",
      "Removed 00301.ppm\n",
      "Removed 00302.ppm\n",
      "Removed 00303.ppm\n",
      "Removed 00304.ppm\n",
      "Removed 00305.ppm\n",
      "Removed 00306.ppm\n",
      "Removed 00307.ppm\n",
      "Removed 00308.ppm\n",
      "Removed 00309.ppm\n",
      "Removed 00310.ppm\n",
      "Removed 00311.ppm\n",
      "Removed 00312.ppm\n",
      "Removed 00313.ppm\n",
      "Removed 00314.ppm\n",
      "Removed 00315.ppm\n",
      "Removed 00316.ppm\n",
      "Removed 00317.ppm\n",
      "Removed 00318.ppm\n",
      "Removed 00319.ppm\n",
      "Removed 00320.ppm\n",
      "Removed 00321.ppm\n",
      "Removed 00322.ppm\n",
      "Removed 00323.ppm\n",
      "Removed 00324.ppm\n",
      "Removed 00325.ppm\n",
      "Removed 00326.ppm\n",
      "Removed 00327.ppm\n",
      "Removed 00328.ppm\n",
      "Removed 00329.ppm\n",
      "Removed 00330.ppm\n",
      "Removed 00331.ppm\n",
      "Removed 00332.ppm\n",
      "Removed 00333.ppm\n",
      "Removed 00334.ppm\n",
      "Removed 00335.ppm\n",
      "Removed 00336.ppm\n",
      "Removed 00337.ppm\n",
      "Removed 00338.ppm\n",
      "Removed 00339.ppm\n",
      "Removed 00340.ppm\n",
      "Removed 00341.ppm\n",
      "Removed 00342.ppm\n",
      "Removed 00343.ppm\n",
      "Removed 00344.ppm\n",
      "Removed 00345.ppm\n",
      "Removed 00346.ppm\n",
      "Removed 00347.ppm\n",
      "Removed 00348.ppm\n",
      "Removed 00349.ppm\n",
      "Removed 00350.ppm\n",
      "Removed 00351.ppm\n",
      "Removed 00352.ppm\n",
      "Removed 00353.ppm\n",
      "Removed 00354.ppm\n",
      "Removed 00355.ppm\n",
      "Removed 00356.ppm\n",
      "Removed 00357.ppm\n",
      "Removed 00358.ppm\n",
      "Removed 00359.ppm\n",
      "Removed 00360.ppm\n",
      "Removed 00361.ppm\n",
      "Removed 00362.ppm\n",
      "Removed 00363.ppm\n",
      "Removed 00364.ppm\n",
      "Removed 00365.ppm\n",
      "Removed 00366.ppm\n",
      "Removed 00367.ppm\n",
      "Removed 00368.ppm\n",
      "Removed 00369.ppm\n",
      "Removed 00370.ppm\n",
      "Removed 00371.ppm\n",
      "Removed 00372.ppm\n",
      "Removed 00373.ppm\n",
      "Removed 00374.ppm\n",
      "Removed 00375.ppm\n",
      "Removed 00376.ppm\n",
      "Removed 00377.ppm\n",
      "Removed 00378.ppm\n",
      "Removed 00379.ppm\n",
      "Removed 00380.ppm\n",
      "Removed 00381.ppm\n",
      "Removed 00382.ppm\n",
      "Removed 00383.ppm\n",
      "Removed 00384.ppm\n",
      "Removed 00385.ppm\n",
      "Removed 00386.ppm\n",
      "Removed 00387.ppm\n",
      "Removed 00388.ppm\n",
      "Removed 00389.ppm\n",
      "Removed 00390.ppm\n",
      "Removed 00391.ppm\n",
      "Removed 00392.ppm\n",
      "Removed 00393.ppm\n",
      "Removed 00394.ppm\n",
      "Removed 00395.ppm\n",
      "Removed 00396.ppm\n",
      "Removed 00397.ppm\n",
      "Removed 00398.ppm\n",
      "Removed 00399.ppm\n",
      "Removed 00400.ppm\n",
      "Removed 00401.ppm\n",
      "Removed 00402.ppm\n",
      "Removed 00403.ppm\n",
      "Removed 00404.ppm\n",
      "Removed 00405.ppm\n",
      "Removed 00406.ppm\n",
      "Removed 00407.ppm\n",
      "Removed 00408.ppm\n",
      "Removed 00409.ppm\n",
      "Removed 00410.ppm\n",
      "Removed 00411.ppm\n",
      "Removed 00412.ppm\n",
      "Removed 00413.ppm\n",
      "Removed 00414.ppm\n",
      "Removed 00415.ppm\n",
      "Removed 00416.ppm\n",
      "Removed 00417.ppm\n",
      "Removed 00418.ppm\n",
      "Removed 00419.ppm\n",
      "Removed 00420.ppm\n",
      "Removed 00421.ppm\n",
      "Removed 00422.ppm\n",
      "Removed 00423.ppm\n",
      "Removed 00424.ppm\n",
      "Removed 00425.ppm\n",
      "Removed 00426.ppm\n",
      "Removed 00427.ppm\n",
      "Removed 00428.ppm\n",
      "Removed 00429.ppm\n",
      "Removed 00430.ppm\n",
      "Removed 00431.ppm\n",
      "Removed 00432.ppm\n",
      "Removed 00433.ppm\n",
      "Removed 00434.ppm\n",
      "Removed 00435.ppm\n",
      "Removed 00436.ppm\n",
      "Removed 00437.ppm\n",
      "Removed 00438.ppm\n",
      "Removed 00439.ppm\n",
      "Removed 00440.ppm\n",
      "Removed 00441.ppm\n",
      "Removed 00442.ppm\n",
      "Removed 00443.ppm\n",
      "Removed 00444.ppm\n",
      "Removed 00445.ppm\n",
      "Removed 00446.ppm\n",
      "Removed 00447.ppm\n",
      "Removed 00448.ppm\n",
      "Removed 00449.ppm\n",
      "Removed 00450.ppm\n",
      "Removed 00451.ppm\n",
      "Removed 00452.ppm\n",
      "Removed 00453.ppm\n",
      "Removed 00454.ppm\n",
      "Removed 00455.ppm\n",
      "Removed 00456.ppm\n",
      "Removed 00457.ppm\n",
      "Removed 00458.ppm\n",
      "Removed 00459.ppm\n",
      "Removed 00460.ppm\n",
      "Removed 00461.ppm\n",
      "Removed 00462.ppm\n",
      "Removed 00463.ppm\n",
      "Removed 00464.ppm\n",
      "Removed 00465.ppm\n",
      "Removed 00466.ppm\n",
      "Removed 00467.ppm\n",
      "Removed 00468.ppm\n",
      "Removed 00469.ppm\n",
      "Removed 00470.ppm\n",
      "Removed 00471.ppm\n",
      "Removed 00472.ppm\n",
      "Removed 00473.ppm\n",
      "Removed 00474.ppm\n",
      "Removed 00475.ppm\n",
      "Removed 00476.ppm\n",
      "Removed 00477.ppm\n",
      "Removed 00478.ppm\n",
      "Removed 00479.ppm\n",
      "Removed 00480.ppm\n",
      "Removed 00481.ppm\n",
      "Removed 00482.ppm\n",
      "Removed 00483.ppm\n",
      "Removed 00484.ppm\n",
      "Removed 00485.ppm\n",
      "Removed 00486.ppm\n",
      "Removed 00487.ppm\n",
      "Removed 00488.ppm\n",
      "Removed 00489.ppm\n",
      "Removed 00490.ppm\n",
      "Removed 00491.ppm\n",
      "Removed 00492.ppm\n",
      "Removed 00493.ppm\n",
      "Removed 00494.ppm\n",
      "Removed 00495.ppm\n",
      "Removed 00496.ppm\n",
      "Removed 00497.ppm\n",
      "Removed 00498.ppm\n",
      "Removed 00499.ppm\n",
      "Removed 00500.ppm\n",
      "Removed 00501.ppm\n",
      "Removed 00502.ppm\n",
      "Removed 00503.ppm\n",
      "Removed 00504.ppm\n",
      "Removed 00505.ppm\n",
      "Removed 00506.ppm\n",
      "Removed 00507.ppm\n",
      "Removed 00508.ppm\n",
      "Removed 00509.ppm\n",
      "Removed 00510.ppm\n",
      "Removed 00511.ppm\n",
      "Removed 00512.ppm\n",
      "Removed 00513.ppm\n",
      "Removed 00514.ppm\n",
      "Removed 00515.ppm\n",
      "Removed 00516.ppm\n",
      "Removed 00517.ppm\n",
      "Removed 00518.ppm\n",
      "Removed 00519.ppm\n",
      "Removed 00520.ppm\n",
      "Removed 00521.ppm\n",
      "Removed 00522.ppm\n",
      "Removed 00523.ppm\n",
      "Removed 00524.ppm\n",
      "Removed 00525.ppm\n",
      "Removed 00526.ppm\n",
      "Removed 00527.ppm\n",
      "Removed 00528.ppm\n",
      "Removed 00529.ppm\n",
      "Removed 00530.ppm\n",
      "Removed 00531.ppm\n",
      "Removed 00532.ppm\n",
      "Removed 00533.ppm\n",
      "Removed 00534.ppm\n",
      "Removed 00535.ppm\n",
      "Removed 00536.ppm\n",
      "Removed 00537.ppm\n",
      "Removed 00538.ppm\n",
      "Removed 00539.ppm\n",
      "Removed 00540.ppm\n",
      "Removed 00541.ppm\n",
      "Removed 00542.ppm\n",
      "Removed 00543.ppm\n",
      "Removed 00544.ppm\n",
      "Removed 00545.ppm\n",
      "Removed 00546.ppm\n",
      "Removed 00547.ppm\n",
      "Removed 00548.ppm\n",
      "Removed 00549.ppm\n",
      "Removed 00550.ppm\n",
      "Removed 00551.ppm\n",
      "Removed 00552.ppm\n",
      "Removed 00553.ppm\n",
      "Removed 00554.ppm\n",
      "Removed 00555.ppm\n",
      "Removed 00556.ppm\n",
      "Removed 00557.ppm\n",
      "Removed 00558.ppm\n",
      "Removed 00559.ppm\n",
      "Removed 00560.ppm\n",
      "Removed 00561.ppm\n",
      "Removed 00562.ppm\n",
      "Removed 00563.ppm\n",
      "Removed 00564.ppm\n",
      "Removed 00565.ppm\n",
      "Removed 00566.ppm\n",
      "Removed 00567.ppm\n",
      "Removed 00568.ppm\n",
      "Removed 00569.ppm\n",
      "Removed 00570.ppm\n",
      "Removed 00571.ppm\n",
      "Removed 00572.ppm\n",
      "Removed 00573.ppm\n",
      "Removed 00574.ppm\n",
      "Removed 00575.ppm\n",
      "Removed 00576.ppm\n",
      "Removed 00577.ppm\n",
      "Removed 00578.ppm\n",
      "Removed 00579.ppm\n",
      "Removed 00580.ppm\n",
      "Removed 00581.ppm\n",
      "Removed 00582.ppm\n",
      "Removed 00583.ppm\n",
      "Removed 00584.ppm\n",
      "Removed 00585.ppm\n",
      "Removed 00586.ppm\n",
      "Removed 00587.ppm\n",
      "Removed 00588.ppm\n",
      "Removed 00589.ppm\n",
      "Removed 00590.ppm\n",
      "Removed 00591.ppm\n",
      "Removed 00592.ppm\n",
      "Removed 00593.ppm\n",
      "Removed 00594.ppm\n",
      "Removed 00595.ppm\n",
      "Removed 00596.ppm\n",
      "Removed 00597.ppm\n",
      "Removed 00598.ppm\n",
      "Removed 00599.ppm\n"
     ]
    }
   ],
   "source": [
    "import os\n",
    "\n",
    "def remove_ppm(folder):\n",
    "    for filename in os.listdir(folder):\n",
    "        if filename.endswith('.ppm'):\n",
    "            os.remove(os.path.join(folder, filename))\n",
    "            print(f\"Removed {filename}\")\n",
    "\n",
    "remove_ppm(\"C:/Users/Venu Gopal/Downloads/TrainIJYOLO2013/TrainIJYOLO2013/train/images\")\n",
    "remove_ppm(\"C:/Users/Venu Gopal/Downloads/TrainIJYOLO2013/TrainIJYOLO2013/val/images\")\n"
   ]
  },
  {
   "cell_type": "markdown",
   "id": "386a189a",
   "metadata": {},
   "source": [
    "Install YOLOv8 (Ultralytics) and Train"
   ]
  },
  {
   "cell_type": "code",
   "execution_count": 4,
   "id": "6ed123e9",
   "metadata": {},
   "outputs": [
    {
     "name": "stdout",
     "output_type": "stream",
     "text": [
      "Downloading https://github.com/ultralytics/assets/releases/download/v8.3.0/yolov8n.pt to 'yolov8n.pt'...\n"
     ]
    },
    {
     "name": "stderr",
     "output_type": "stream",
     "text": [
      "100%|██████████| 6.25M/6.25M [00:01<00:00, 5.20MB/s]\n"
     ]
    },
    {
     "name": "stdout",
     "output_type": "stream",
     "text": [
      "Ultralytics 8.3.161  Python-3.11.9 torch-2.7.1+cpu CPU (12th Gen Intel Core(TM) i5-12500H)\n",
      "\u001b[34m\u001b[1mengine\\trainer: \u001b[0magnostic_nms=False, amp=True, augment=False, auto_augment=randaugment, batch=16, bgr=0.0, box=7.5, cache=False, cfg=None, classes=None, close_mosaic=10, cls=0.5, conf=None, copy_paste=0.0, copy_paste_mode=flip, cos_lr=False, cutmix=0.0, data=C:/Users/Venu Gopal/Downloads/TrainIJYOLO2013/TrainIJYOLO2013/traffic_signs.yaml, degrees=0.0, deterministic=True, device=cpu, dfl=1.5, dnn=False, dropout=0.0, dynamic=False, embed=None, epochs=100, erasing=0.4, exist_ok=False, fliplr=0.5, flipud=0.0, format=torchscript, fraction=1.0, freeze=None, half=False, hsv_h=0.015, hsv_s=0.7, hsv_v=0.4, imgsz=640, int8=False, iou=0.7, keras=False, kobj=1.0, line_width=None, lr0=0.01, lrf=0.01, mask_ratio=4, max_det=300, mixup=0.0, mode=train, model=yolov8n.pt, momentum=0.937, mosaic=1.0, multi_scale=False, name=train6, nbs=64, nms=False, opset=None, optimize=False, optimizer=auto, overlap_mask=True, patience=100, perspective=0.0, plots=True, pose=12.0, pretrained=True, profile=False, project=None, rect=False, resume=False, retina_masks=False, save=True, save_conf=False, save_crop=False, save_dir=runs\\detect\\train6, save_frames=False, save_json=False, save_period=-1, save_txt=False, scale=0.5, seed=0, shear=0.0, show=False, show_boxes=True, show_conf=True, show_labels=True, simplify=True, single_cls=False, source=None, split=val, stream_buffer=False, task=detect, time=None, tracker=botsort.yaml, translate=0.1, val=True, verbose=True, vid_stride=1, visualize=False, warmup_bias_lr=0.1, warmup_epochs=3.0, warmup_momentum=0.8, weight_decay=0.0005, workers=8, workspace=None\n",
      "Overriding model.yaml nc=80 with nc=43\n",
      "\n",
      "                   from  n    params  module                                       arguments                     \n",
      "  0                  -1  1       464  ultralytics.nn.modules.conv.Conv             [3, 16, 3, 2]                 \n",
      "  1                  -1  1      4672  ultralytics.nn.modules.conv.Conv             [16, 32, 3, 2]                \n",
      "  2                  -1  1      7360  ultralytics.nn.modules.block.C2f             [32, 32, 1, True]             \n",
      "  3                  -1  1     18560  ultralytics.nn.modules.conv.Conv             [32, 64, 3, 2]                \n",
      "  4                  -1  2     49664  ultralytics.nn.modules.block.C2f             [64, 64, 2, True]             \n",
      "  5                  -1  1     73984  ultralytics.nn.modules.conv.Conv             [64, 128, 3, 2]               \n",
      "  6                  -1  2    197632  ultralytics.nn.modules.block.C2f             [128, 128, 2, True]           \n",
      "  7                  -1  1    295424  ultralytics.nn.modules.conv.Conv             [128, 256, 3, 2]              \n",
      "  8                  -1  1    460288  ultralytics.nn.modules.block.C2f             [256, 256, 1, True]           \n",
      "  9                  -1  1    164608  ultralytics.nn.modules.block.SPPF            [256, 256, 5]                 \n",
      " 10                  -1  1         0  torch.nn.modules.upsampling.Upsample         [None, 2, 'nearest']          \n",
      " 11             [-1, 6]  1         0  ultralytics.nn.modules.conv.Concat           [1]                           \n",
      " 12                  -1  1    148224  ultralytics.nn.modules.block.C2f             [384, 128, 1]                 \n",
      " 13                  -1  1         0  torch.nn.modules.upsampling.Upsample         [None, 2, 'nearest']          \n",
      " 14             [-1, 4]  1         0  ultralytics.nn.modules.conv.Concat           [1]                           \n",
      " 15                  -1  1     37248  ultralytics.nn.modules.block.C2f             [192, 64, 1]                  \n",
      " 16                  -1  1     36992  ultralytics.nn.modules.conv.Conv             [64, 64, 3, 2]                \n",
      " 17            [-1, 12]  1         0  ultralytics.nn.modules.conv.Concat           [1]                           \n",
      " 18                  -1  1    123648  ultralytics.nn.modules.block.C2f             [192, 128, 1]                 \n",
      " 19                  -1  1    147712  ultralytics.nn.modules.conv.Conv             [128, 128, 3, 2]              \n",
      " 20             [-1, 9]  1         0  ultralytics.nn.modules.conv.Concat           [1]                           \n",
      " 21                  -1  1    493056  ultralytics.nn.modules.block.C2f             [384, 256, 1]                 \n",
      " 22        [15, 18, 21]  1    759697  ultralytics.nn.modules.head.Detect           [43, [64, 128, 256]]          \n",
      "Model summary: 129 layers, 3,019,233 parameters, 3,019,217 gradients, 8.2 GFLOPs\n",
      "\n",
      "Transferred 319/355 items from pretrained weights\n",
      "Freezing layer 'model.22.dfl.conv.weight'\n",
      "\u001b[34m\u001b[1mtrain: \u001b[0mFast image access  (ping: 0.50.3 ms, read: 124.953.2 MB/s, size: 107.4 KB)\n"
     ]
    },
    {
     "name": "stderr",
     "output_type": "stream",
     "text": [
      "\u001b[34m\u001b[1mtrain: \u001b[0mScanning C:\\Users\\Venu Gopal\\Downloads\\TrainIJYOLO2013\\TrainIJYOLO2013\\train\\labels.cache... 443 images, 37 backgrounds, 0 corrupt: 100%|██████████| 480/480 [00:00<?, ?it/s]"
     ]
    },
    {
     "name": "stdout",
     "output_type": "stream",
     "text": [
      "\u001b[34m\u001b[1mtrain: \u001b[0mC:\\Users\\Venu Gopal\\Downloads\\TrainIJYOLO2013\\TrainIJYOLO2013\\train\\images\\00000.jpg: 1 duplicate labels removed\n",
      "\u001b[34m\u001b[1mtrain: \u001b[0mC:\\Users\\Venu Gopal\\Downloads\\TrainIJYOLO2013\\TrainIJYOLO2013\\train\\images\\00001.jpg: 3 duplicate labels removed\n",
      "\u001b[34m\u001b[1mtrain: \u001b[0mC:\\Users\\Venu Gopal\\Downloads\\TrainIJYOLO2013\\TrainIJYOLO2013\\train\\images\\00002.jpg: 1 duplicate labels removed\n",
      "\u001b[34m\u001b[1mtrain: \u001b[0mC:\\Users\\Venu Gopal\\Downloads\\TrainIJYOLO2013\\TrainIJYOLO2013\\train\\images\\00003.jpg: 3 duplicate labels removed\n",
      "\u001b[34m\u001b[1mtrain: \u001b[0mC:\\Users\\Venu Gopal\\Downloads\\TrainIJYOLO2013\\TrainIJYOLO2013\\train\\images\\00004.jpg: 2 duplicate labels removed\n",
      "\u001b[34m\u001b[1mtrain: \u001b[0mC:\\Users\\Venu Gopal\\Downloads\\TrainIJYOLO2013\\TrainIJYOLO2013\\train\\images\\00005.jpg: 1 duplicate labels removed\n",
      "\u001b[34m\u001b[1mtrain: \u001b[0mC:\\Users\\Venu Gopal\\Downloads\\TrainIJYOLO2013\\TrainIJYOLO2013\\train\\images\\00006.jpg: 1 duplicate labels removed\n",
      "\u001b[34m\u001b[1mtrain: \u001b[0mC:\\Users\\Venu Gopal\\Downloads\\TrainIJYOLO2013\\TrainIJYOLO2013\\train\\images\\00007.jpg: 1 duplicate labels removed\n",
      "\u001b[34m\u001b[1mtrain: \u001b[0mC:\\Users\\Venu Gopal\\Downloads\\TrainIJYOLO2013\\TrainIJYOLO2013\\train\\images\\00008.jpg: 2 duplicate labels removed\n",
      "\u001b[34m\u001b[1mtrain: \u001b[0mC:\\Users\\Venu Gopal\\Downloads\\TrainIJYOLO2013\\TrainIJYOLO2013\\train\\images\\00009.jpg: 1 duplicate labels removed\n",
      "\u001b[34m\u001b[1mtrain: \u001b[0mC:\\Users\\Venu Gopal\\Downloads\\TrainIJYOLO2013\\TrainIJYOLO2013\\train\\images\\00010.jpg: 1 duplicate labels removed\n",
      "\u001b[34m\u001b[1mtrain: \u001b[0mC:\\Users\\Venu Gopal\\Downloads\\TrainIJYOLO2013\\TrainIJYOLO2013\\train\\images\\00011.jpg: 2 duplicate labels removed\n",
      "\u001b[34m\u001b[1mtrain: \u001b[0mC:\\Users\\Venu Gopal\\Downloads\\TrainIJYOLO2013\\TrainIJYOLO2013\\train\\images\\00012.jpg: 1 duplicate labels removed\n",
      "\u001b[34m\u001b[1mtrain: \u001b[0mC:\\Users\\Venu Gopal\\Downloads\\TrainIJYOLO2013\\TrainIJYOLO2013\\train\\images\\00013.jpg: 1 duplicate labels removed\n",
      "\u001b[34m\u001b[1mtrain: \u001b[0mC:\\Users\\Venu Gopal\\Downloads\\TrainIJYOLO2013\\TrainIJYOLO2013\\train\\images\\00014.jpg: 1 duplicate labels removed\n",
      "\u001b[34m\u001b[1mtrain: \u001b[0mC:\\Users\\Venu Gopal\\Downloads\\TrainIJYOLO2013\\TrainIJYOLO2013\\train\\images\\00015.jpg: 1 duplicate labels removed\n",
      "\u001b[34m\u001b[1mtrain: \u001b[0mC:\\Users\\Venu Gopal\\Downloads\\TrainIJYOLO2013\\TrainIJYOLO2013\\train\\images\\00016.jpg: 1 duplicate labels removed\n",
      "\u001b[34m\u001b[1mtrain: \u001b[0mC:\\Users\\Venu Gopal\\Downloads\\TrainIJYOLO2013\\TrainIJYOLO2013\\train\\images\\00017.jpg: 2 duplicate labels removed\n",
      "\u001b[34m\u001b[1mtrain: \u001b[0mC:\\Users\\Venu Gopal\\Downloads\\TrainIJYOLO2013\\TrainIJYOLO2013\\train\\images\\00018.jpg: 1 duplicate labels removed\n",
      "\u001b[34m\u001b[1mtrain: \u001b[0mC:\\Users\\Venu Gopal\\Downloads\\TrainIJYOLO2013\\TrainIJYOLO2013\\train\\images\\00019.jpg: 2 duplicate labels removed\n",
      "\u001b[34m\u001b[1mtrain: \u001b[0mC:\\Users\\Venu Gopal\\Downloads\\TrainIJYOLO2013\\TrainIJYOLO2013\\train\\images\\00020.jpg: 1 duplicate labels removed\n",
      "\u001b[34m\u001b[1mtrain: \u001b[0mC:\\Users\\Venu Gopal\\Downloads\\TrainIJYOLO2013\\TrainIJYOLO2013\\train\\images\\00021.jpg: 1 duplicate labels removed\n",
      "\u001b[34m\u001b[1mtrain: \u001b[0mC:\\Users\\Venu Gopal\\Downloads\\TrainIJYOLO2013\\TrainIJYOLO2013\\train\\images\\00022.jpg: 1 duplicate labels removed\n",
      "\u001b[34m\u001b[1mtrain: \u001b[0mC:\\Users\\Venu Gopal\\Downloads\\TrainIJYOLO2013\\TrainIJYOLO2013\\train\\images\\00023.jpg: 3 duplicate labels removed\n",
      "\u001b[34m\u001b[1mtrain: \u001b[0mC:\\Users\\Venu Gopal\\Downloads\\TrainIJYOLO2013\\TrainIJYOLO2013\\train\\images\\00024.jpg: 1 duplicate labels removed\n",
      "\u001b[34m\u001b[1mtrain: \u001b[0mC:\\Users\\Venu Gopal\\Downloads\\TrainIJYOLO2013\\TrainIJYOLO2013\\train\\images\\00025.jpg: 2 duplicate labels removed\n",
      "\u001b[34m\u001b[1mtrain: \u001b[0mC:\\Users\\Venu Gopal\\Downloads\\TrainIJYOLO2013\\TrainIJYOLO2013\\train\\images\\00026.jpg: 1 duplicate labels removed\n",
      "\u001b[34m\u001b[1mtrain: \u001b[0mC:\\Users\\Venu Gopal\\Downloads\\TrainIJYOLO2013\\TrainIJYOLO2013\\train\\images\\00027.jpg: 2 duplicate labels removed\n",
      "\u001b[34m\u001b[1mtrain: \u001b[0mC:\\Users\\Venu Gopal\\Downloads\\TrainIJYOLO2013\\TrainIJYOLO2013\\train\\images\\00028.jpg: 2 duplicate labels removed\n",
      "\u001b[34m\u001b[1mtrain: \u001b[0mC:\\Users\\Venu Gopal\\Downloads\\TrainIJYOLO2013\\TrainIJYOLO2013\\train\\images\\00029.jpg: 1 duplicate labels removed\n",
      "\u001b[34m\u001b[1mtrain: \u001b[0mC:\\Users\\Venu Gopal\\Downloads\\TrainIJYOLO2013\\TrainIJYOLO2013\\train\\images\\00030.jpg: 1 duplicate labels removed\n",
      "\u001b[34m\u001b[1mtrain: \u001b[0mC:\\Users\\Venu Gopal\\Downloads\\TrainIJYOLO2013\\TrainIJYOLO2013\\train\\images\\00031.jpg: 2 duplicate labels removed\n",
      "\u001b[34m\u001b[1mtrain: \u001b[0mC:\\Users\\Venu Gopal\\Downloads\\TrainIJYOLO2013\\TrainIJYOLO2013\\train\\images\\00032.jpg: 2 duplicate labels removed\n",
      "\u001b[34m\u001b[1mtrain: \u001b[0mC:\\Users\\Venu Gopal\\Downloads\\TrainIJYOLO2013\\TrainIJYOLO2013\\train\\images\\00033.jpg: 1 duplicate labels removed\n",
      "\u001b[34m\u001b[1mtrain: \u001b[0mC:\\Users\\Venu Gopal\\Downloads\\TrainIJYOLO2013\\TrainIJYOLO2013\\train\\images\\00034.jpg: 1 duplicate labels removed\n",
      "\u001b[34m\u001b[1mtrain: \u001b[0mC:\\Users\\Venu Gopal\\Downloads\\TrainIJYOLO2013\\TrainIJYOLO2013\\train\\images\\00035.jpg: 2 duplicate labels removed\n",
      "\u001b[34m\u001b[1mtrain: \u001b[0mC:\\Users\\Venu Gopal\\Downloads\\TrainIJYOLO2013\\TrainIJYOLO2013\\train\\images\\00036.jpg: 2 duplicate labels removed\n",
      "\u001b[34m\u001b[1mtrain: \u001b[0mC:\\Users\\Venu Gopal\\Downloads\\TrainIJYOLO2013\\TrainIJYOLO2013\\train\\images\\00037.jpg: 1 duplicate labels removed\n",
      "\u001b[34m\u001b[1mtrain: \u001b[0mC:\\Users\\Venu Gopal\\Downloads\\TrainIJYOLO2013\\TrainIJYOLO2013\\train\\images\\00038.jpg: 1 duplicate labels removed\n",
      "\u001b[34m\u001b[1mtrain: \u001b[0mC:\\Users\\Venu Gopal\\Downloads\\TrainIJYOLO2013\\TrainIJYOLO2013\\train\\images\\00039.jpg: 2 duplicate labels removed\n",
      "\u001b[34m\u001b[1mtrain: \u001b[0mC:\\Users\\Venu Gopal\\Downloads\\TrainIJYOLO2013\\TrainIJYOLO2013\\train\\images\\00040.jpg: 2 duplicate labels removed\n",
      "\u001b[34m\u001b[1mtrain: \u001b[0mC:\\Users\\Venu Gopal\\Downloads\\TrainIJYOLO2013\\TrainIJYOLO2013\\train\\images\\00041.jpg: 1 duplicate labels removed\n",
      "\u001b[34m\u001b[1mtrain: \u001b[0mC:\\Users\\Venu Gopal\\Downloads\\TrainIJYOLO2013\\TrainIJYOLO2013\\train\\images\\00042.jpg: 1 duplicate labels removed\n",
      "\u001b[34m\u001b[1mtrain: \u001b[0mC:\\Users\\Venu Gopal\\Downloads\\TrainIJYOLO2013\\TrainIJYOLO2013\\train\\images\\00043.jpg: 3 duplicate labels removed\n",
      "\u001b[34m\u001b[1mtrain: \u001b[0mC:\\Users\\Venu Gopal\\Downloads\\TrainIJYOLO2013\\TrainIJYOLO2013\\train\\images\\00044.jpg: 1 duplicate labels removed\n",
      "\u001b[34m\u001b[1mtrain: \u001b[0mC:\\Users\\Venu Gopal\\Downloads\\TrainIJYOLO2013\\TrainIJYOLO2013\\train\\images\\00045.jpg: 1 duplicate labels removed\n",
      "\u001b[34m\u001b[1mtrain: \u001b[0mC:\\Users\\Venu Gopal\\Downloads\\TrainIJYOLO2013\\TrainIJYOLO2013\\train\\images\\00046.jpg: 1 duplicate labels removed\n",
      "\u001b[34m\u001b[1mtrain: \u001b[0mC:\\Users\\Venu Gopal\\Downloads\\TrainIJYOLO2013\\TrainIJYOLO2013\\train\\images\\00047.jpg: 1 duplicate labels removed\n",
      "\u001b[34m\u001b[1mtrain: \u001b[0mC:\\Users\\Venu Gopal\\Downloads\\TrainIJYOLO2013\\TrainIJYOLO2013\\train\\images\\00048.jpg: 3 duplicate labels removed\n",
      "\u001b[34m\u001b[1mtrain: \u001b[0mC:\\Users\\Venu Gopal\\Downloads\\TrainIJYOLO2013\\TrainIJYOLO2013\\train\\images\\00049.jpg: 2 duplicate labels removed\n",
      "\u001b[34m\u001b[1mtrain: \u001b[0mC:\\Users\\Venu Gopal\\Downloads\\TrainIJYOLO2013\\TrainIJYOLO2013\\train\\images\\00050.jpg: 2 duplicate labels removed\n",
      "\u001b[34m\u001b[1mtrain: \u001b[0mC:\\Users\\Venu Gopal\\Downloads\\TrainIJYOLO2013\\TrainIJYOLO2013\\train\\images\\00051.jpg: 1 duplicate labels removed\n",
      "\u001b[34m\u001b[1mtrain: \u001b[0mC:\\Users\\Venu Gopal\\Downloads\\TrainIJYOLO2013\\TrainIJYOLO2013\\train\\images\\00052.jpg: 2 duplicate labels removed\n",
      "\u001b[34m\u001b[1mtrain: \u001b[0mC:\\Users\\Venu Gopal\\Downloads\\TrainIJYOLO2013\\TrainIJYOLO2013\\train\\images\\00053.jpg: 2 duplicate labels removed\n",
      "\u001b[34m\u001b[1mtrain: \u001b[0mC:\\Users\\Venu Gopal\\Downloads\\TrainIJYOLO2013\\TrainIJYOLO2013\\train\\images\\00054.jpg: 4 duplicate labels removed\n",
      "\u001b[34m\u001b[1mtrain: \u001b[0mC:\\Users\\Venu Gopal\\Downloads\\TrainIJYOLO2013\\TrainIJYOLO2013\\train\\images\\00055.jpg: 1 duplicate labels removed\n",
      "\u001b[34m\u001b[1mtrain: \u001b[0mC:\\Users\\Venu Gopal\\Downloads\\TrainIJYOLO2013\\TrainIJYOLO2013\\train\\images\\00056.jpg: 1 duplicate labels removed\n",
      "\u001b[34m\u001b[1mtrain: \u001b[0mC:\\Users\\Venu Gopal\\Downloads\\TrainIJYOLO2013\\TrainIJYOLO2013\\train\\images\\00057.jpg: 1 duplicate labels removed\n",
      "\u001b[34m\u001b[1mtrain: \u001b[0mC:\\Users\\Venu Gopal\\Downloads\\TrainIJYOLO2013\\TrainIJYOLO2013\\train\\images\\00058.jpg: 1 duplicate labels removed\n",
      "\u001b[34m\u001b[1mtrain: \u001b[0mC:\\Users\\Venu Gopal\\Downloads\\TrainIJYOLO2013\\TrainIJYOLO2013\\train\\images\\00059.jpg: 1 duplicate labels removed\n",
      "\u001b[34m\u001b[1mtrain: \u001b[0mC:\\Users\\Venu Gopal\\Downloads\\TrainIJYOLO2013\\TrainIJYOLO2013\\train\\images\\00060.jpg: 2 duplicate labels removed\n",
      "\u001b[34m\u001b[1mtrain: \u001b[0mC:\\Users\\Venu Gopal\\Downloads\\TrainIJYOLO2013\\TrainIJYOLO2013\\train\\images\\00061.jpg: 1 duplicate labels removed\n",
      "\u001b[34m\u001b[1mtrain: \u001b[0mC:\\Users\\Venu Gopal\\Downloads\\TrainIJYOLO2013\\TrainIJYOLO2013\\train\\images\\00062.jpg: 1 duplicate labels removed\n",
      "\u001b[34m\u001b[1mtrain: \u001b[0mC:\\Users\\Venu Gopal\\Downloads\\TrainIJYOLO2013\\TrainIJYOLO2013\\train\\images\\00063.jpg: 1 duplicate labels removed\n",
      "\u001b[34m\u001b[1mtrain: \u001b[0mC:\\Users\\Venu Gopal\\Downloads\\TrainIJYOLO2013\\TrainIJYOLO2013\\train\\images\\00064.jpg: 1 duplicate labels removed\n",
      "\u001b[34m\u001b[1mtrain: \u001b[0mC:\\Users\\Venu Gopal\\Downloads\\TrainIJYOLO2013\\TrainIJYOLO2013\\train\\images\\00065.jpg: 1 duplicate labels removed\n",
      "\u001b[34m\u001b[1mtrain: \u001b[0mC:\\Users\\Venu Gopal\\Downloads\\TrainIJYOLO2013\\TrainIJYOLO2013\\train\\images\\00066.jpg: 1 duplicate labels removed\n",
      "\u001b[34m\u001b[1mtrain: \u001b[0mC:\\Users\\Venu Gopal\\Downloads\\TrainIJYOLO2013\\TrainIJYOLO2013\\train\\images\\00067.jpg: 1 duplicate labels removed\n",
      "\u001b[34m\u001b[1mtrain: \u001b[0mC:\\Users\\Venu Gopal\\Downloads\\TrainIJYOLO2013\\TrainIJYOLO2013\\train\\images\\00068.jpg: 1 duplicate labels removed\n",
      "\u001b[34m\u001b[1mtrain: \u001b[0mC:\\Users\\Venu Gopal\\Downloads\\TrainIJYOLO2013\\TrainIJYOLO2013\\train\\images\\00069.jpg: 1 duplicate labels removed\n",
      "\u001b[34m\u001b[1mtrain: \u001b[0mC:\\Users\\Venu Gopal\\Downloads\\TrainIJYOLO2013\\TrainIJYOLO2013\\train\\images\\00070.jpg: 1 duplicate labels removed\n",
      "\u001b[34m\u001b[1mtrain: \u001b[0mC:\\Users\\Venu Gopal\\Downloads\\TrainIJYOLO2013\\TrainIJYOLO2013\\train\\images\\00071.jpg: 3 duplicate labels removed\n",
      "\u001b[34m\u001b[1mtrain: \u001b[0mC:\\Users\\Venu Gopal\\Downloads\\TrainIJYOLO2013\\TrainIJYOLO2013\\train\\images\\00072.jpg: 1 duplicate labels removed\n",
      "\u001b[34m\u001b[1mtrain: \u001b[0mC:\\Users\\Venu Gopal\\Downloads\\TrainIJYOLO2013\\TrainIJYOLO2013\\train\\images\\00073.jpg: 6 duplicate labels removed\n",
      "\u001b[34m\u001b[1mtrain: \u001b[0mC:\\Users\\Venu Gopal\\Downloads\\TrainIJYOLO2013\\TrainIJYOLO2013\\train\\images\\00074.jpg: 3 duplicate labels removed\n",
      "\u001b[34m\u001b[1mtrain: \u001b[0mC:\\Users\\Venu Gopal\\Downloads\\TrainIJYOLO2013\\TrainIJYOLO2013\\train\\images\\00075.jpg: 2 duplicate labels removed\n",
      "\u001b[34m\u001b[1mtrain: \u001b[0mC:\\Users\\Venu Gopal\\Downloads\\TrainIJYOLO2013\\TrainIJYOLO2013\\train\\images\\00076.jpg: 2 duplicate labels removed\n",
      "\u001b[34m\u001b[1mtrain: \u001b[0mC:\\Users\\Venu Gopal\\Downloads\\TrainIJYOLO2013\\TrainIJYOLO2013\\train\\images\\00077.jpg: 2 duplicate labels removed\n",
      "\u001b[34m\u001b[1mtrain: \u001b[0mC:\\Users\\Venu Gopal\\Downloads\\TrainIJYOLO2013\\TrainIJYOLO2013\\train\\images\\00078.jpg: 2 duplicate labels removed\n",
      "\u001b[34m\u001b[1mtrain: \u001b[0mC:\\Users\\Venu Gopal\\Downloads\\TrainIJYOLO2013\\TrainIJYOLO2013\\train\\images\\00079.jpg: 1 duplicate labels removed\n",
      "\u001b[34m\u001b[1mtrain: \u001b[0mC:\\Users\\Venu Gopal\\Downloads\\TrainIJYOLO2013\\TrainIJYOLO2013\\train\\images\\00080.jpg: 1 duplicate labels removed\n",
      "\u001b[34m\u001b[1mtrain: \u001b[0mC:\\Users\\Venu Gopal\\Downloads\\TrainIJYOLO2013\\TrainIJYOLO2013\\train\\images\\00081.jpg: 2 duplicate labels removed\n",
      "\u001b[34m\u001b[1mtrain: \u001b[0mC:\\Users\\Venu Gopal\\Downloads\\TrainIJYOLO2013\\TrainIJYOLO2013\\train\\images\\00082.jpg: 1 duplicate labels removed\n",
      "\u001b[34m\u001b[1mtrain: \u001b[0mC:\\Users\\Venu Gopal\\Downloads\\TrainIJYOLO2013\\TrainIJYOLO2013\\train\\images\\00083.jpg: 2 duplicate labels removed\n",
      "\u001b[34m\u001b[1mtrain: \u001b[0mC:\\Users\\Venu Gopal\\Downloads\\TrainIJYOLO2013\\TrainIJYOLO2013\\train\\images\\00084.jpg: 1 duplicate labels removed\n",
      "\u001b[34m\u001b[1mtrain: \u001b[0mC:\\Users\\Venu Gopal\\Downloads\\TrainIJYOLO2013\\TrainIJYOLO2013\\train\\images\\00085.jpg: 1 duplicate labels removed\n",
      "\u001b[34m\u001b[1mtrain: \u001b[0mC:\\Users\\Venu Gopal\\Downloads\\TrainIJYOLO2013\\TrainIJYOLO2013\\train\\images\\00086.jpg: 1 duplicate labels removed\n",
      "\u001b[34m\u001b[1mtrain: \u001b[0mC:\\Users\\Venu Gopal\\Downloads\\TrainIJYOLO2013\\TrainIJYOLO2013\\train\\images\\00087.jpg: 2 duplicate labels removed\n",
      "\u001b[34m\u001b[1mtrain: \u001b[0mC:\\Users\\Venu Gopal\\Downloads\\TrainIJYOLO2013\\TrainIJYOLO2013\\train\\images\\00088.jpg: 4 duplicate labels removed\n",
      "\u001b[34m\u001b[1mtrain: \u001b[0mC:\\Users\\Venu Gopal\\Downloads\\TrainIJYOLO2013\\TrainIJYOLO2013\\train\\images\\00089.jpg: 2 duplicate labels removed\n",
      "\u001b[34m\u001b[1mtrain: \u001b[0mC:\\Users\\Venu Gopal\\Downloads\\TrainIJYOLO2013\\TrainIJYOLO2013\\train\\images\\00090.jpg: 1 duplicate labels removed\n",
      "\u001b[34m\u001b[1mtrain: \u001b[0mC:\\Users\\Venu Gopal\\Downloads\\TrainIJYOLO2013\\TrainIJYOLO2013\\train\\images\\00091.jpg: 3 duplicate labels removed\n",
      "\u001b[34m\u001b[1mtrain: \u001b[0mC:\\Users\\Venu Gopal\\Downloads\\TrainIJYOLO2013\\TrainIJYOLO2013\\train\\images\\00092.jpg: 3 duplicate labels removed\n",
      "\u001b[34m\u001b[1mtrain: \u001b[0mC:\\Users\\Venu Gopal\\Downloads\\TrainIJYOLO2013\\TrainIJYOLO2013\\train\\images\\00093.jpg: 2 duplicate labels removed\n",
      "\u001b[34m\u001b[1mtrain: \u001b[0mC:\\Users\\Venu Gopal\\Downloads\\TrainIJYOLO2013\\TrainIJYOLO2013\\train\\images\\00094.jpg: 2 duplicate labels removed\n",
      "\u001b[34m\u001b[1mtrain: \u001b[0mC:\\Users\\Venu Gopal\\Downloads\\TrainIJYOLO2013\\TrainIJYOLO2013\\train\\images\\00095.jpg: 2 duplicate labels removed\n",
      "\u001b[34m\u001b[1mtrain: \u001b[0mC:\\Users\\Venu Gopal\\Downloads\\TrainIJYOLO2013\\TrainIJYOLO2013\\train\\images\\00096.jpg: 2 duplicate labels removed\n",
      "\u001b[34m\u001b[1mtrain: \u001b[0mC:\\Users\\Venu Gopal\\Downloads\\TrainIJYOLO2013\\TrainIJYOLO2013\\train\\images\\00097.jpg: 3 duplicate labels removed\n",
      "\u001b[34m\u001b[1mtrain: \u001b[0mC:\\Users\\Venu Gopal\\Downloads\\TrainIJYOLO2013\\TrainIJYOLO2013\\train\\images\\00098.jpg: 2 duplicate labels removed\n",
      "\u001b[34m\u001b[1mtrain: \u001b[0mC:\\Users\\Venu Gopal\\Downloads\\TrainIJYOLO2013\\TrainIJYOLO2013\\train\\images\\00099.jpg: 1 duplicate labels removed\n",
      "\u001b[34m\u001b[1mtrain: \u001b[0mC:\\Users\\Venu Gopal\\Downloads\\TrainIJYOLO2013\\TrainIJYOLO2013\\train\\images\\00100.jpg: 2 duplicate labels removed\n",
      "\u001b[34m\u001b[1mtrain: \u001b[0mC:\\Users\\Venu Gopal\\Downloads\\TrainIJYOLO2013\\TrainIJYOLO2013\\train\\images\\00101.jpg: 1 duplicate labels removed\n",
      "\u001b[34m\u001b[1mtrain: \u001b[0mC:\\Users\\Venu Gopal\\Downloads\\TrainIJYOLO2013\\TrainIJYOLO2013\\train\\images\\00102.jpg: 2 duplicate labels removed\n",
      "\u001b[34m\u001b[1mtrain: \u001b[0mC:\\Users\\Venu Gopal\\Downloads\\TrainIJYOLO2013\\TrainIJYOLO2013\\train\\images\\00103.jpg: 2 duplicate labels removed\n",
      "\u001b[34m\u001b[1mtrain: \u001b[0mC:\\Users\\Venu Gopal\\Downloads\\TrainIJYOLO2013\\TrainIJYOLO2013\\train\\images\\00104.jpg: 2 duplicate labels removed\n",
      "\u001b[34m\u001b[1mtrain: \u001b[0mC:\\Users\\Venu Gopal\\Downloads\\TrainIJYOLO2013\\TrainIJYOLO2013\\train\\images\\00105.jpg: 2 duplicate labels removed\n",
      "\u001b[34m\u001b[1mtrain: \u001b[0mC:\\Users\\Venu Gopal\\Downloads\\TrainIJYOLO2013\\TrainIJYOLO2013\\train\\images\\00106.jpg: 1 duplicate labels removed\n",
      "\u001b[34m\u001b[1mtrain: \u001b[0mC:\\Users\\Venu Gopal\\Downloads\\TrainIJYOLO2013\\TrainIJYOLO2013\\train\\images\\00107.jpg: 2 duplicate labels removed\n",
      "\u001b[34m\u001b[1mtrain: \u001b[0mC:\\Users\\Venu Gopal\\Downloads\\TrainIJYOLO2013\\TrainIJYOLO2013\\train\\images\\00109.jpg: 1 duplicate labels removed\n",
      "\u001b[34m\u001b[1mtrain: \u001b[0mC:\\Users\\Venu Gopal\\Downloads\\TrainIJYOLO2013\\TrainIJYOLO2013\\train\\images\\00110.jpg: 1 duplicate labels removed\n",
      "\u001b[34m\u001b[1mtrain: \u001b[0mC:\\Users\\Venu Gopal\\Downloads\\TrainIJYOLO2013\\TrainIJYOLO2013\\train\\images\\00111.jpg: 2 duplicate labels removed\n",
      "\u001b[34m\u001b[1mtrain: \u001b[0mC:\\Users\\Venu Gopal\\Downloads\\TrainIJYOLO2013\\TrainIJYOLO2013\\train\\images\\00112.jpg: 2 duplicate labels removed\n",
      "\u001b[34m\u001b[1mtrain: \u001b[0mC:\\Users\\Venu Gopal\\Downloads\\TrainIJYOLO2013\\TrainIJYOLO2013\\train\\images\\00113.jpg: 1 duplicate labels removed\n",
      "\u001b[34m\u001b[1mtrain: \u001b[0mC:\\Users\\Venu Gopal\\Downloads\\TrainIJYOLO2013\\TrainIJYOLO2013\\train\\images\\00114.jpg: 1 duplicate labels removed\n",
      "\u001b[34m\u001b[1mtrain: \u001b[0mC:\\Users\\Venu Gopal\\Downloads\\TrainIJYOLO2013\\TrainIJYOLO2013\\train\\images\\00115.jpg: 2 duplicate labels removed\n",
      "\u001b[34m\u001b[1mtrain: \u001b[0mC:\\Users\\Venu Gopal\\Downloads\\TrainIJYOLO2013\\TrainIJYOLO2013\\train\\images\\00116.jpg: 2 duplicate labels removed\n",
      "\u001b[34m\u001b[1mtrain: \u001b[0mC:\\Users\\Venu Gopal\\Downloads\\TrainIJYOLO2013\\TrainIJYOLO2013\\train\\images\\00117.jpg: 2 duplicate labels removed\n",
      "\u001b[34m\u001b[1mtrain: \u001b[0mC:\\Users\\Venu Gopal\\Downloads\\TrainIJYOLO2013\\TrainIJYOLO2013\\train\\images\\00118.jpg: 1 duplicate labels removed\n",
      "\u001b[34m\u001b[1mtrain: \u001b[0mC:\\Users\\Venu Gopal\\Downloads\\TrainIJYOLO2013\\TrainIJYOLO2013\\train\\images\\00119.jpg: 2 duplicate labels removed\n",
      "\u001b[34m\u001b[1mtrain: \u001b[0mC:\\Users\\Venu Gopal\\Downloads\\TrainIJYOLO2013\\TrainIJYOLO2013\\train\\images\\00120.jpg: 1 duplicate labels removed\n",
      "\u001b[34m\u001b[1mtrain: \u001b[0mC:\\Users\\Venu Gopal\\Downloads\\TrainIJYOLO2013\\TrainIJYOLO2013\\train\\images\\00121.jpg: 1 duplicate labels removed\n",
      "\u001b[34m\u001b[1mtrain: \u001b[0mC:\\Users\\Venu Gopal\\Downloads\\TrainIJYOLO2013\\TrainIJYOLO2013\\train\\images\\00122.jpg: 2 duplicate labels removed\n",
      "\u001b[34m\u001b[1mtrain: \u001b[0mC:\\Users\\Venu Gopal\\Downloads\\TrainIJYOLO2013\\TrainIJYOLO2013\\train\\images\\00123.jpg: 2 duplicate labels removed\n",
      "\u001b[34m\u001b[1mtrain: \u001b[0mC:\\Users\\Venu Gopal\\Downloads\\TrainIJYOLO2013\\TrainIJYOLO2013\\train\\images\\00124.jpg: 2 duplicate labels removed\n",
      "\u001b[34m\u001b[1mtrain: \u001b[0mC:\\Users\\Venu Gopal\\Downloads\\TrainIJYOLO2013\\TrainIJYOLO2013\\train\\images\\00125.jpg: 1 duplicate labels removed\n",
      "\u001b[34m\u001b[1mtrain: \u001b[0mC:\\Users\\Venu Gopal\\Downloads\\TrainIJYOLO2013\\TrainIJYOLO2013\\train\\images\\00126.jpg: 2 duplicate labels removed\n",
      "\u001b[34m\u001b[1mtrain: \u001b[0mC:\\Users\\Venu Gopal\\Downloads\\TrainIJYOLO2013\\TrainIJYOLO2013\\train\\images\\00127.jpg: 2 duplicate labels removed\n",
      "\u001b[34m\u001b[1mtrain: \u001b[0mC:\\Users\\Venu Gopal\\Downloads\\TrainIJYOLO2013\\TrainIJYOLO2013\\train\\images\\00128.jpg: 1 duplicate labels removed\n",
      "\u001b[34m\u001b[1mtrain: \u001b[0mC:\\Users\\Venu Gopal\\Downloads\\TrainIJYOLO2013\\TrainIJYOLO2013\\train\\images\\00129.jpg: 2 duplicate labels removed\n",
      "\u001b[34m\u001b[1mtrain: \u001b[0mC:\\Users\\Venu Gopal\\Downloads\\TrainIJYOLO2013\\TrainIJYOLO2013\\train\\images\\00130.jpg: 3 duplicate labels removed\n",
      "\u001b[34m\u001b[1mtrain: \u001b[0mC:\\Users\\Venu Gopal\\Downloads\\TrainIJYOLO2013\\TrainIJYOLO2013\\train\\images\\00131.jpg: 2 duplicate labels removed\n",
      "\u001b[34m\u001b[1mtrain: \u001b[0mC:\\Users\\Venu Gopal\\Downloads\\TrainIJYOLO2013\\TrainIJYOLO2013\\train\\images\\00132.jpg: 1 duplicate labels removed\n",
      "\u001b[34m\u001b[1mtrain: \u001b[0mC:\\Users\\Venu Gopal\\Downloads\\TrainIJYOLO2013\\TrainIJYOLO2013\\train\\images\\00133.jpg: 3 duplicate labels removed\n",
      "\u001b[34m\u001b[1mtrain: \u001b[0mC:\\Users\\Venu Gopal\\Downloads\\TrainIJYOLO2013\\TrainIJYOLO2013\\train\\images\\00134.jpg: 1 duplicate labels removed\n",
      "\u001b[34m\u001b[1mtrain: \u001b[0mC:\\Users\\Venu Gopal\\Downloads\\TrainIJYOLO2013\\TrainIJYOLO2013\\train\\images\\00135.jpg: 1 duplicate labels removed\n",
      "\u001b[34m\u001b[1mtrain: \u001b[0mC:\\Users\\Venu Gopal\\Downloads\\TrainIJYOLO2013\\TrainIJYOLO2013\\train\\images\\00136.jpg: 1 duplicate labels removed\n",
      "\u001b[34m\u001b[1mtrain: \u001b[0mC:\\Users\\Venu Gopal\\Downloads\\TrainIJYOLO2013\\TrainIJYOLO2013\\train\\images\\00137.jpg: 1 duplicate labels removed\n",
      "\u001b[34m\u001b[1mtrain: \u001b[0mC:\\Users\\Venu Gopal\\Downloads\\TrainIJYOLO2013\\TrainIJYOLO2013\\train\\images\\00138.jpg: 2 duplicate labels removed\n",
      "\u001b[34m\u001b[1mtrain: \u001b[0mC:\\Users\\Venu Gopal\\Downloads\\TrainIJYOLO2013\\TrainIJYOLO2013\\train\\images\\00140.jpg: 1 duplicate labels removed\n",
      "\u001b[34m\u001b[1mtrain: \u001b[0mC:\\Users\\Venu Gopal\\Downloads\\TrainIJYOLO2013\\TrainIJYOLO2013\\train\\images\\00141.jpg: 1 duplicate labels removed\n",
      "\u001b[34m\u001b[1mtrain: \u001b[0mC:\\Users\\Venu Gopal\\Downloads\\TrainIJYOLO2013\\TrainIJYOLO2013\\train\\images\\00142.jpg: 1 duplicate labels removed\n",
      "\u001b[34m\u001b[1mtrain: \u001b[0mC:\\Users\\Venu Gopal\\Downloads\\TrainIJYOLO2013\\TrainIJYOLO2013\\train\\images\\00143.jpg: 1 duplicate labels removed\n",
      "\u001b[34m\u001b[1mtrain: \u001b[0mC:\\Users\\Venu Gopal\\Downloads\\TrainIJYOLO2013\\TrainIJYOLO2013\\train\\images\\00144.jpg: 1 duplicate labels removed\n",
      "\u001b[34m\u001b[1mtrain: \u001b[0mC:\\Users\\Venu Gopal\\Downloads\\TrainIJYOLO2013\\TrainIJYOLO2013\\train\\images\\00146.jpg: 3 duplicate labels removed\n",
      "\u001b[34m\u001b[1mtrain: \u001b[0mC:\\Users\\Venu Gopal\\Downloads\\TrainIJYOLO2013\\TrainIJYOLO2013\\train\\images\\00147.jpg: 1 duplicate labels removed\n",
      "\u001b[34m\u001b[1mtrain: \u001b[0mC:\\Users\\Venu Gopal\\Downloads\\TrainIJYOLO2013\\TrainIJYOLO2013\\train\\images\\00148.jpg: 1 duplicate labels removed\n",
      "\u001b[34m\u001b[1mtrain: \u001b[0mC:\\Users\\Venu Gopal\\Downloads\\TrainIJYOLO2013\\TrainIJYOLO2013\\train\\images\\00149.jpg: 3 duplicate labels removed\n",
      "\u001b[34m\u001b[1mtrain: \u001b[0mC:\\Users\\Venu Gopal\\Downloads\\TrainIJYOLO2013\\TrainIJYOLO2013\\train\\images\\00150.jpg: 1 duplicate labels removed\n",
      "\u001b[34m\u001b[1mtrain: \u001b[0mC:\\Users\\Venu Gopal\\Downloads\\TrainIJYOLO2013\\TrainIJYOLO2013\\train\\images\\00151.jpg: 1 duplicate labels removed\n",
      "\u001b[34m\u001b[1mtrain: \u001b[0mC:\\Users\\Venu Gopal\\Downloads\\TrainIJYOLO2013\\TrainIJYOLO2013\\train\\images\\00152.jpg: 1 duplicate labels removed\n",
      "\u001b[34m\u001b[1mtrain: \u001b[0mC:\\Users\\Venu Gopal\\Downloads\\TrainIJYOLO2013\\TrainIJYOLO2013\\train\\images\\00153.jpg: 1 duplicate labels removed\n",
      "\u001b[34m\u001b[1mtrain: \u001b[0mC:\\Users\\Venu Gopal\\Downloads\\TrainIJYOLO2013\\TrainIJYOLO2013\\train\\images\\00154.jpg: 1 duplicate labels removed\n",
      "\u001b[34m\u001b[1mtrain: \u001b[0mC:\\Users\\Venu Gopal\\Downloads\\TrainIJYOLO2013\\TrainIJYOLO2013\\train\\images\\00155.jpg: 1 duplicate labels removed\n",
      "\u001b[34m\u001b[1mtrain: \u001b[0mC:\\Users\\Venu Gopal\\Downloads\\TrainIJYOLO2013\\TrainIJYOLO2013\\train\\images\\00156.jpg: 1 duplicate labels removed\n",
      "\u001b[34m\u001b[1mtrain: \u001b[0mC:\\Users\\Venu Gopal\\Downloads\\TrainIJYOLO2013\\TrainIJYOLO2013\\train\\images\\00157.jpg: 3 duplicate labels removed\n",
      "\u001b[34m\u001b[1mtrain: \u001b[0mC:\\Users\\Venu Gopal\\Downloads\\TrainIJYOLO2013\\TrainIJYOLO2013\\train\\images\\00158.jpg: 1 duplicate labels removed\n",
      "\u001b[34m\u001b[1mtrain: \u001b[0mC:\\Users\\Venu Gopal\\Downloads\\TrainIJYOLO2013\\TrainIJYOLO2013\\train\\images\\00159.jpg: 4 duplicate labels removed\n",
      "\u001b[34m\u001b[1mtrain: \u001b[0mC:\\Users\\Venu Gopal\\Downloads\\TrainIJYOLO2013\\TrainIJYOLO2013\\train\\images\\00160.jpg: 1 duplicate labels removed\n",
      "\u001b[34m\u001b[1mtrain: \u001b[0mC:\\Users\\Venu Gopal\\Downloads\\TrainIJYOLO2013\\TrainIJYOLO2013\\train\\images\\00161.jpg: 1 duplicate labels removed\n",
      "\u001b[34m\u001b[1mtrain: \u001b[0mC:\\Users\\Venu Gopal\\Downloads\\TrainIJYOLO2013\\TrainIJYOLO2013\\train\\images\\00162.jpg: 3 duplicate labels removed\n",
      "\u001b[34m\u001b[1mtrain: \u001b[0mC:\\Users\\Venu Gopal\\Downloads\\TrainIJYOLO2013\\TrainIJYOLO2013\\train\\images\\00163.jpg: 1 duplicate labels removed\n",
      "\u001b[34m\u001b[1mtrain: \u001b[0mC:\\Users\\Venu Gopal\\Downloads\\TrainIJYOLO2013\\TrainIJYOLO2013\\train\\images\\00164.jpg: 1 duplicate labels removed\n",
      "\u001b[34m\u001b[1mtrain: \u001b[0mC:\\Users\\Venu Gopal\\Downloads\\TrainIJYOLO2013\\TrainIJYOLO2013\\train\\images\\00165.jpg: 2 duplicate labels removed\n",
      "\u001b[34m\u001b[1mtrain: \u001b[0mC:\\Users\\Venu Gopal\\Downloads\\TrainIJYOLO2013\\TrainIJYOLO2013\\train\\images\\00166.jpg: 1 duplicate labels removed\n",
      "\u001b[34m\u001b[1mtrain: \u001b[0mC:\\Users\\Venu Gopal\\Downloads\\TrainIJYOLO2013\\TrainIJYOLO2013\\train\\images\\00167.jpg: 2 duplicate labels removed\n",
      "\u001b[34m\u001b[1mtrain: \u001b[0mC:\\Users\\Venu Gopal\\Downloads\\TrainIJYOLO2013\\TrainIJYOLO2013\\train\\images\\00168.jpg: 1 duplicate labels removed\n",
      "\u001b[34m\u001b[1mtrain: \u001b[0mC:\\Users\\Venu Gopal\\Downloads\\TrainIJYOLO2013\\TrainIJYOLO2013\\train\\images\\00169.jpg: 1 duplicate labels removed\n",
      "\u001b[34m\u001b[1mtrain: \u001b[0mC:\\Users\\Venu Gopal\\Downloads\\TrainIJYOLO2013\\TrainIJYOLO2013\\train\\images\\00170.jpg: 1 duplicate labels removed\n",
      "\u001b[34m\u001b[1mtrain: \u001b[0mC:\\Users\\Venu Gopal\\Downloads\\TrainIJYOLO2013\\TrainIJYOLO2013\\train\\images\\00171.jpg: 2 duplicate labels removed\n",
      "\u001b[34m\u001b[1mtrain: \u001b[0mC:\\Users\\Venu Gopal\\Downloads\\TrainIJYOLO2013\\TrainIJYOLO2013\\train\\images\\00172.jpg: 2 duplicate labels removed\n",
      "\u001b[34m\u001b[1mtrain: \u001b[0mC:\\Users\\Venu Gopal\\Downloads\\TrainIJYOLO2013\\TrainIJYOLO2013\\train\\images\\00173.jpg: 1 duplicate labels removed\n",
      "\u001b[34m\u001b[1mtrain: \u001b[0mC:\\Users\\Venu Gopal\\Downloads\\TrainIJYOLO2013\\TrainIJYOLO2013\\train\\images\\00174.jpg: 3 duplicate labels removed\n",
      "\u001b[34m\u001b[1mtrain: \u001b[0mC:\\Users\\Venu Gopal\\Downloads\\TrainIJYOLO2013\\TrainIJYOLO2013\\train\\images\\00175.jpg: 1 duplicate labels removed\n",
      "\u001b[34m\u001b[1mtrain: \u001b[0mC:\\Users\\Venu Gopal\\Downloads\\TrainIJYOLO2013\\TrainIJYOLO2013\\train\\images\\00176.jpg: 1 duplicate labels removed\n",
      "\u001b[34m\u001b[1mtrain: \u001b[0mC:\\Users\\Venu Gopal\\Downloads\\TrainIJYOLO2013\\TrainIJYOLO2013\\train\\images\\00177.jpg: 4 duplicate labels removed\n",
      "\u001b[34m\u001b[1mtrain: \u001b[0mC:\\Users\\Venu Gopal\\Downloads\\TrainIJYOLO2013\\TrainIJYOLO2013\\train\\images\\00178.jpg: 1 duplicate labels removed\n",
      "\u001b[34m\u001b[1mtrain: \u001b[0mC:\\Users\\Venu Gopal\\Downloads\\TrainIJYOLO2013\\TrainIJYOLO2013\\train\\images\\00179.jpg: 1 duplicate labels removed\n",
      "\u001b[34m\u001b[1mtrain: \u001b[0mC:\\Users\\Venu Gopal\\Downloads\\TrainIJYOLO2013\\TrainIJYOLO2013\\train\\images\\00180.jpg: 1 duplicate labels removed\n",
      "\u001b[34m\u001b[1mtrain: \u001b[0mC:\\Users\\Venu Gopal\\Downloads\\TrainIJYOLO2013\\TrainIJYOLO2013\\train\\images\\00181.jpg: 1 duplicate labels removed\n",
      "\u001b[34m\u001b[1mtrain: \u001b[0mC:\\Users\\Venu Gopal\\Downloads\\TrainIJYOLO2013\\TrainIJYOLO2013\\train\\images\\00182.jpg: 2 duplicate labels removed\n",
      "\u001b[34m\u001b[1mtrain: \u001b[0mC:\\Users\\Venu Gopal\\Downloads\\TrainIJYOLO2013\\TrainIJYOLO2013\\train\\images\\00183.jpg: 1 duplicate labels removed\n",
      "\u001b[34m\u001b[1mtrain: \u001b[0mC:\\Users\\Venu Gopal\\Downloads\\TrainIJYOLO2013\\TrainIJYOLO2013\\train\\images\\00184.jpg: 1 duplicate labels removed\n",
      "\u001b[34m\u001b[1mtrain: \u001b[0mC:\\Users\\Venu Gopal\\Downloads\\TrainIJYOLO2013\\TrainIJYOLO2013\\train\\images\\00185.jpg: 1 duplicate labels removed\n",
      "\u001b[34m\u001b[1mtrain: \u001b[0mC:\\Users\\Venu Gopal\\Downloads\\TrainIJYOLO2013\\TrainIJYOLO2013\\train\\images\\00186.jpg: 3 duplicate labels removed\n",
      "\u001b[34m\u001b[1mtrain: \u001b[0mC:\\Users\\Venu Gopal\\Downloads\\TrainIJYOLO2013\\TrainIJYOLO2013\\train\\images\\00187.jpg: 2 duplicate labels removed\n",
      "\u001b[34m\u001b[1mtrain: \u001b[0mC:\\Users\\Venu Gopal\\Downloads\\TrainIJYOLO2013\\TrainIJYOLO2013\\train\\images\\00188.jpg: 1 duplicate labels removed\n",
      "\u001b[34m\u001b[1mtrain: \u001b[0mC:\\Users\\Venu Gopal\\Downloads\\TrainIJYOLO2013\\TrainIJYOLO2013\\train\\images\\00189.jpg: 1 duplicate labels removed\n",
      "\u001b[34m\u001b[1mtrain: \u001b[0mC:\\Users\\Venu Gopal\\Downloads\\TrainIJYOLO2013\\TrainIJYOLO2013\\train\\images\\00190.jpg: 1 duplicate labels removed\n",
      "\u001b[34m\u001b[1mtrain: \u001b[0mC:\\Users\\Venu Gopal\\Downloads\\TrainIJYOLO2013\\TrainIJYOLO2013\\train\\images\\00191.jpg: 1 duplicate labels removed\n",
      "\u001b[34m\u001b[1mtrain: \u001b[0mC:\\Users\\Venu Gopal\\Downloads\\TrainIJYOLO2013\\TrainIJYOLO2013\\train\\images\\00192.jpg: 3 duplicate labels removed\n",
      "\u001b[34m\u001b[1mtrain: \u001b[0mC:\\Users\\Venu Gopal\\Downloads\\TrainIJYOLO2013\\TrainIJYOLO2013\\train\\images\\00193.jpg: 1 duplicate labels removed\n",
      "\u001b[34m\u001b[1mtrain: \u001b[0mC:\\Users\\Venu Gopal\\Downloads\\TrainIJYOLO2013\\TrainIJYOLO2013\\train\\images\\00194.jpg: 1 duplicate labels removed\n",
      "\u001b[34m\u001b[1mtrain: \u001b[0mC:\\Users\\Venu Gopal\\Downloads\\TrainIJYOLO2013\\TrainIJYOLO2013\\train\\images\\00195.jpg: 2 duplicate labels removed\n",
      "\u001b[34m\u001b[1mtrain: \u001b[0mC:\\Users\\Venu Gopal\\Downloads\\TrainIJYOLO2013\\TrainIJYOLO2013\\train\\images\\00196.jpg: 3 duplicate labels removed\n",
      "\u001b[34m\u001b[1mtrain: \u001b[0mC:\\Users\\Venu Gopal\\Downloads\\TrainIJYOLO2013\\TrainIJYOLO2013\\train\\images\\00197.jpg: 1 duplicate labels removed\n",
      "\u001b[34m\u001b[1mtrain: \u001b[0mC:\\Users\\Venu Gopal\\Downloads\\TrainIJYOLO2013\\TrainIJYOLO2013\\train\\images\\00198.jpg: 2 duplicate labels removed\n",
      "\u001b[34m\u001b[1mtrain: \u001b[0mC:\\Users\\Venu Gopal\\Downloads\\TrainIJYOLO2013\\TrainIJYOLO2013\\train\\images\\00199.jpg: 1 duplicate labels removed\n",
      "\u001b[34m\u001b[1mtrain: \u001b[0mC:\\Users\\Venu Gopal\\Downloads\\TrainIJYOLO2013\\TrainIJYOLO2013\\train\\images\\00200.jpg: 4 duplicate labels removed\n",
      "\u001b[34m\u001b[1mtrain: \u001b[0mC:\\Users\\Venu Gopal\\Downloads\\TrainIJYOLO2013\\TrainIJYOLO2013\\train\\images\\00201.jpg: 1 duplicate labels removed\n",
      "\u001b[34m\u001b[1mtrain: \u001b[0mC:\\Users\\Venu Gopal\\Downloads\\TrainIJYOLO2013\\TrainIJYOLO2013\\train\\images\\00202.jpg: 2 duplicate labels removed\n",
      "\u001b[34m\u001b[1mtrain: \u001b[0mC:\\Users\\Venu Gopal\\Downloads\\TrainIJYOLO2013\\TrainIJYOLO2013\\train\\images\\00203.jpg: 1 duplicate labels removed\n",
      "\u001b[34m\u001b[1mtrain: \u001b[0mC:\\Users\\Venu Gopal\\Downloads\\TrainIJYOLO2013\\TrainIJYOLO2013\\train\\images\\00204.jpg: 2 duplicate labels removed\n",
      "\u001b[34m\u001b[1mtrain: \u001b[0mC:\\Users\\Venu Gopal\\Downloads\\TrainIJYOLO2013\\TrainIJYOLO2013\\train\\images\\00205.jpg: 1 duplicate labels removed\n",
      "\u001b[34m\u001b[1mtrain: \u001b[0mC:\\Users\\Venu Gopal\\Downloads\\TrainIJYOLO2013\\TrainIJYOLO2013\\train\\images\\00206.jpg: 5 duplicate labels removed\n",
      "\u001b[34m\u001b[1mtrain: \u001b[0mC:\\Users\\Venu Gopal\\Downloads\\TrainIJYOLO2013\\TrainIJYOLO2013\\train\\images\\00207.jpg: 1 duplicate labels removed\n",
      "\u001b[34m\u001b[1mtrain: \u001b[0mC:\\Users\\Venu Gopal\\Downloads\\TrainIJYOLO2013\\TrainIJYOLO2013\\train\\images\\00208.jpg: 1 duplicate labels removed\n",
      "\u001b[34m\u001b[1mtrain: \u001b[0mC:\\Users\\Venu Gopal\\Downloads\\TrainIJYOLO2013\\TrainIJYOLO2013\\train\\images\\00209.jpg: 2 duplicate labels removed\n",
      "\u001b[34m\u001b[1mtrain: \u001b[0mC:\\Users\\Venu Gopal\\Downloads\\TrainIJYOLO2013\\TrainIJYOLO2013\\train\\images\\00210.jpg: 2 duplicate labels removed\n",
      "\u001b[34m\u001b[1mtrain: \u001b[0mC:\\Users\\Venu Gopal\\Downloads\\TrainIJYOLO2013\\TrainIJYOLO2013\\train\\images\\00211.jpg: 1 duplicate labels removed\n",
      "\u001b[34m\u001b[1mtrain: \u001b[0mC:\\Users\\Venu Gopal\\Downloads\\TrainIJYOLO2013\\TrainIJYOLO2013\\train\\images\\00212.jpg: 3 duplicate labels removed\n",
      "\u001b[34m\u001b[1mtrain: \u001b[0mC:\\Users\\Venu Gopal\\Downloads\\TrainIJYOLO2013\\TrainIJYOLO2013\\train\\images\\00214.jpg: 2 duplicate labels removed\n",
      "\u001b[34m\u001b[1mtrain: \u001b[0mC:\\Users\\Venu Gopal\\Downloads\\TrainIJYOLO2013\\TrainIJYOLO2013\\train\\images\\00215.jpg: 1 duplicate labels removed\n",
      "\u001b[34m\u001b[1mtrain: \u001b[0mC:\\Users\\Venu Gopal\\Downloads\\TrainIJYOLO2013\\TrainIJYOLO2013\\train\\images\\00216.jpg: 2 duplicate labels removed\n",
      "\u001b[34m\u001b[1mtrain: \u001b[0mC:\\Users\\Venu Gopal\\Downloads\\TrainIJYOLO2013\\TrainIJYOLO2013\\train\\images\\00217.jpg: 1 duplicate labels removed\n",
      "\u001b[34m\u001b[1mtrain: \u001b[0mC:\\Users\\Venu Gopal\\Downloads\\TrainIJYOLO2013\\TrainIJYOLO2013\\train\\images\\00218.jpg: 1 duplicate labels removed\n",
      "\u001b[34m\u001b[1mtrain: \u001b[0mC:\\Users\\Venu Gopal\\Downloads\\TrainIJYOLO2013\\TrainIJYOLO2013\\train\\images\\00219.jpg: 2 duplicate labels removed\n",
      "\u001b[34m\u001b[1mtrain: \u001b[0mC:\\Users\\Venu Gopal\\Downloads\\TrainIJYOLO2013\\TrainIJYOLO2013\\train\\images\\00220.jpg: 1 duplicate labels removed\n",
      "\u001b[34m\u001b[1mtrain: \u001b[0mC:\\Users\\Venu Gopal\\Downloads\\TrainIJYOLO2013\\TrainIJYOLO2013\\train\\images\\00221.jpg: 1 duplicate labels removed\n",
      "\u001b[34m\u001b[1mtrain: \u001b[0mC:\\Users\\Venu Gopal\\Downloads\\TrainIJYOLO2013\\TrainIJYOLO2013\\train\\images\\00222.jpg: 1 duplicate labels removed\n",
      "\u001b[34m\u001b[1mtrain: \u001b[0mC:\\Users\\Venu Gopal\\Downloads\\TrainIJYOLO2013\\TrainIJYOLO2013\\train\\images\\00223.jpg: 1 duplicate labels removed\n",
      "\u001b[34m\u001b[1mtrain: \u001b[0mC:\\Users\\Venu Gopal\\Downloads\\TrainIJYOLO2013\\TrainIJYOLO2013\\train\\images\\00224.jpg: 3 duplicate labels removed\n",
      "\u001b[34m\u001b[1mtrain: \u001b[0mC:\\Users\\Venu Gopal\\Downloads\\TrainIJYOLO2013\\TrainIJYOLO2013\\train\\images\\00225.jpg: 1 duplicate labels removed\n",
      "\u001b[34m\u001b[1mtrain: \u001b[0mC:\\Users\\Venu Gopal\\Downloads\\TrainIJYOLO2013\\TrainIJYOLO2013\\train\\images\\00226.jpg: 1 duplicate labels removed\n",
      "\u001b[34m\u001b[1mtrain: \u001b[0mC:\\Users\\Venu Gopal\\Downloads\\TrainIJYOLO2013\\TrainIJYOLO2013\\train\\images\\00227.jpg: 1 duplicate labels removed\n",
      "\u001b[34m\u001b[1mtrain: \u001b[0mC:\\Users\\Venu Gopal\\Downloads\\TrainIJYOLO2013\\TrainIJYOLO2013\\train\\images\\00228.jpg: 1 duplicate labels removed\n",
      "\u001b[34m\u001b[1mtrain: \u001b[0mC:\\Users\\Venu Gopal\\Downloads\\TrainIJYOLO2013\\TrainIJYOLO2013\\train\\images\\00229.jpg: 3 duplicate labels removed\n",
      "\u001b[34m\u001b[1mtrain: \u001b[0mC:\\Users\\Venu Gopal\\Downloads\\TrainIJYOLO2013\\TrainIJYOLO2013\\train\\images\\00230.jpg: 2 duplicate labels removed\n",
      "\u001b[34m\u001b[1mtrain: \u001b[0mC:\\Users\\Venu Gopal\\Downloads\\TrainIJYOLO2013\\TrainIJYOLO2013\\train\\images\\00231.jpg: 1 duplicate labels removed\n",
      "\u001b[34m\u001b[1mtrain: \u001b[0mC:\\Users\\Venu Gopal\\Downloads\\TrainIJYOLO2013\\TrainIJYOLO2013\\train\\images\\00232.jpg: 3 duplicate labels removed\n",
      "\u001b[34m\u001b[1mtrain: \u001b[0mC:\\Users\\Venu Gopal\\Downloads\\TrainIJYOLO2013\\TrainIJYOLO2013\\train\\images\\00233.jpg: 1 duplicate labels removed\n",
      "\u001b[34m\u001b[1mtrain: \u001b[0mC:\\Users\\Venu Gopal\\Downloads\\TrainIJYOLO2013\\TrainIJYOLO2013\\train\\images\\00234.jpg: 1 duplicate labels removed\n",
      "\u001b[34m\u001b[1mtrain: \u001b[0mC:\\Users\\Venu Gopal\\Downloads\\TrainIJYOLO2013\\TrainIJYOLO2013\\train\\images\\00236.jpg: 1 duplicate labels removed\n",
      "\u001b[34m\u001b[1mtrain: \u001b[0mC:\\Users\\Venu Gopal\\Downloads\\TrainIJYOLO2013\\TrainIJYOLO2013\\train\\images\\00237.jpg: 2 duplicate labels removed\n",
      "\u001b[34m\u001b[1mtrain: \u001b[0mC:\\Users\\Venu Gopal\\Downloads\\TrainIJYOLO2013\\TrainIJYOLO2013\\train\\images\\00238.jpg: 2 duplicate labels removed\n",
      "\u001b[34m\u001b[1mtrain: \u001b[0mC:\\Users\\Venu Gopal\\Downloads\\TrainIJYOLO2013\\TrainIJYOLO2013\\train\\images\\00239.jpg: 3 duplicate labels removed\n",
      "\u001b[34m\u001b[1mtrain: \u001b[0mC:\\Users\\Venu Gopal\\Downloads\\TrainIJYOLO2013\\TrainIJYOLO2013\\train\\images\\00240.jpg: 1 duplicate labels removed\n",
      "\u001b[34m\u001b[1mtrain: \u001b[0mC:\\Users\\Venu Gopal\\Downloads\\TrainIJYOLO2013\\TrainIJYOLO2013\\train\\images\\00241.jpg: 1 duplicate labels removed\n",
      "\u001b[34m\u001b[1mtrain: \u001b[0mC:\\Users\\Venu Gopal\\Downloads\\TrainIJYOLO2013\\TrainIJYOLO2013\\train\\images\\00242.jpg: 2 duplicate labels removed\n",
      "\u001b[34m\u001b[1mtrain: \u001b[0mC:\\Users\\Venu Gopal\\Downloads\\TrainIJYOLO2013\\TrainIJYOLO2013\\train\\images\\00243.jpg: 1 duplicate labels removed\n",
      "\u001b[34m\u001b[1mtrain: \u001b[0mC:\\Users\\Venu Gopal\\Downloads\\TrainIJYOLO2013\\TrainIJYOLO2013\\train\\images\\00244.jpg: 2 duplicate labels removed\n",
      "\u001b[34m\u001b[1mtrain: \u001b[0mC:\\Users\\Venu Gopal\\Downloads\\TrainIJYOLO2013\\TrainIJYOLO2013\\train\\images\\00245.jpg: 2 duplicate labels removed\n",
      "\u001b[34m\u001b[1mtrain: \u001b[0mC:\\Users\\Venu Gopal\\Downloads\\TrainIJYOLO2013\\TrainIJYOLO2013\\train\\images\\00246.jpg: 2 duplicate labels removed\n",
      "\u001b[34m\u001b[1mtrain: \u001b[0mC:\\Users\\Venu Gopal\\Downloads\\TrainIJYOLO2013\\TrainIJYOLO2013\\train\\images\\00247.jpg: 2 duplicate labels removed\n",
      "\u001b[34m\u001b[1mtrain: \u001b[0mC:\\Users\\Venu Gopal\\Downloads\\TrainIJYOLO2013\\TrainIJYOLO2013\\train\\images\\00248.jpg: 2 duplicate labels removed\n",
      "\u001b[34m\u001b[1mtrain: \u001b[0mC:\\Users\\Venu Gopal\\Downloads\\TrainIJYOLO2013\\TrainIJYOLO2013\\train\\images\\00249.jpg: 1 duplicate labels removed\n",
      "\u001b[34m\u001b[1mtrain: \u001b[0mC:\\Users\\Venu Gopal\\Downloads\\TrainIJYOLO2013\\TrainIJYOLO2013\\train\\images\\00250.jpg: 2 duplicate labels removed\n",
      "\u001b[34m\u001b[1mtrain: \u001b[0mC:\\Users\\Venu Gopal\\Downloads\\TrainIJYOLO2013\\TrainIJYOLO2013\\train\\images\\00251.jpg: 1 duplicate labels removed\n",
      "\u001b[34m\u001b[1mtrain: \u001b[0mC:\\Users\\Venu Gopal\\Downloads\\TrainIJYOLO2013\\TrainIJYOLO2013\\train\\images\\00252.jpg: 2 duplicate labels removed\n",
      "\u001b[34m\u001b[1mtrain: \u001b[0mC:\\Users\\Venu Gopal\\Downloads\\TrainIJYOLO2013\\TrainIJYOLO2013\\train\\images\\00253.jpg: 1 duplicate labels removed\n",
      "\u001b[34m\u001b[1mtrain: \u001b[0mC:\\Users\\Venu Gopal\\Downloads\\TrainIJYOLO2013\\TrainIJYOLO2013\\train\\images\\00254.jpg: 2 duplicate labels removed\n",
      "\u001b[34m\u001b[1mtrain: \u001b[0mC:\\Users\\Venu Gopal\\Downloads\\TrainIJYOLO2013\\TrainIJYOLO2013\\train\\images\\00255.jpg: 1 duplicate labels removed\n",
      "\u001b[34m\u001b[1mtrain: \u001b[0mC:\\Users\\Venu Gopal\\Downloads\\TrainIJYOLO2013\\TrainIJYOLO2013\\train\\images\\00256.jpg: 1 duplicate labels removed\n",
      "\u001b[34m\u001b[1mtrain: \u001b[0mC:\\Users\\Venu Gopal\\Downloads\\TrainIJYOLO2013\\TrainIJYOLO2013\\train\\images\\00257.jpg: 2 duplicate labels removed\n",
      "\u001b[34m\u001b[1mtrain: \u001b[0mC:\\Users\\Venu Gopal\\Downloads\\TrainIJYOLO2013\\TrainIJYOLO2013\\train\\images\\00258.jpg: 2 duplicate labels removed\n",
      "\u001b[34m\u001b[1mtrain: \u001b[0mC:\\Users\\Venu Gopal\\Downloads\\TrainIJYOLO2013\\TrainIJYOLO2013\\train\\images\\00259.jpg: 1 duplicate labels removed\n",
      "\u001b[34m\u001b[1mtrain: \u001b[0mC:\\Users\\Venu Gopal\\Downloads\\TrainIJYOLO2013\\TrainIJYOLO2013\\train\\images\\00260.jpg: 1 duplicate labels removed\n",
      "\u001b[34m\u001b[1mtrain: \u001b[0mC:\\Users\\Venu Gopal\\Downloads\\TrainIJYOLO2013\\TrainIJYOLO2013\\train\\images\\00261.jpg: 1 duplicate labels removed\n",
      "\u001b[34m\u001b[1mtrain: \u001b[0mC:\\Users\\Venu Gopal\\Downloads\\TrainIJYOLO2013\\TrainIJYOLO2013\\train\\images\\00262.jpg: 2 duplicate labels removed\n",
      "\u001b[34m\u001b[1mtrain: \u001b[0mC:\\Users\\Venu Gopal\\Downloads\\TrainIJYOLO2013\\TrainIJYOLO2013\\train\\images\\00263.jpg: 1 duplicate labels removed\n",
      "\u001b[34m\u001b[1mtrain: \u001b[0mC:\\Users\\Venu Gopal\\Downloads\\TrainIJYOLO2013\\TrainIJYOLO2013\\train\\images\\00264.jpg: 3 duplicate labels removed\n",
      "\u001b[34m\u001b[1mtrain: \u001b[0mC:\\Users\\Venu Gopal\\Downloads\\TrainIJYOLO2013\\TrainIJYOLO2013\\train\\images\\00265.jpg: 3 duplicate labels removed\n",
      "\u001b[34m\u001b[1mtrain: \u001b[0mC:\\Users\\Venu Gopal\\Downloads\\TrainIJYOLO2013\\TrainIJYOLO2013\\train\\images\\00266.jpg: 1 duplicate labels removed\n",
      "\u001b[34m\u001b[1mtrain: \u001b[0mC:\\Users\\Venu Gopal\\Downloads\\TrainIJYOLO2013\\TrainIJYOLO2013\\train\\images\\00267.jpg: 2 duplicate labels removed\n",
      "\u001b[34m\u001b[1mtrain: \u001b[0mC:\\Users\\Venu Gopal\\Downloads\\TrainIJYOLO2013\\TrainIJYOLO2013\\train\\images\\00268.jpg: 1 duplicate labels removed\n",
      "\u001b[34m\u001b[1mtrain: \u001b[0mC:\\Users\\Venu Gopal\\Downloads\\TrainIJYOLO2013\\TrainIJYOLO2013\\train\\images\\00269.jpg: 1 duplicate labels removed\n",
      "\u001b[34m\u001b[1mtrain: \u001b[0mC:\\Users\\Venu Gopal\\Downloads\\TrainIJYOLO2013\\TrainIJYOLO2013\\train\\images\\00270.jpg: 3 duplicate labels removed\n",
      "\u001b[34m\u001b[1mtrain: \u001b[0mC:\\Users\\Venu Gopal\\Downloads\\TrainIJYOLO2013\\TrainIJYOLO2013\\train\\images\\00271.jpg: 2 duplicate labels removed\n",
      "\u001b[34m\u001b[1mtrain: \u001b[0mC:\\Users\\Venu Gopal\\Downloads\\TrainIJYOLO2013\\TrainIJYOLO2013\\train\\images\\00272.jpg: 2 duplicate labels removed\n",
      "\u001b[34m\u001b[1mtrain: \u001b[0mC:\\Users\\Venu Gopal\\Downloads\\TrainIJYOLO2013\\TrainIJYOLO2013\\train\\images\\00273.jpg: 1 duplicate labels removed\n",
      "\u001b[34m\u001b[1mtrain: \u001b[0mC:\\Users\\Venu Gopal\\Downloads\\TrainIJYOLO2013\\TrainIJYOLO2013\\train\\images\\00274.jpg: 1 duplicate labels removed\n",
      "\u001b[34m\u001b[1mtrain: \u001b[0mC:\\Users\\Venu Gopal\\Downloads\\TrainIJYOLO2013\\TrainIJYOLO2013\\train\\images\\00275.jpg: 2 duplicate labels removed\n",
      "\u001b[34m\u001b[1mtrain: \u001b[0mC:\\Users\\Venu Gopal\\Downloads\\TrainIJYOLO2013\\TrainIJYOLO2013\\train\\images\\00276.jpg: 2 duplicate labels removed\n",
      "\u001b[34m\u001b[1mtrain: \u001b[0mC:\\Users\\Venu Gopal\\Downloads\\TrainIJYOLO2013\\TrainIJYOLO2013\\train\\images\\00277.jpg: 1 duplicate labels removed\n",
      "\u001b[34m\u001b[1mtrain: \u001b[0mC:\\Users\\Venu Gopal\\Downloads\\TrainIJYOLO2013\\TrainIJYOLO2013\\train\\images\\00278.jpg: 2 duplicate labels removed\n",
      "\u001b[34m\u001b[1mtrain: \u001b[0mC:\\Users\\Venu Gopal\\Downloads\\TrainIJYOLO2013\\TrainIJYOLO2013\\train\\images\\00279.jpg: 1 duplicate labels removed\n",
      "\u001b[34m\u001b[1mtrain: \u001b[0mC:\\Users\\Venu Gopal\\Downloads\\TrainIJYOLO2013\\TrainIJYOLO2013\\train\\images\\00280.jpg: 2 duplicate labels removed\n",
      "\u001b[34m\u001b[1mtrain: \u001b[0mC:\\Users\\Venu Gopal\\Downloads\\TrainIJYOLO2013\\TrainIJYOLO2013\\train\\images\\00281.jpg: 2 duplicate labels removed\n",
      "\u001b[34m\u001b[1mtrain: \u001b[0mC:\\Users\\Venu Gopal\\Downloads\\TrainIJYOLO2013\\TrainIJYOLO2013\\train\\images\\00282.jpg: 1 duplicate labels removed\n",
      "\u001b[34m\u001b[1mtrain: \u001b[0mC:\\Users\\Venu Gopal\\Downloads\\TrainIJYOLO2013\\TrainIJYOLO2013\\train\\images\\00283.jpg: 1 duplicate labels removed\n",
      "\u001b[34m\u001b[1mtrain: \u001b[0mC:\\Users\\Venu Gopal\\Downloads\\TrainIJYOLO2013\\TrainIJYOLO2013\\train\\images\\00284.jpg: 2 duplicate labels removed\n",
      "\u001b[34m\u001b[1mtrain: \u001b[0mC:\\Users\\Venu Gopal\\Downloads\\TrainIJYOLO2013\\TrainIJYOLO2013\\train\\images\\00285.jpg: 1 duplicate labels removed\n",
      "\u001b[34m\u001b[1mtrain: \u001b[0mC:\\Users\\Venu Gopal\\Downloads\\TrainIJYOLO2013\\TrainIJYOLO2013\\train\\images\\00286.jpg: 1 duplicate labels removed\n",
      "\u001b[34m\u001b[1mtrain: \u001b[0mC:\\Users\\Venu Gopal\\Downloads\\TrainIJYOLO2013\\TrainIJYOLO2013\\train\\images\\00287.jpg: 1 duplicate labels removed\n",
      "\u001b[34m\u001b[1mtrain: \u001b[0mC:\\Users\\Venu Gopal\\Downloads\\TrainIJYOLO2013\\TrainIJYOLO2013\\train\\images\\00288.jpg: 2 duplicate labels removed\n",
      "\u001b[34m\u001b[1mtrain: \u001b[0mC:\\Users\\Venu Gopal\\Downloads\\TrainIJYOLO2013\\TrainIJYOLO2013\\train\\images\\00289.jpg: 2 duplicate labels removed\n",
      "\u001b[34m\u001b[1mtrain: \u001b[0mC:\\Users\\Venu Gopal\\Downloads\\TrainIJYOLO2013\\TrainIJYOLO2013\\train\\images\\00290.jpg: 1 duplicate labels removed\n",
      "\u001b[34m\u001b[1mtrain: \u001b[0mC:\\Users\\Venu Gopal\\Downloads\\TrainIJYOLO2013\\TrainIJYOLO2013\\train\\images\\00291.jpg: 1 duplicate labels removed\n",
      "\u001b[34m\u001b[1mtrain: \u001b[0mC:\\Users\\Venu Gopal\\Downloads\\TrainIJYOLO2013\\TrainIJYOLO2013\\train\\images\\00292.jpg: 2 duplicate labels removed\n",
      "\u001b[34m\u001b[1mtrain: \u001b[0mC:\\Users\\Venu Gopal\\Downloads\\TrainIJYOLO2013\\TrainIJYOLO2013\\train\\images\\00293.jpg: 2 duplicate labels removed\n",
      "\u001b[34m\u001b[1mtrain: \u001b[0mC:\\Users\\Venu Gopal\\Downloads\\TrainIJYOLO2013\\TrainIJYOLO2013\\train\\images\\00294.jpg: 2 duplicate labels removed\n",
      "\u001b[34m\u001b[1mtrain: \u001b[0mC:\\Users\\Venu Gopal\\Downloads\\TrainIJYOLO2013\\TrainIJYOLO2013\\train\\images\\00295.jpg: 2 duplicate labels removed\n",
      "\u001b[34m\u001b[1mtrain: \u001b[0mC:\\Users\\Venu Gopal\\Downloads\\TrainIJYOLO2013\\TrainIJYOLO2013\\train\\images\\00296.jpg: 2 duplicate labels removed\n",
      "\u001b[34m\u001b[1mtrain: \u001b[0mC:\\Users\\Venu Gopal\\Downloads\\TrainIJYOLO2013\\TrainIJYOLO2013\\train\\images\\00297.jpg: 2 duplicate labels removed\n",
      "\u001b[34m\u001b[1mtrain: \u001b[0mC:\\Users\\Venu Gopal\\Downloads\\TrainIJYOLO2013\\TrainIJYOLO2013\\train\\images\\00298.jpg: 3 duplicate labels removed\n",
      "\u001b[34m\u001b[1mtrain: \u001b[0mC:\\Users\\Venu Gopal\\Downloads\\TrainIJYOLO2013\\TrainIJYOLO2013\\train\\images\\00299.jpg: 1 duplicate labels removed\n",
      "\u001b[34m\u001b[1mtrain: \u001b[0mC:\\Users\\Venu Gopal\\Downloads\\TrainIJYOLO2013\\TrainIJYOLO2013\\train\\images\\00300.jpg: 2 duplicate labels removed\n",
      "\u001b[34m\u001b[1mtrain: \u001b[0mC:\\Users\\Venu Gopal\\Downloads\\TrainIJYOLO2013\\TrainIJYOLO2013\\train\\images\\00301.jpg: 2 duplicate labels removed\n",
      "\u001b[34m\u001b[1mtrain: \u001b[0mC:\\Users\\Venu Gopal\\Downloads\\TrainIJYOLO2013\\TrainIJYOLO2013\\train\\images\\00302.jpg: 1 duplicate labels removed\n",
      "\u001b[34m\u001b[1mtrain: \u001b[0mC:\\Users\\Venu Gopal\\Downloads\\TrainIJYOLO2013\\TrainIJYOLO2013\\train\\images\\00303.jpg: 1 duplicate labels removed\n",
      "\u001b[34m\u001b[1mtrain: \u001b[0mC:\\Users\\Venu Gopal\\Downloads\\TrainIJYOLO2013\\TrainIJYOLO2013\\train\\images\\00304.jpg: 1 duplicate labels removed\n",
      "\u001b[34m\u001b[1mtrain: \u001b[0mC:\\Users\\Venu Gopal\\Downloads\\TrainIJYOLO2013\\TrainIJYOLO2013\\train\\images\\00305.jpg: 2 duplicate labels removed\n",
      "\u001b[34m\u001b[1mtrain: \u001b[0mC:\\Users\\Venu Gopal\\Downloads\\TrainIJYOLO2013\\TrainIJYOLO2013\\train\\images\\00306.jpg: 2 duplicate labels removed\n",
      "\u001b[34m\u001b[1mtrain: \u001b[0mC:\\Users\\Venu Gopal\\Downloads\\TrainIJYOLO2013\\TrainIJYOLO2013\\train\\images\\00307.jpg: 4 duplicate labels removed\n",
      "\u001b[34m\u001b[1mtrain: \u001b[0mC:\\Users\\Venu Gopal\\Downloads\\TrainIJYOLO2013\\TrainIJYOLO2013\\train\\images\\00309.jpg: 2 duplicate labels removed\n",
      "\u001b[34m\u001b[1mtrain: \u001b[0mC:\\Users\\Venu Gopal\\Downloads\\TrainIJYOLO2013\\TrainIJYOLO2013\\train\\images\\00310.jpg: 2 duplicate labels removed\n",
      "\u001b[34m\u001b[1mtrain: \u001b[0mC:\\Users\\Venu Gopal\\Downloads\\TrainIJYOLO2013\\TrainIJYOLO2013\\train\\images\\00311.jpg: 2 duplicate labels removed\n",
      "\u001b[34m\u001b[1mtrain: \u001b[0mC:\\Users\\Venu Gopal\\Downloads\\TrainIJYOLO2013\\TrainIJYOLO2013\\train\\images\\00312.jpg: 3 duplicate labels removed\n",
      "\u001b[34m\u001b[1mtrain: \u001b[0mC:\\Users\\Venu Gopal\\Downloads\\TrainIJYOLO2013\\TrainIJYOLO2013\\train\\images\\00313.jpg: 1 duplicate labels removed\n",
      "\u001b[34m\u001b[1mtrain: \u001b[0mC:\\Users\\Venu Gopal\\Downloads\\TrainIJYOLO2013\\TrainIJYOLO2013\\train\\images\\00314.jpg: 2 duplicate labels removed\n",
      "\u001b[34m\u001b[1mtrain: \u001b[0mC:\\Users\\Venu Gopal\\Downloads\\TrainIJYOLO2013\\TrainIJYOLO2013\\train\\images\\00315.jpg: 2 duplicate labels removed\n",
      "\u001b[34m\u001b[1mtrain: \u001b[0mC:\\Users\\Venu Gopal\\Downloads\\TrainIJYOLO2013\\TrainIJYOLO2013\\train\\images\\00316.jpg: 4 duplicate labels removed\n",
      "\u001b[34m\u001b[1mtrain: \u001b[0mC:\\Users\\Venu Gopal\\Downloads\\TrainIJYOLO2013\\TrainIJYOLO2013\\train\\images\\00317.jpg: 1 duplicate labels removed\n",
      "\u001b[34m\u001b[1mtrain: \u001b[0mC:\\Users\\Venu Gopal\\Downloads\\TrainIJYOLO2013\\TrainIJYOLO2013\\train\\images\\00318.jpg: 2 duplicate labels removed\n",
      "\u001b[34m\u001b[1mtrain: \u001b[0mC:\\Users\\Venu Gopal\\Downloads\\TrainIJYOLO2013\\TrainIJYOLO2013\\train\\images\\00319.jpg: 2 duplicate labels removed\n",
      "\u001b[34m\u001b[1mtrain: \u001b[0mC:\\Users\\Venu Gopal\\Downloads\\TrainIJYOLO2013\\TrainIJYOLO2013\\train\\images\\00320.jpg: 2 duplicate labels removed\n",
      "\u001b[34m\u001b[1mtrain: \u001b[0mC:\\Users\\Venu Gopal\\Downloads\\TrainIJYOLO2013\\TrainIJYOLO2013\\train\\images\\00322.jpg: 2 duplicate labels removed\n",
      "\u001b[34m\u001b[1mtrain: \u001b[0mC:\\Users\\Venu Gopal\\Downloads\\TrainIJYOLO2013\\TrainIJYOLO2013\\train\\images\\00323.jpg: 2 duplicate labels removed\n",
      "\u001b[34m\u001b[1mtrain: \u001b[0mC:\\Users\\Venu Gopal\\Downloads\\TrainIJYOLO2013\\TrainIJYOLO2013\\train\\images\\00330.jpg: 1 duplicate labels removed\n",
      "\u001b[34m\u001b[1mtrain: \u001b[0mC:\\Users\\Venu Gopal\\Downloads\\TrainIJYOLO2013\\TrainIJYOLO2013\\train\\images\\00333.jpg: 2 duplicate labels removed\n",
      "\u001b[34m\u001b[1mtrain: \u001b[0mC:\\Users\\Venu Gopal\\Downloads\\TrainIJYOLO2013\\TrainIJYOLO2013\\train\\images\\00334.jpg: 2 duplicate labels removed\n",
      "\u001b[34m\u001b[1mtrain: \u001b[0mC:\\Users\\Venu Gopal\\Downloads\\TrainIJYOLO2013\\TrainIJYOLO2013\\train\\images\\00337.jpg: 1 duplicate labels removed\n",
      "\u001b[34m\u001b[1mtrain: \u001b[0mC:\\Users\\Venu Gopal\\Downloads\\TrainIJYOLO2013\\TrainIJYOLO2013\\train\\images\\00338.jpg: 4 duplicate labels removed\n",
      "\u001b[34m\u001b[1mtrain: \u001b[0mC:\\Users\\Venu Gopal\\Downloads\\TrainIJYOLO2013\\TrainIJYOLO2013\\train\\images\\00339.jpg: 2 duplicate labels removed\n",
      "\u001b[34m\u001b[1mtrain: \u001b[0mC:\\Users\\Venu Gopal\\Downloads\\TrainIJYOLO2013\\TrainIJYOLO2013\\train\\images\\00340.jpg: 4 duplicate labels removed\n",
      "\u001b[34m\u001b[1mtrain: \u001b[0mC:\\Users\\Venu Gopal\\Downloads\\TrainIJYOLO2013\\TrainIJYOLO2013\\train\\images\\00341.jpg: 1 duplicate labels removed\n",
      "\u001b[34m\u001b[1mtrain: \u001b[0mC:\\Users\\Venu Gopal\\Downloads\\TrainIJYOLO2013\\TrainIJYOLO2013\\train\\images\\00343.jpg: 2 duplicate labels removed\n",
      "\u001b[34m\u001b[1mtrain: \u001b[0mC:\\Users\\Venu Gopal\\Downloads\\TrainIJYOLO2013\\TrainIJYOLO2013\\train\\images\\00344.jpg: 1 duplicate labels removed\n",
      "\u001b[34m\u001b[1mtrain: \u001b[0mC:\\Users\\Venu Gopal\\Downloads\\TrainIJYOLO2013\\TrainIJYOLO2013\\train\\images\\00346.jpg: 2 duplicate labels removed\n",
      "\u001b[34m\u001b[1mtrain: \u001b[0mC:\\Users\\Venu Gopal\\Downloads\\TrainIJYOLO2013\\TrainIJYOLO2013\\train\\images\\00347.jpg: 1 duplicate labels removed\n",
      "\u001b[34m\u001b[1mtrain: \u001b[0mC:\\Users\\Venu Gopal\\Downloads\\TrainIJYOLO2013\\TrainIJYOLO2013\\train\\images\\00348.jpg: 1 duplicate labels removed\n",
      "\u001b[34m\u001b[1mtrain: \u001b[0mC:\\Users\\Venu Gopal\\Downloads\\TrainIJYOLO2013\\TrainIJYOLO2013\\train\\images\\00349.jpg: 2 duplicate labels removed\n",
      "\u001b[34m\u001b[1mtrain: \u001b[0mC:\\Users\\Venu Gopal\\Downloads\\TrainIJYOLO2013\\TrainIJYOLO2013\\train\\images\\00350.jpg: 2 duplicate labels removed\n",
      "\u001b[34m\u001b[1mtrain: \u001b[0mC:\\Users\\Venu Gopal\\Downloads\\TrainIJYOLO2013\\TrainIJYOLO2013\\train\\images\\00351.jpg: 1 duplicate labels removed\n",
      "\u001b[34m\u001b[1mtrain: \u001b[0mC:\\Users\\Venu Gopal\\Downloads\\TrainIJYOLO2013\\TrainIJYOLO2013\\train\\images\\00352.jpg: 2 duplicate labels removed\n",
      "\u001b[34m\u001b[1mtrain: \u001b[0mC:\\Users\\Venu Gopal\\Downloads\\TrainIJYOLO2013\\TrainIJYOLO2013\\train\\images\\00353.jpg: 2 duplicate labels removed\n",
      "\u001b[34m\u001b[1mtrain: \u001b[0mC:\\Users\\Venu Gopal\\Downloads\\TrainIJYOLO2013\\TrainIJYOLO2013\\train\\images\\00355.jpg: 1 duplicate labels removed\n",
      "\u001b[34m\u001b[1mtrain: \u001b[0mC:\\Users\\Venu Gopal\\Downloads\\TrainIJYOLO2013\\TrainIJYOLO2013\\train\\images\\00356.jpg: 2 duplicate labels removed\n",
      "\u001b[34m\u001b[1mtrain: \u001b[0mC:\\Users\\Venu Gopal\\Downloads\\TrainIJYOLO2013\\TrainIJYOLO2013\\train\\images\\00357.jpg: 2 duplicate labels removed\n",
      "\u001b[34m\u001b[1mtrain: \u001b[0mC:\\Users\\Venu Gopal\\Downloads\\TrainIJYOLO2013\\TrainIJYOLO2013\\train\\images\\00358.jpg: 1 duplicate labels removed\n",
      "\u001b[34m\u001b[1mtrain: \u001b[0mC:\\Users\\Venu Gopal\\Downloads\\TrainIJYOLO2013\\TrainIJYOLO2013\\train\\images\\00359.jpg: 2 duplicate labels removed\n",
      "\u001b[34m\u001b[1mtrain: \u001b[0mC:\\Users\\Venu Gopal\\Downloads\\TrainIJYOLO2013\\TrainIJYOLO2013\\train\\images\\00360.jpg: 2 duplicate labels removed\n",
      "\u001b[34m\u001b[1mtrain: \u001b[0mC:\\Users\\Venu Gopal\\Downloads\\TrainIJYOLO2013\\TrainIJYOLO2013\\train\\images\\00362.jpg: 1 duplicate labels removed\n",
      "\u001b[34m\u001b[1mtrain: \u001b[0mC:\\Users\\Venu Gopal\\Downloads\\TrainIJYOLO2013\\TrainIJYOLO2013\\train\\images\\00363.jpg: 2 duplicate labels removed\n",
      "\u001b[34m\u001b[1mtrain: \u001b[0mC:\\Users\\Venu Gopal\\Downloads\\TrainIJYOLO2013\\TrainIJYOLO2013\\train\\images\\00366.jpg: 4 duplicate labels removed\n",
      "\u001b[34m\u001b[1mtrain: \u001b[0mC:\\Users\\Venu Gopal\\Downloads\\TrainIJYOLO2013\\TrainIJYOLO2013\\train\\images\\00367.jpg: 4 duplicate labels removed\n",
      "\u001b[34m\u001b[1mtrain: \u001b[0mC:\\Users\\Venu Gopal\\Downloads\\TrainIJYOLO2013\\TrainIJYOLO2013\\train\\images\\00368.jpg: 2 duplicate labels removed\n",
      "\u001b[34m\u001b[1mtrain: \u001b[0mC:\\Users\\Venu Gopal\\Downloads\\TrainIJYOLO2013\\TrainIJYOLO2013\\train\\images\\00369.jpg: 4 duplicate labels removed\n",
      "\u001b[34m\u001b[1mtrain: \u001b[0mC:\\Users\\Venu Gopal\\Downloads\\TrainIJYOLO2013\\TrainIJYOLO2013\\train\\images\\00370.jpg: 4 duplicate labels removed\n",
      "\u001b[34m\u001b[1mtrain: \u001b[0mC:\\Users\\Venu Gopal\\Downloads\\TrainIJYOLO2013\\TrainIJYOLO2013\\train\\images\\00371.jpg: 1 duplicate labels removed\n",
      "\u001b[34m\u001b[1mtrain: \u001b[0mC:\\Users\\Venu Gopal\\Downloads\\TrainIJYOLO2013\\TrainIJYOLO2013\\train\\images\\00372.jpg: 1 duplicate labels removed\n",
      "\u001b[34m\u001b[1mtrain: \u001b[0mC:\\Users\\Venu Gopal\\Downloads\\TrainIJYOLO2013\\TrainIJYOLO2013\\train\\images\\00373.jpg: 2 duplicate labels removed\n",
      "\u001b[34m\u001b[1mtrain: \u001b[0mC:\\Users\\Venu Gopal\\Downloads\\TrainIJYOLO2013\\TrainIJYOLO2013\\train\\images\\00374.jpg: 2 duplicate labels removed\n",
      "\u001b[34m\u001b[1mtrain: \u001b[0mC:\\Users\\Venu Gopal\\Downloads\\TrainIJYOLO2013\\TrainIJYOLO2013\\train\\images\\00375.jpg: 1 duplicate labels removed\n",
      "\u001b[34m\u001b[1mtrain: \u001b[0mC:\\Users\\Venu Gopal\\Downloads\\TrainIJYOLO2013\\TrainIJYOLO2013\\train\\images\\00376.jpg: 2 duplicate labels removed\n",
      "\u001b[34m\u001b[1mtrain: \u001b[0mC:\\Users\\Venu Gopal\\Downloads\\TrainIJYOLO2013\\TrainIJYOLO2013\\train\\images\\00377.jpg: 4 duplicate labels removed\n",
      "\u001b[34m\u001b[1mtrain: \u001b[0mC:\\Users\\Venu Gopal\\Downloads\\TrainIJYOLO2013\\TrainIJYOLO2013\\train\\images\\00378.jpg: 2 duplicate labels removed\n",
      "\u001b[34m\u001b[1mtrain: \u001b[0mC:\\Users\\Venu Gopal\\Downloads\\TrainIJYOLO2013\\TrainIJYOLO2013\\train\\images\\00379.jpg: 4 duplicate labels removed\n",
      "\u001b[34m\u001b[1mtrain: \u001b[0mC:\\Users\\Venu Gopal\\Downloads\\TrainIJYOLO2013\\TrainIJYOLO2013\\train\\images\\00380.jpg: 4 duplicate labels removed\n",
      "\u001b[34m\u001b[1mtrain: \u001b[0mC:\\Users\\Venu Gopal\\Downloads\\TrainIJYOLO2013\\TrainIJYOLO2013\\train\\images\\00382.jpg: 4 duplicate labels removed\n",
      "\u001b[34m\u001b[1mtrain: \u001b[0mC:\\Users\\Venu Gopal\\Downloads\\TrainIJYOLO2013\\TrainIJYOLO2013\\train\\images\\00383.jpg: 2 duplicate labels removed\n",
      "\u001b[34m\u001b[1mtrain: \u001b[0mC:\\Users\\Venu Gopal\\Downloads\\TrainIJYOLO2013\\TrainIJYOLO2013\\train\\images\\00384.jpg: 2 duplicate labels removed\n",
      "\u001b[34m\u001b[1mtrain: \u001b[0mC:\\Users\\Venu Gopal\\Downloads\\TrainIJYOLO2013\\TrainIJYOLO2013\\train\\images\\00385.jpg: 2 duplicate labels removed\n",
      "\u001b[34m\u001b[1mtrain: \u001b[0mC:\\Users\\Venu Gopal\\Downloads\\TrainIJYOLO2013\\TrainIJYOLO2013\\train\\images\\00386.jpg: 2 duplicate labels removed\n",
      "\u001b[34m\u001b[1mtrain: \u001b[0mC:\\Users\\Venu Gopal\\Downloads\\TrainIJYOLO2013\\TrainIJYOLO2013\\train\\images\\00387.jpg: 2 duplicate labels removed\n",
      "\u001b[34m\u001b[1mtrain: \u001b[0mC:\\Users\\Venu Gopal\\Downloads\\TrainIJYOLO2013\\TrainIJYOLO2013\\train\\images\\00388.jpg: 1 duplicate labels removed\n",
      "\u001b[34m\u001b[1mtrain: \u001b[0mC:\\Users\\Venu Gopal\\Downloads\\TrainIJYOLO2013\\TrainIJYOLO2013\\train\\images\\00390.jpg: 2 duplicate labels removed\n",
      "\u001b[34m\u001b[1mtrain: \u001b[0mC:\\Users\\Venu Gopal\\Downloads\\TrainIJYOLO2013\\TrainIJYOLO2013\\train\\images\\00391.jpg: 2 duplicate labels removed\n",
      "\u001b[34m\u001b[1mtrain: \u001b[0mC:\\Users\\Venu Gopal\\Downloads\\TrainIJYOLO2013\\TrainIJYOLO2013\\train\\images\\00392.jpg: 1 duplicate labels removed\n",
      "\u001b[34m\u001b[1mtrain: \u001b[0mC:\\Users\\Venu Gopal\\Downloads\\TrainIJYOLO2013\\TrainIJYOLO2013\\train\\images\\00393.jpg: 1 duplicate labels removed\n",
      "\u001b[34m\u001b[1mtrain: \u001b[0mC:\\Users\\Venu Gopal\\Downloads\\TrainIJYOLO2013\\TrainIJYOLO2013\\train\\images\\00395.jpg: 2 duplicate labels removed\n",
      "\u001b[34m\u001b[1mtrain: \u001b[0mC:\\Users\\Venu Gopal\\Downloads\\TrainIJYOLO2013\\TrainIJYOLO2013\\train\\images\\00396.jpg: 2 duplicate labels removed\n",
      "\u001b[34m\u001b[1mtrain: \u001b[0mC:\\Users\\Venu Gopal\\Downloads\\TrainIJYOLO2013\\TrainIJYOLO2013\\train\\images\\00397.jpg: 2 duplicate labels removed\n",
      "\u001b[34m\u001b[1mtrain: \u001b[0mC:\\Users\\Venu Gopal\\Downloads\\TrainIJYOLO2013\\TrainIJYOLO2013\\train\\images\\00398.jpg: 3 duplicate labels removed\n",
      "\u001b[34m\u001b[1mtrain: \u001b[0mC:\\Users\\Venu Gopal\\Downloads\\TrainIJYOLO2013\\TrainIJYOLO2013\\train\\images\\00400.jpg: 1 duplicate labels removed\n",
      "\u001b[34m\u001b[1mtrain: \u001b[0mC:\\Users\\Venu Gopal\\Downloads\\TrainIJYOLO2013\\TrainIJYOLO2013\\train\\images\\00401.jpg: 2 duplicate labels removed\n",
      "\u001b[34m\u001b[1mtrain: \u001b[0mC:\\Users\\Venu Gopal\\Downloads\\TrainIJYOLO2013\\TrainIJYOLO2013\\train\\images\\00402.jpg: 1 duplicate labels removed\n",
      "\u001b[34m\u001b[1mtrain: \u001b[0mC:\\Users\\Venu Gopal\\Downloads\\TrainIJYOLO2013\\TrainIJYOLO2013\\train\\images\\00403.jpg: 4 duplicate labels removed\n",
      "\u001b[34m\u001b[1mtrain: \u001b[0mC:\\Users\\Venu Gopal\\Downloads\\TrainIJYOLO2013\\TrainIJYOLO2013\\train\\images\\00404.jpg: 2 duplicate labels removed\n",
      "\u001b[34m\u001b[1mtrain: \u001b[0mC:\\Users\\Venu Gopal\\Downloads\\TrainIJYOLO2013\\TrainIJYOLO2013\\train\\images\\00405.jpg: 3 duplicate labels removed\n",
      "\u001b[34m\u001b[1mtrain: \u001b[0mC:\\Users\\Venu Gopal\\Downloads\\TrainIJYOLO2013\\TrainIJYOLO2013\\train\\images\\00406.jpg: 4 duplicate labels removed\n",
      "\u001b[34m\u001b[1mtrain: \u001b[0mC:\\Users\\Venu Gopal\\Downloads\\TrainIJYOLO2013\\TrainIJYOLO2013\\train\\images\\00408.jpg: 2 duplicate labels removed\n",
      "\u001b[34m\u001b[1mtrain: \u001b[0mC:\\Users\\Venu Gopal\\Downloads\\TrainIJYOLO2013\\TrainIJYOLO2013\\train\\images\\00410.jpg: 1 duplicate labels removed\n",
      "\u001b[34m\u001b[1mtrain: \u001b[0mC:\\Users\\Venu Gopal\\Downloads\\TrainIJYOLO2013\\TrainIJYOLO2013\\train\\images\\00411.jpg: 3 duplicate labels removed\n",
      "\u001b[34m\u001b[1mtrain: \u001b[0mC:\\Users\\Venu Gopal\\Downloads\\TrainIJYOLO2013\\TrainIJYOLO2013\\train\\images\\00412.jpg: 1 duplicate labels removed\n",
      "\u001b[34m\u001b[1mtrain: \u001b[0mC:\\Users\\Venu Gopal\\Downloads\\TrainIJYOLO2013\\TrainIJYOLO2013\\train\\images\\00413.jpg: 1 duplicate labels removed\n",
      "\u001b[34m\u001b[1mtrain: \u001b[0mC:\\Users\\Venu Gopal\\Downloads\\TrainIJYOLO2013\\TrainIJYOLO2013\\train\\images\\00414.jpg: 1 duplicate labels removed\n",
      "\u001b[34m\u001b[1mtrain: \u001b[0mC:\\Users\\Venu Gopal\\Downloads\\TrainIJYOLO2013\\TrainIJYOLO2013\\train\\images\\00415.jpg: 1 duplicate labels removed\n",
      "\u001b[34m\u001b[1mtrain: \u001b[0mC:\\Users\\Venu Gopal\\Downloads\\TrainIJYOLO2013\\TrainIJYOLO2013\\train\\images\\00416.jpg: 1 duplicate labels removed\n",
      "\u001b[34m\u001b[1mtrain: \u001b[0mC:\\Users\\Venu Gopal\\Downloads\\TrainIJYOLO2013\\TrainIJYOLO2013\\train\\images\\00417.jpg: 1 duplicate labels removed\n",
      "\u001b[34m\u001b[1mtrain: \u001b[0mC:\\Users\\Venu Gopal\\Downloads\\TrainIJYOLO2013\\TrainIJYOLO2013\\train\\images\\00418.jpg: 2 duplicate labels removed\n",
      "\u001b[34m\u001b[1mtrain: \u001b[0mC:\\Users\\Venu Gopal\\Downloads\\TrainIJYOLO2013\\TrainIJYOLO2013\\train\\images\\00419.jpg: 1 duplicate labels removed\n",
      "\u001b[34m\u001b[1mtrain: \u001b[0mC:\\Users\\Venu Gopal\\Downloads\\TrainIJYOLO2013\\TrainIJYOLO2013\\train\\images\\00420.jpg: 2 duplicate labels removed\n",
      "\u001b[34m\u001b[1mtrain: \u001b[0mC:\\Users\\Venu Gopal\\Downloads\\TrainIJYOLO2013\\TrainIJYOLO2013\\train\\images\\00421.jpg: 1 duplicate labels removed\n",
      "\u001b[34m\u001b[1mtrain: \u001b[0mC:\\Users\\Venu Gopal\\Downloads\\TrainIJYOLO2013\\TrainIJYOLO2013\\train\\images\\00422.jpg: 1 duplicate labels removed\n",
      "\u001b[34m\u001b[1mtrain: \u001b[0mC:\\Users\\Venu Gopal\\Downloads\\TrainIJYOLO2013\\TrainIJYOLO2013\\train\\images\\00423.jpg: 2 duplicate labels removed\n",
      "\u001b[34m\u001b[1mtrain: \u001b[0mC:\\Users\\Venu Gopal\\Downloads\\TrainIJYOLO2013\\TrainIJYOLO2013\\train\\images\\00425.jpg: 4 duplicate labels removed\n",
      "\u001b[34m\u001b[1mtrain: \u001b[0mC:\\Users\\Venu Gopal\\Downloads\\TrainIJYOLO2013\\TrainIJYOLO2013\\train\\images\\00426.jpg: 1 duplicate labels removed\n",
      "\u001b[34m\u001b[1mtrain: \u001b[0mC:\\Users\\Venu Gopal\\Downloads\\TrainIJYOLO2013\\TrainIJYOLO2013\\train\\images\\00427.jpg: 1 duplicate labels removed\n",
      "\u001b[34m\u001b[1mtrain: \u001b[0mC:\\Users\\Venu Gopal\\Downloads\\TrainIJYOLO2013\\TrainIJYOLO2013\\train\\images\\00428.jpg: 2 duplicate labels removed\n",
      "\u001b[34m\u001b[1mtrain: \u001b[0mC:\\Users\\Venu Gopal\\Downloads\\TrainIJYOLO2013\\TrainIJYOLO2013\\train\\images\\00430.jpg: 1 duplicate labels removed\n",
      "\u001b[34m\u001b[1mtrain: \u001b[0mC:\\Users\\Venu Gopal\\Downloads\\TrainIJYOLO2013\\TrainIJYOLO2013\\train\\images\\00431.jpg: 2 duplicate labels removed\n",
      "\u001b[34m\u001b[1mtrain: \u001b[0mC:\\Users\\Venu Gopal\\Downloads\\TrainIJYOLO2013\\TrainIJYOLO2013\\train\\images\\00432.jpg: 2 duplicate labels removed\n",
      "\u001b[34m\u001b[1mtrain: \u001b[0mC:\\Users\\Venu Gopal\\Downloads\\TrainIJYOLO2013\\TrainIJYOLO2013\\train\\images\\00433.jpg: 1 duplicate labels removed\n",
      "\u001b[34m\u001b[1mtrain: \u001b[0mC:\\Users\\Venu Gopal\\Downloads\\TrainIJYOLO2013\\TrainIJYOLO2013\\train\\images\\00434.jpg: 1 duplicate labels removed\n",
      "\u001b[34m\u001b[1mtrain: \u001b[0mC:\\Users\\Venu Gopal\\Downloads\\TrainIJYOLO2013\\TrainIJYOLO2013\\train\\images\\00435.jpg: 1 duplicate labels removed\n",
      "\u001b[34m\u001b[1mtrain: \u001b[0mC:\\Users\\Venu Gopal\\Downloads\\TrainIJYOLO2013\\TrainIJYOLO2013\\train\\images\\00436.jpg: 1 duplicate labels removed\n",
      "\u001b[34m\u001b[1mtrain: \u001b[0mC:\\Users\\Venu Gopal\\Downloads\\TrainIJYOLO2013\\TrainIJYOLO2013\\train\\images\\00438.jpg: 2 duplicate labels removed\n",
      "\u001b[34m\u001b[1mtrain: \u001b[0mC:\\Users\\Venu Gopal\\Downloads\\TrainIJYOLO2013\\TrainIJYOLO2013\\train\\images\\00439.jpg: 1 duplicate labels removed\n",
      "\u001b[34m\u001b[1mtrain: \u001b[0mC:\\Users\\Venu Gopal\\Downloads\\TrainIJYOLO2013\\TrainIJYOLO2013\\train\\images\\00440.jpg: 1 duplicate labels removed\n",
      "\u001b[34m\u001b[1mtrain: \u001b[0mC:\\Users\\Venu Gopal\\Downloads\\TrainIJYOLO2013\\TrainIJYOLO2013\\train\\images\\00441.jpg: 1 duplicate labels removed\n",
      "\u001b[34m\u001b[1mtrain: \u001b[0mC:\\Users\\Venu Gopal\\Downloads\\TrainIJYOLO2013\\TrainIJYOLO2013\\train\\images\\00443.jpg: 4 duplicate labels removed\n",
      "\u001b[34m\u001b[1mtrain: \u001b[0mC:\\Users\\Venu Gopal\\Downloads\\TrainIJYOLO2013\\TrainIJYOLO2013\\train\\images\\00444.jpg: 4 duplicate labels removed\n",
      "\u001b[34m\u001b[1mtrain: \u001b[0mC:\\Users\\Venu Gopal\\Downloads\\TrainIJYOLO2013\\TrainIJYOLO2013\\train\\images\\00445.jpg: 2 duplicate labels removed\n",
      "\u001b[34m\u001b[1mtrain: \u001b[0mC:\\Users\\Venu Gopal\\Downloads\\TrainIJYOLO2013\\TrainIJYOLO2013\\train\\images\\00446.jpg: 3 duplicate labels removed\n",
      "\u001b[34m\u001b[1mtrain: \u001b[0mC:\\Users\\Venu Gopal\\Downloads\\TrainIJYOLO2013\\TrainIJYOLO2013\\train\\images\\00447.jpg: 1 duplicate labels removed\n",
      "\u001b[34m\u001b[1mtrain: \u001b[0mC:\\Users\\Venu Gopal\\Downloads\\TrainIJYOLO2013\\TrainIJYOLO2013\\train\\images\\00448.jpg: 1 duplicate labels removed\n",
      "\u001b[34m\u001b[1mtrain: \u001b[0mC:\\Users\\Venu Gopal\\Downloads\\TrainIJYOLO2013\\TrainIJYOLO2013\\train\\images\\00449.jpg: 2 duplicate labels removed\n",
      "\u001b[34m\u001b[1mtrain: \u001b[0mC:\\Users\\Venu Gopal\\Downloads\\TrainIJYOLO2013\\TrainIJYOLO2013\\train\\images\\00450.jpg: 1 duplicate labels removed\n",
      "\u001b[34m\u001b[1mtrain: \u001b[0mC:\\Users\\Venu Gopal\\Downloads\\TrainIJYOLO2013\\TrainIJYOLO2013\\train\\images\\00451.jpg: 1 duplicate labels removed\n",
      "\u001b[34m\u001b[1mtrain: \u001b[0mC:\\Users\\Venu Gopal\\Downloads\\TrainIJYOLO2013\\TrainIJYOLO2013\\train\\images\\00452.jpg: 1 duplicate labels removed\n",
      "\u001b[34m\u001b[1mtrain: \u001b[0mC:\\Users\\Venu Gopal\\Downloads\\TrainIJYOLO2013\\TrainIJYOLO2013\\train\\images\\00453.jpg: 3 duplicate labels removed\n",
      "\u001b[34m\u001b[1mtrain: \u001b[0mC:\\Users\\Venu Gopal\\Downloads\\TrainIJYOLO2013\\TrainIJYOLO2013\\train\\images\\00455.jpg: 1 duplicate labels removed\n",
      "\u001b[34m\u001b[1mtrain: \u001b[0mC:\\Users\\Venu Gopal\\Downloads\\TrainIJYOLO2013\\TrainIJYOLO2013\\train\\images\\00456.jpg: 1 duplicate labels removed\n",
      "\u001b[34m\u001b[1mtrain: \u001b[0mC:\\Users\\Venu Gopal\\Downloads\\TrainIJYOLO2013\\TrainIJYOLO2013\\train\\images\\00457.jpg: 2 duplicate labels removed\n",
      "\u001b[34m\u001b[1mtrain: \u001b[0mC:\\Users\\Venu Gopal\\Downloads\\TrainIJYOLO2013\\TrainIJYOLO2013\\train\\images\\00458.jpg: 1 duplicate labels removed\n",
      "\u001b[34m\u001b[1mtrain: \u001b[0mC:\\Users\\Venu Gopal\\Downloads\\TrainIJYOLO2013\\TrainIJYOLO2013\\train\\images\\00459.jpg: 2 duplicate labels removed\n",
      "\u001b[34m\u001b[1mtrain: \u001b[0mC:\\Users\\Venu Gopal\\Downloads\\TrainIJYOLO2013\\TrainIJYOLO2013\\train\\images\\00460.jpg: 2 duplicate labels removed\n",
      "\u001b[34m\u001b[1mtrain: \u001b[0mC:\\Users\\Venu Gopal\\Downloads\\TrainIJYOLO2013\\TrainIJYOLO2013\\train\\images\\00461.jpg: 1 duplicate labels removed\n",
      "\u001b[34m\u001b[1mtrain: \u001b[0mC:\\Users\\Venu Gopal\\Downloads\\TrainIJYOLO2013\\TrainIJYOLO2013\\train\\images\\00463.jpg: 1 duplicate labels removed\n",
      "\u001b[34m\u001b[1mtrain: \u001b[0mC:\\Users\\Venu Gopal\\Downloads\\TrainIJYOLO2013\\TrainIJYOLO2013\\train\\images\\00465.jpg: 1 duplicate labels removed\n",
      "\u001b[34m\u001b[1mtrain: \u001b[0mC:\\Users\\Venu Gopal\\Downloads\\TrainIJYOLO2013\\TrainIJYOLO2013\\train\\images\\00466.jpg: 4 duplicate labels removed\n",
      "\u001b[34m\u001b[1mtrain: \u001b[0mC:\\Users\\Venu Gopal\\Downloads\\TrainIJYOLO2013\\TrainIJYOLO2013\\train\\images\\00467.jpg: 1 duplicate labels removed\n",
      "\u001b[34m\u001b[1mtrain: \u001b[0mC:\\Users\\Venu Gopal\\Downloads\\TrainIJYOLO2013\\TrainIJYOLO2013\\train\\images\\00468.jpg: 1 duplicate labels removed\n",
      "\u001b[34m\u001b[1mtrain: \u001b[0mC:\\Users\\Venu Gopal\\Downloads\\TrainIJYOLO2013\\TrainIJYOLO2013\\train\\images\\00470.jpg: 3 duplicate labels removed\n",
      "\u001b[34m\u001b[1mtrain: \u001b[0mC:\\Users\\Venu Gopal\\Downloads\\TrainIJYOLO2013\\TrainIJYOLO2013\\train\\images\\00471.jpg: 1 duplicate labels removed\n",
      "\u001b[34m\u001b[1mtrain: \u001b[0mC:\\Users\\Venu Gopal\\Downloads\\TrainIJYOLO2013\\TrainIJYOLO2013\\train\\images\\00472.jpg: 1 duplicate labels removed\n",
      "\u001b[34m\u001b[1mtrain: \u001b[0mC:\\Users\\Venu Gopal\\Downloads\\TrainIJYOLO2013\\TrainIJYOLO2013\\train\\images\\00473.jpg: 2 duplicate labels removed\n",
      "\u001b[34m\u001b[1mtrain: \u001b[0mC:\\Users\\Venu Gopal\\Downloads\\TrainIJYOLO2013\\TrainIJYOLO2013\\train\\images\\00474.jpg: 2 duplicate labels removed\n",
      "\u001b[34m\u001b[1mtrain: \u001b[0mC:\\Users\\Venu Gopal\\Downloads\\TrainIJYOLO2013\\TrainIJYOLO2013\\train\\images\\00475.jpg: 1 duplicate labels removed\n",
      "\u001b[34m\u001b[1mtrain: \u001b[0mC:\\Users\\Venu Gopal\\Downloads\\TrainIJYOLO2013\\TrainIJYOLO2013\\train\\images\\00476.jpg: 2 duplicate labels removed\n",
      "\u001b[34m\u001b[1mtrain: \u001b[0mC:\\Users\\Venu Gopal\\Downloads\\TrainIJYOLO2013\\TrainIJYOLO2013\\train\\images\\00477.jpg: 1 duplicate labels removed\n",
      "\u001b[34m\u001b[1mtrain: \u001b[0mC:\\Users\\Venu Gopal\\Downloads\\TrainIJYOLO2013\\TrainIJYOLO2013\\train\\images\\00478.jpg: 2 duplicate labels removed\n",
      "\u001b[34m\u001b[1mtrain: \u001b[0mC:\\Users\\Venu Gopal\\Downloads\\TrainIJYOLO2013\\TrainIJYOLO2013\\train\\images\\00479.jpg: 2 duplicate labels removed\n",
      "\u001b[34m\u001b[1mval: \u001b[0mFast image access  (ping: 0.30.1 ms, read: 142.525.2 MB/s, size: 107.1 KB)\n"
     ]
    },
    {
     "name": "stderr",
     "output_type": "stream",
     "text": [
      "\n",
      "c:\\Users\\Venu Gopal\\AppData\\Local\\Programs\\Python\\Python311\\Lib\\site-packages\\torch\\utils\\data\\dataloader.py:665: UserWarning: 'pin_memory' argument is set as true but no accelerator is found, then device pinned memory won't be used.\n",
      "  warnings.warn(warn_msg)\n",
      "\u001b[34m\u001b[1mval: \u001b[0mScanning C:\\Users\\Venu Gopal\\Downloads\\TrainIJYOLO2013\\TrainIJYOLO2013\\val\\labels.cache... 63 images, 57 backgrounds, 0 corrupt: 100%|██████████| 120/120 [00:00<?, ?it/s]"
     ]
    },
    {
     "name": "stdout",
     "output_type": "stream",
     "text": [
      "\u001b[34m\u001b[1mval: \u001b[0mC:\\Users\\Venu Gopal\\Downloads\\TrainIJYOLO2013\\TrainIJYOLO2013\\val\\images\\00480.jpg: 1 duplicate labels removed\n",
      "\u001b[34m\u001b[1mval: \u001b[0mC:\\Users\\Venu Gopal\\Downloads\\TrainIJYOLO2013\\TrainIJYOLO2013\\val\\images\\00481.jpg: 1 duplicate labels removed\n",
      "\u001b[34m\u001b[1mval: \u001b[0mC:\\Users\\Venu Gopal\\Downloads\\TrainIJYOLO2013\\TrainIJYOLO2013\\val\\images\\00482.jpg: 4 duplicate labels removed\n",
      "\u001b[34m\u001b[1mval: \u001b[0mC:\\Users\\Venu Gopal\\Downloads\\TrainIJYOLO2013\\TrainIJYOLO2013\\val\\images\\00483.jpg: 2 duplicate labels removed\n",
      "\u001b[34m\u001b[1mval: \u001b[0mC:\\Users\\Venu Gopal\\Downloads\\TrainIJYOLO2013\\TrainIJYOLO2013\\val\\images\\00484.jpg: 2 duplicate labels removed\n",
      "\u001b[34m\u001b[1mval: \u001b[0mC:\\Users\\Venu Gopal\\Downloads\\TrainIJYOLO2013\\TrainIJYOLO2013\\val\\images\\00485.jpg: 1 duplicate labels removed\n",
      "\u001b[34m\u001b[1mval: \u001b[0mC:\\Users\\Venu Gopal\\Downloads\\TrainIJYOLO2013\\TrainIJYOLO2013\\val\\images\\00486.jpg: 1 duplicate labels removed\n",
      "\u001b[34m\u001b[1mval: \u001b[0mC:\\Users\\Venu Gopal\\Downloads\\TrainIJYOLO2013\\TrainIJYOLO2013\\val\\images\\00487.jpg: 1 duplicate labels removed\n",
      "\u001b[34m\u001b[1mval: \u001b[0mC:\\Users\\Venu Gopal\\Downloads\\TrainIJYOLO2013\\TrainIJYOLO2013\\val\\images\\00488.jpg: 1 duplicate labels removed\n",
      "\u001b[34m\u001b[1mval: \u001b[0mC:\\Users\\Venu Gopal\\Downloads\\TrainIJYOLO2013\\TrainIJYOLO2013\\val\\images\\00490.jpg: 3 duplicate labels removed\n",
      "\u001b[34m\u001b[1mval: \u001b[0mC:\\Users\\Venu Gopal\\Downloads\\TrainIJYOLO2013\\TrainIJYOLO2013\\val\\images\\00491.jpg: 1 duplicate labels removed\n",
      "\u001b[34m\u001b[1mval: \u001b[0mC:\\Users\\Venu Gopal\\Downloads\\TrainIJYOLO2013\\TrainIJYOLO2013\\val\\images\\00492.jpg: 1 duplicate labels removed\n",
      "\u001b[34m\u001b[1mval: \u001b[0mC:\\Users\\Venu Gopal\\Downloads\\TrainIJYOLO2013\\TrainIJYOLO2013\\val\\images\\00493.jpg: 1 duplicate labels removed\n",
      "\u001b[34m\u001b[1mval: \u001b[0mC:\\Users\\Venu Gopal\\Downloads\\TrainIJYOLO2013\\TrainIJYOLO2013\\val\\images\\00494.jpg: 1 duplicate labels removed\n",
      "\u001b[34m\u001b[1mval: \u001b[0mC:\\Users\\Venu Gopal\\Downloads\\TrainIJYOLO2013\\TrainIJYOLO2013\\val\\images\\00496.jpg: 2 duplicate labels removed\n",
      "\u001b[34m\u001b[1mval: \u001b[0mC:\\Users\\Venu Gopal\\Downloads\\TrainIJYOLO2013\\TrainIJYOLO2013\\val\\images\\00497.jpg: 1 duplicate labels removed\n",
      "\u001b[34m\u001b[1mval: \u001b[0mC:\\Users\\Venu Gopal\\Downloads\\TrainIJYOLO2013\\TrainIJYOLO2013\\val\\images\\00498.jpg: 2 duplicate labels removed\n",
      "\u001b[34m\u001b[1mval: \u001b[0mC:\\Users\\Venu Gopal\\Downloads\\TrainIJYOLO2013\\TrainIJYOLO2013\\val\\images\\00499.jpg: 1 duplicate labels removed\n",
      "\u001b[34m\u001b[1mval: \u001b[0mC:\\Users\\Venu Gopal\\Downloads\\TrainIJYOLO2013\\TrainIJYOLO2013\\val\\images\\00500.jpg: 1 duplicate labels removed\n",
      "\u001b[34m\u001b[1mval: \u001b[0mC:\\Users\\Venu Gopal\\Downloads\\TrainIJYOLO2013\\TrainIJYOLO2013\\val\\images\\00501.jpg: 4 duplicate labels removed\n",
      "\u001b[34m\u001b[1mval: \u001b[0mC:\\Users\\Venu Gopal\\Downloads\\TrainIJYOLO2013\\TrainIJYOLO2013\\val\\images\\00502.jpg: 3 duplicate labels removed\n",
      "\u001b[34m\u001b[1mval: \u001b[0mC:\\Users\\Venu Gopal\\Downloads\\TrainIJYOLO2013\\TrainIJYOLO2013\\val\\images\\00503.jpg: 1 duplicate labels removed\n",
      "\u001b[34m\u001b[1mval: \u001b[0mC:\\Users\\Venu Gopal\\Downloads\\TrainIJYOLO2013\\TrainIJYOLO2013\\val\\images\\00504.jpg: 1 duplicate labels removed\n",
      "\u001b[34m\u001b[1mval: \u001b[0mC:\\Users\\Venu Gopal\\Downloads\\TrainIJYOLO2013\\TrainIJYOLO2013\\val\\images\\00505.jpg: 1 duplicate labels removed\n",
      "\u001b[34m\u001b[1mval: \u001b[0mC:\\Users\\Venu Gopal\\Downloads\\TrainIJYOLO2013\\TrainIJYOLO2013\\val\\images\\00507.jpg: 2 duplicate labels removed\n",
      "\u001b[34m\u001b[1mval: \u001b[0mC:\\Users\\Venu Gopal\\Downloads\\TrainIJYOLO2013\\TrainIJYOLO2013\\val\\images\\00508.jpg: 1 duplicate labels removed\n",
      "\u001b[34m\u001b[1mval: \u001b[0mC:\\Users\\Venu Gopal\\Downloads\\TrainIJYOLO2013\\TrainIJYOLO2013\\val\\images\\00509.jpg: 1 duplicate labels removed\n",
      "\u001b[34m\u001b[1mval: \u001b[0mC:\\Users\\Venu Gopal\\Downloads\\TrainIJYOLO2013\\TrainIJYOLO2013\\val\\images\\00512.jpg: 2 duplicate labels removed\n",
      "\u001b[34m\u001b[1mval: \u001b[0mC:\\Users\\Venu Gopal\\Downloads\\TrainIJYOLO2013\\TrainIJYOLO2013\\val\\images\\00513.jpg: 1 duplicate labels removed\n",
      "\u001b[34m\u001b[1mval: \u001b[0mC:\\Users\\Venu Gopal\\Downloads\\TrainIJYOLO2013\\TrainIJYOLO2013\\val\\images\\00514.jpg: 2 duplicate labels removed\n",
      "\u001b[34m\u001b[1mval: \u001b[0mC:\\Users\\Venu Gopal\\Downloads\\TrainIJYOLO2013\\TrainIJYOLO2013\\val\\images\\00515.jpg: 1 duplicate labels removed\n",
      "\u001b[34m\u001b[1mval: \u001b[0mC:\\Users\\Venu Gopal\\Downloads\\TrainIJYOLO2013\\TrainIJYOLO2013\\val\\images\\00516.jpg: 1 duplicate labels removed\n",
      "\u001b[34m\u001b[1mval: \u001b[0mC:\\Users\\Venu Gopal\\Downloads\\TrainIJYOLO2013\\TrainIJYOLO2013\\val\\images\\00517.jpg: 1 duplicate labels removed\n",
      "\u001b[34m\u001b[1mval: \u001b[0mC:\\Users\\Venu Gopal\\Downloads\\TrainIJYOLO2013\\TrainIJYOLO2013\\val\\images\\00518.jpg: 1 duplicate labels removed\n",
      "\u001b[34m\u001b[1mval: \u001b[0mC:\\Users\\Venu Gopal\\Downloads\\TrainIJYOLO2013\\TrainIJYOLO2013\\val\\images\\00519.jpg: 1 duplicate labels removed\n",
      "\u001b[34m\u001b[1mval: \u001b[0mC:\\Users\\Venu Gopal\\Downloads\\TrainIJYOLO2013\\TrainIJYOLO2013\\val\\images\\00520.jpg: 1 duplicate labels removed\n",
      "\u001b[34m\u001b[1mval: \u001b[0mC:\\Users\\Venu Gopal\\Downloads\\TrainIJYOLO2013\\TrainIJYOLO2013\\val\\images\\00521.jpg: 2 duplicate labels removed\n",
      "\u001b[34m\u001b[1mval: \u001b[0mC:\\Users\\Venu Gopal\\Downloads\\TrainIJYOLO2013\\TrainIJYOLO2013\\val\\images\\00523.jpg: 2 duplicate labels removed\n",
      "\u001b[34m\u001b[1mval: \u001b[0mC:\\Users\\Venu Gopal\\Downloads\\TrainIJYOLO2013\\TrainIJYOLO2013\\val\\images\\00524.jpg: 2 duplicate labels removed\n",
      "\u001b[34m\u001b[1mval: \u001b[0mC:\\Users\\Venu Gopal\\Downloads\\TrainIJYOLO2013\\TrainIJYOLO2013\\val\\images\\00527.jpg: 2 duplicate labels removed\n",
      "\u001b[34m\u001b[1mval: \u001b[0mC:\\Users\\Venu Gopal\\Downloads\\TrainIJYOLO2013\\TrainIJYOLO2013\\val\\images\\00528.jpg: 2 duplicate labels removed\n",
      "\u001b[34m\u001b[1mval: \u001b[0mC:\\Users\\Venu Gopal\\Downloads\\TrainIJYOLO2013\\TrainIJYOLO2013\\val\\images\\00530.jpg: 2 duplicate labels removed\n",
      "\u001b[34m\u001b[1mval: \u001b[0mC:\\Users\\Venu Gopal\\Downloads\\TrainIJYOLO2013\\TrainIJYOLO2013\\val\\images\\00531.jpg: 2 duplicate labels removed\n",
      "\u001b[34m\u001b[1mval: \u001b[0mC:\\Users\\Venu Gopal\\Downloads\\TrainIJYOLO2013\\TrainIJYOLO2013\\val\\images\\00536.jpg: 3 duplicate labels removed\n",
      "\u001b[34m\u001b[1mval: \u001b[0mC:\\Users\\Venu Gopal\\Downloads\\TrainIJYOLO2013\\TrainIJYOLO2013\\val\\images\\00542.jpg: 1 duplicate labels removed\n",
      "\u001b[34m\u001b[1mval: \u001b[0mC:\\Users\\Venu Gopal\\Downloads\\TrainIJYOLO2013\\TrainIJYOLO2013\\val\\images\\00544.jpg: 3 duplicate labels removed\n",
      "\u001b[34m\u001b[1mval: \u001b[0mC:\\Users\\Venu Gopal\\Downloads\\TrainIJYOLO2013\\TrainIJYOLO2013\\val\\images\\00545.jpg: 1 duplicate labels removed\n",
      "\u001b[34m\u001b[1mval: \u001b[0mC:\\Users\\Venu Gopal\\Downloads\\TrainIJYOLO2013\\TrainIJYOLO2013\\val\\images\\00548.jpg: 2 duplicate labels removed\n",
      "\u001b[34m\u001b[1mval: \u001b[0mC:\\Users\\Venu Gopal\\Downloads\\TrainIJYOLO2013\\TrainIJYOLO2013\\val\\images\\00551.jpg: 1 duplicate labels removed\n",
      "\u001b[34m\u001b[1mval: \u001b[0mC:\\Users\\Venu Gopal\\Downloads\\TrainIJYOLO2013\\TrainIJYOLO2013\\val\\images\\00552.jpg: 4 duplicate labels removed\n",
      "\u001b[34m\u001b[1mval: \u001b[0mC:\\Users\\Venu Gopal\\Downloads\\TrainIJYOLO2013\\TrainIJYOLO2013\\val\\images\\00554.jpg: 1 duplicate labels removed\n",
      "\u001b[34m\u001b[1mval: \u001b[0mC:\\Users\\Venu Gopal\\Downloads\\TrainIJYOLO2013\\TrainIJYOLO2013\\val\\images\\00556.jpg: 1 duplicate labels removed\n",
      "\u001b[34m\u001b[1mval: \u001b[0mC:\\Users\\Venu Gopal\\Downloads\\TrainIJYOLO2013\\TrainIJYOLO2013\\val\\images\\00557.jpg: 2 duplicate labels removed\n",
      "\u001b[34m\u001b[1mval: \u001b[0mC:\\Users\\Venu Gopal\\Downloads\\TrainIJYOLO2013\\TrainIJYOLO2013\\val\\images\\00560.jpg: 1 duplicate labels removed\n",
      "\u001b[34m\u001b[1mval: \u001b[0mC:\\Users\\Venu Gopal\\Downloads\\TrainIJYOLO2013\\TrainIJYOLO2013\\val\\images\\00564.jpg: 1 duplicate labels removed\n",
      "\u001b[34m\u001b[1mval: \u001b[0mC:\\Users\\Venu Gopal\\Downloads\\TrainIJYOLO2013\\TrainIJYOLO2013\\val\\images\\00565.jpg: 1 duplicate labels removed\n",
      "\u001b[34m\u001b[1mval: \u001b[0mC:\\Users\\Venu Gopal\\Downloads\\TrainIJYOLO2013\\TrainIJYOLO2013\\val\\images\\00566.jpg: 3 duplicate labels removed\n",
      "\u001b[34m\u001b[1mval: \u001b[0mC:\\Users\\Venu Gopal\\Downloads\\TrainIJYOLO2013\\TrainIJYOLO2013\\val\\images\\00567.jpg: 1 duplicate labels removed\n",
      "\u001b[34m\u001b[1mval: \u001b[0mC:\\Users\\Venu Gopal\\Downloads\\TrainIJYOLO2013\\TrainIJYOLO2013\\val\\images\\00570.jpg: 1 duplicate labels removed\n",
      "\u001b[34m\u001b[1mval: \u001b[0mC:\\Users\\Venu Gopal\\Downloads\\TrainIJYOLO2013\\TrainIJYOLO2013\\val\\images\\00571.jpg: 1 duplicate labels removed\n",
      "\u001b[34m\u001b[1mval: \u001b[0mC:\\Users\\Venu Gopal\\Downloads\\TrainIJYOLO2013\\TrainIJYOLO2013\\val\\images\\00575.jpg: 1 duplicate labels removed\n",
      "\u001b[34m\u001b[1mval: \u001b[0mC:\\Users\\Venu Gopal\\Downloads\\TrainIJYOLO2013\\TrainIJYOLO2013\\val\\images\\00593.jpg: 1 duplicate labels removed\n",
      "\u001b[34m\u001b[1mval: \u001b[0mC:\\Users\\Venu Gopal\\Downloads\\TrainIJYOLO2013\\TrainIJYOLO2013\\val\\images\\00599.jpg: 1 duplicate labels removed\n"
     ]
    },
    {
     "name": "stderr",
     "output_type": "stream",
     "text": [
      "\n",
      "c:\\Users\\Venu Gopal\\AppData\\Local\\Programs\\Python\\Python311\\Lib\\site-packages\\torch\\utils\\data\\dataloader.py:665: UserWarning: 'pin_memory' argument is set as true but no accelerator is found, then device pinned memory won't be used.\n",
      "  warnings.warn(warn_msg)\n"
     ]
    },
    {
     "name": "stdout",
     "output_type": "stream",
     "text": [
      "Plotting labels to runs\\detect\\train6\\labels.jpg... \n",
      "\u001b[34m\u001b[1moptimizer:\u001b[0m 'optimizer=auto' found, ignoring 'lr0=0.01' and 'momentum=0.937' and determining best 'optimizer', 'lr0' and 'momentum' automatically... \n",
      "\u001b[34m\u001b[1moptimizer:\u001b[0m AdamW(lr=0.000213, momentum=0.9) with parameter groups 57 weight(decay=0.0), 64 weight(decay=0.0005), 63 bias(decay=0.0)\n",
      "Image sizes 640 train, 640 val\n",
      "Using 0 dataloader workers\n",
      "Logging results to \u001b[1mruns\\detect\\train6\u001b[0m\n",
      "Starting training for 100 epochs...\n",
      "\n",
      "      Epoch    GPU_mem   box_loss   cls_loss   dfl_loss  Instances       Size\n"
     ]
    },
    {
     "name": "stderr",
     "output_type": "stream",
     "text": [
      "      1/100         0G      1.374      6.737     0.9762         38        640: 100%|██████████| 30/30 [02:06<00:00,  4.22s/it]\n",
      "                 Class     Images  Instances      Box(P          R      mAP50  mAP50-95): 100%|██████████| 4/4 [00:07<00:00,  1.95s/it]"
     ]
    },
    {
     "name": "stdout",
     "output_type": "stream",
     "text": [
      "                   all        120         98          0          0          0          0\n"
     ]
    },
    {
     "name": "stderr",
     "output_type": "stream",
     "text": [
      "\n"
     ]
    },
    {
     "name": "stdout",
     "output_type": "stream",
     "text": [
      "\n",
      "      Epoch    GPU_mem   box_loss   cls_loss   dfl_loss  Instances       Size\n"
     ]
    },
    {
     "name": "stderr",
     "output_type": "stream",
     "text": [
      "      2/100         0G      1.303      5.947     0.8848         52        640: 100%|██████████| 30/30 [03:10<00:00,  6.36s/it]\n",
      "                 Class     Images  Instances      Box(P          R      mAP50  mAP50-95): 100%|██████████| 4/4 [00:10<00:00,  2.52s/it]"
     ]
    },
    {
     "name": "stdout",
     "output_type": "stream",
     "text": [
      "                   all        120         98     0.0586     0.0549     0.0458      0.033\n"
     ]
    },
    {
     "name": "stderr",
     "output_type": "stream",
     "text": [
      "\n"
     ]
    },
    {
     "name": "stdout",
     "output_type": "stream",
     "text": [
      "\n",
      "      Epoch    GPU_mem   box_loss   cls_loss   dfl_loss  Instances       Size\n"
     ]
    },
    {
     "name": "stderr",
     "output_type": "stream",
     "text": [
      "      3/100         0G      1.364      5.425     0.8677         41        640: 100%|██████████| 30/30 [03:19<00:00,  6.66s/it]\n",
      "                 Class     Images  Instances      Box(P          R      mAP50  mAP50-95): 100%|██████████| 4/4 [00:07<00:00,  1.83s/it]"
     ]
    },
    {
     "name": "stdout",
     "output_type": "stream",
     "text": [
      "                   all        120         98      0.041      0.388      0.092     0.0709\n"
     ]
    },
    {
     "name": "stderr",
     "output_type": "stream",
     "text": [
      "\n"
     ]
    },
    {
     "name": "stdout",
     "output_type": "stream",
     "text": [
      "\n",
      "      Epoch    GPU_mem   box_loss   cls_loss   dfl_loss  Instances       Size\n"
     ]
    },
    {
     "name": "stderr",
     "output_type": "stream",
     "text": [
      "      4/100         0G      1.267       5.07     0.8555         39        640: 100%|██████████| 30/30 [02:12<00:00,  4.42s/it]\n",
      "                 Class     Images  Instances      Box(P          R      mAP50  mAP50-95): 100%|██████████| 4/4 [00:06<00:00,  1.71s/it]"
     ]
    },
    {
     "name": "stdout",
     "output_type": "stream",
     "text": [
      "                   all        120         98      0.498      0.136      0.113     0.0853\n"
     ]
    },
    {
     "name": "stderr",
     "output_type": "stream",
     "text": [
      "\n"
     ]
    },
    {
     "name": "stdout",
     "output_type": "stream",
     "text": [
      "\n",
      "      Epoch    GPU_mem   box_loss   cls_loss   dfl_loss  Instances       Size\n"
     ]
    },
    {
     "name": "stderr",
     "output_type": "stream",
     "text": [
      "      5/100         0G      1.272      4.681     0.8558         55        640: 100%|██████████| 30/30 [02:18<00:00,  4.63s/it]\n",
      "                 Class     Images  Instances      Box(P          R      mAP50  mAP50-95): 100%|██████████| 4/4 [01:24<00:00, 21.06s/it]"
     ]
    },
    {
     "name": "stdout",
     "output_type": "stream",
     "text": [
      "                   all        120         98     0.0366      0.615      0.109      0.087\n"
     ]
    },
    {
     "name": "stderr",
     "output_type": "stream",
     "text": [
      "\n"
     ]
    },
    {
     "name": "stdout",
     "output_type": "stream",
     "text": [
      "\n",
      "      Epoch    GPU_mem   box_loss   cls_loss   dfl_loss  Instances       Size\n"
     ]
    },
    {
     "name": "stderr",
     "output_type": "stream",
     "text": [
      "      6/100         0G       1.18      4.377     0.8567         55        640: 100%|██████████| 30/30 [02:41<00:00,  5.39s/it]\n",
      "                 Class     Images  Instances      Box(P          R      mAP50  mAP50-95): 100%|██████████| 4/4 [00:06<00:00,  1.73s/it]"
     ]
    },
    {
     "name": "stdout",
     "output_type": "stream",
     "text": [
      "                   all        120         98      0.383     0.0892      0.142      0.112\n"
     ]
    },
    {
     "name": "stderr",
     "output_type": "stream",
     "text": [
      "\n"
     ]
    },
    {
     "name": "stdout",
     "output_type": "stream",
     "text": [
      "\n",
      "      Epoch    GPU_mem   box_loss   cls_loss   dfl_loss  Instances       Size\n"
     ]
    },
    {
     "name": "stderr",
     "output_type": "stream",
     "text": [
      "      7/100         0G      1.136      4.259      0.857         40        640: 100%|██████████| 30/30 [04:54<00:00,  9.82s/it]\n",
      "                 Class     Images  Instances      Box(P          R      mAP50  mAP50-95): 100%|██████████| 4/4 [00:07<00:00,  1.84s/it]"
     ]
    },
    {
     "name": "stdout",
     "output_type": "stream",
     "text": [
      "                   all        120         98      0.507      0.146      0.156      0.115\n"
     ]
    },
    {
     "name": "stderr",
     "output_type": "stream",
     "text": [
      "\n"
     ]
    },
    {
     "name": "stdout",
     "output_type": "stream",
     "text": [
      "\n",
      "      Epoch    GPU_mem   box_loss   cls_loss   dfl_loss  Instances       Size\n"
     ]
    },
    {
     "name": "stderr",
     "output_type": "stream",
     "text": [
      "      8/100         0G      1.136      3.972     0.8511         45        640: 100%|██████████| 30/30 [02:12<00:00,  4.42s/it]\n",
      "                 Class     Images  Instances      Box(P          R      mAP50  mAP50-95): 100%|██████████| 4/4 [00:07<00:00,  1.76s/it]"
     ]
    },
    {
     "name": "stdout",
     "output_type": "stream",
     "text": [
      "                   all        120         98      0.408       0.13      0.192       0.15\n"
     ]
    },
    {
     "name": "stderr",
     "output_type": "stream",
     "text": [
      "\n"
     ]
    },
    {
     "name": "stdout",
     "output_type": "stream",
     "text": [
      "\n",
      "      Epoch    GPU_mem   box_loss   cls_loss   dfl_loss  Instances       Size\n"
     ]
    },
    {
     "name": "stderr",
     "output_type": "stream",
     "text": [
      "      9/100         0G      1.059      3.673     0.8355         45        640: 100%|██████████| 30/30 [02:13<00:00,  4.45s/it]\n",
      "                 Class     Images  Instances      Box(P          R      mAP50  mAP50-95): 100%|██████████| 4/4 [00:07<00:00,  1.83s/it]"
     ]
    },
    {
     "name": "stdout",
     "output_type": "stream",
     "text": [
      "                   all        120         98      0.323      0.238      0.222      0.177\n"
     ]
    },
    {
     "name": "stderr",
     "output_type": "stream",
     "text": [
      "\n"
     ]
    },
    {
     "name": "stdout",
     "output_type": "stream",
     "text": [
      "\n",
      "      Epoch    GPU_mem   box_loss   cls_loss   dfl_loss  Instances       Size\n"
     ]
    },
    {
     "name": "stderr",
     "output_type": "stream",
     "text": [
      "     10/100         0G      1.049      3.527     0.8466         46        640: 100%|██████████| 30/30 [02:05<00:00,  4.18s/it]\n",
      "                 Class     Images  Instances      Box(P          R      mAP50  mAP50-95): 100%|██████████| 4/4 [00:07<00:00,  1.78s/it]"
     ]
    },
    {
     "name": "stdout",
     "output_type": "stream",
     "text": [
      "                   all        120         98      0.244      0.219      0.226      0.166\n"
     ]
    },
    {
     "name": "stderr",
     "output_type": "stream",
     "text": [
      "\n"
     ]
    },
    {
     "name": "stdout",
     "output_type": "stream",
     "text": [
      "\n",
      "      Epoch    GPU_mem   box_loss   cls_loss   dfl_loss  Instances       Size\n"
     ]
    },
    {
     "name": "stderr",
     "output_type": "stream",
     "text": [
      "     11/100         0G      1.028      3.506     0.8567         40        640: 100%|██████████| 30/30 [02:44<00:00,  5.50s/it]\n",
      "                 Class     Images  Instances      Box(P          R      mAP50  mAP50-95): 100%|██████████| 4/4 [00:07<00:00,  1.82s/it]"
     ]
    },
    {
     "name": "stdout",
     "output_type": "stream",
     "text": [
      "                   all        120         98      0.392      0.229      0.208      0.156\n"
     ]
    },
    {
     "name": "stderr",
     "output_type": "stream",
     "text": [
      "\n"
     ]
    },
    {
     "name": "stdout",
     "output_type": "stream",
     "text": [
      "\n",
      "      Epoch    GPU_mem   box_loss   cls_loss   dfl_loss  Instances       Size\n"
     ]
    },
    {
     "name": "stderr",
     "output_type": "stream",
     "text": [
      "     12/100         0G      1.012      3.219     0.8425         43        640: 100%|██████████| 30/30 [02:17<00:00,  4.58s/it]\n",
      "                 Class     Images  Instances      Box(P          R      mAP50  mAP50-95): 100%|██████████| 4/4 [00:07<00:00,  1.81s/it]"
     ]
    },
    {
     "name": "stdout",
     "output_type": "stream",
     "text": [
      "                   all        120         98      0.213      0.315      0.238      0.187\n"
     ]
    },
    {
     "name": "stderr",
     "output_type": "stream",
     "text": [
      "\n"
     ]
    },
    {
     "name": "stdout",
     "output_type": "stream",
     "text": [
      "\n",
      "      Epoch    GPU_mem   box_loss   cls_loss   dfl_loss  Instances       Size\n"
     ]
    },
    {
     "name": "stderr",
     "output_type": "stream",
     "text": [
      "     13/100         0G      1.002      3.141     0.8305         35        640: 100%|██████████| 30/30 [02:20<00:00,  4.68s/it]\n",
      "                 Class     Images  Instances      Box(P          R      mAP50  mAP50-95): 100%|██████████| 4/4 [00:07<00:00,  1.81s/it]"
     ]
    },
    {
     "name": "stdout",
     "output_type": "stream",
     "text": [
      "                   all        120         98      0.409      0.252       0.26      0.194\n"
     ]
    },
    {
     "name": "stderr",
     "output_type": "stream",
     "text": [
      "\n"
     ]
    },
    {
     "name": "stdout",
     "output_type": "stream",
     "text": [
      "\n",
      "      Epoch    GPU_mem   box_loss   cls_loss   dfl_loss  Instances       Size\n"
     ]
    },
    {
     "name": "stderr",
     "output_type": "stream",
     "text": [
      "     14/100         0G      1.028      3.196     0.8453         50        640: 100%|██████████| 30/30 [02:12<00:00,  4.41s/it]\n",
      "                 Class     Images  Instances      Box(P          R      mAP50  mAP50-95): 100%|██████████| 4/4 [00:06<00:00,  1.73s/it]"
     ]
    },
    {
     "name": "stdout",
     "output_type": "stream",
     "text": [
      "                   all        120         98      0.333      0.361      0.273       0.21\n"
     ]
    },
    {
     "name": "stderr",
     "output_type": "stream",
     "text": [
      "\n"
     ]
    },
    {
     "name": "stdout",
     "output_type": "stream",
     "text": [
      "\n",
      "      Epoch    GPU_mem   box_loss   cls_loss   dfl_loss  Instances       Size\n"
     ]
    },
    {
     "name": "stderr",
     "output_type": "stream",
     "text": [
      "     15/100         0G      1.011      3.019     0.8429         24        640: 100%|██████████| 30/30 [02:09<00:00,  4.33s/it]\n",
      "                 Class     Images  Instances      Box(P          R      mAP50  mAP50-95): 100%|██████████| 4/4 [00:07<00:00,  1.79s/it]"
     ]
    },
    {
     "name": "stdout",
     "output_type": "stream",
     "text": [
      "                   all        120         98      0.286      0.398      0.285      0.221\n"
     ]
    },
    {
     "name": "stderr",
     "output_type": "stream",
     "text": [
      "\n"
     ]
    },
    {
     "name": "stdout",
     "output_type": "stream",
     "text": [
      "\n",
      "      Epoch    GPU_mem   box_loss   cls_loss   dfl_loss  Instances       Size\n"
     ]
    },
    {
     "name": "stderr",
     "output_type": "stream",
     "text": [
      "     16/100         0G     0.9935      2.994     0.8371         45        640: 100%|██████████| 30/30 [02:05<00:00,  4.19s/it]\n",
      "                 Class     Images  Instances      Box(P          R      mAP50  mAP50-95): 100%|██████████| 4/4 [00:07<00:00,  1.81s/it]"
     ]
    },
    {
     "name": "stdout",
     "output_type": "stream",
     "text": [
      "                   all        120         98      0.331      0.298      0.306      0.236\n"
     ]
    },
    {
     "name": "stderr",
     "output_type": "stream",
     "text": [
      "\n"
     ]
    },
    {
     "name": "stdout",
     "output_type": "stream",
     "text": [
      "\n",
      "      Epoch    GPU_mem   box_loss   cls_loss   dfl_loss  Instances       Size\n"
     ]
    },
    {
     "name": "stderr",
     "output_type": "stream",
     "text": [
      "     17/100         0G     0.9883      2.936      0.831         49        640: 100%|██████████| 30/30 [02:09<00:00,  4.33s/it]\n",
      "                 Class     Images  Instances      Box(P          R      mAP50  mAP50-95): 100%|██████████| 4/4 [00:07<00:00,  1.82s/it]"
     ]
    },
    {
     "name": "stdout",
     "output_type": "stream",
     "text": [
      "                   all        120         98      0.406      0.342      0.283      0.219\n"
     ]
    },
    {
     "name": "stderr",
     "output_type": "stream",
     "text": [
      "\n"
     ]
    },
    {
     "name": "stdout",
     "output_type": "stream",
     "text": [
      "\n",
      "      Epoch    GPU_mem   box_loss   cls_loss   dfl_loss  Instances       Size\n"
     ]
    },
    {
     "name": "stderr",
     "output_type": "stream",
     "text": [
      "     18/100         0G     0.9449      2.784     0.8223         36        640: 100%|██████████| 30/30 [02:17<00:00,  4.57s/it]\n",
      "                 Class     Images  Instances      Box(P          R      mAP50  mAP50-95): 100%|██████████| 4/4 [00:07<00:00,  1.78s/it]"
     ]
    },
    {
     "name": "stdout",
     "output_type": "stream",
     "text": [
      "                   all        120         98      0.379      0.424      0.313      0.246\n"
     ]
    },
    {
     "name": "stderr",
     "output_type": "stream",
     "text": [
      "\n"
     ]
    },
    {
     "name": "stdout",
     "output_type": "stream",
     "text": [
      "\n",
      "      Epoch    GPU_mem   box_loss   cls_loss   dfl_loss  Instances       Size\n"
     ]
    },
    {
     "name": "stderr",
     "output_type": "stream",
     "text": [
      "     19/100         0G     0.9424       2.67     0.8345         38        640: 100%|██████████| 30/30 [02:15<00:00,  4.51s/it]\n",
      "                 Class     Images  Instances      Box(P          R      mAP50  mAP50-95): 100%|██████████| 4/4 [00:07<00:00,  1.82s/it]"
     ]
    },
    {
     "name": "stdout",
     "output_type": "stream",
     "text": [
      "                   all        120         98      0.411      0.318      0.309       0.24\n"
     ]
    },
    {
     "name": "stderr",
     "output_type": "stream",
     "text": [
      "\n"
     ]
    },
    {
     "name": "stdout",
     "output_type": "stream",
     "text": [
      "\n",
      "      Epoch    GPU_mem   box_loss   cls_loss   dfl_loss  Instances       Size\n"
     ]
    },
    {
     "name": "stderr",
     "output_type": "stream",
     "text": [
      "     20/100         0G      0.939      2.659     0.8312         47        640: 100%|██████████| 30/30 [02:12<00:00,  4.43s/it]\n",
      "                 Class     Images  Instances      Box(P          R      mAP50  mAP50-95): 100%|██████████| 4/4 [00:07<00:00,  1.78s/it]"
     ]
    },
    {
     "name": "stdout",
     "output_type": "stream",
     "text": [
      "                   all        120         98      0.467      0.448      0.295      0.213\n"
     ]
    },
    {
     "name": "stderr",
     "output_type": "stream",
     "text": [
      "\n"
     ]
    },
    {
     "name": "stdout",
     "output_type": "stream",
     "text": [
      "\n",
      "      Epoch    GPU_mem   box_loss   cls_loss   dfl_loss  Instances       Size\n"
     ]
    },
    {
     "name": "stderr",
     "output_type": "stream",
     "text": [
      "     21/100         0G     0.9624      2.564       0.84         45        640: 100%|██████████| 30/30 [02:16<00:00,  4.56s/it]\n",
      "                 Class     Images  Instances      Box(P          R      mAP50  mAP50-95): 100%|██████████| 4/4 [00:07<00:00,  1.80s/it]"
     ]
    },
    {
     "name": "stdout",
     "output_type": "stream",
     "text": [
      "                   all        120         98      0.437      0.402      0.301      0.225\n"
     ]
    },
    {
     "name": "stderr",
     "output_type": "stream",
     "text": [
      "\n"
     ]
    },
    {
     "name": "stdout",
     "output_type": "stream",
     "text": [
      "\n",
      "      Epoch    GPU_mem   box_loss   cls_loss   dfl_loss  Instances       Size\n"
     ]
    },
    {
     "name": "stderr",
     "output_type": "stream",
     "text": [
      "     22/100         0G     0.9498      2.586     0.8331         27        640: 100%|██████████| 30/30 [02:11<00:00,  4.38s/it]\n",
      "                 Class     Images  Instances      Box(P          R      mAP50  mAP50-95): 100%|██████████| 4/4 [00:07<00:00,  1.81s/it]"
     ]
    },
    {
     "name": "stdout",
     "output_type": "stream",
     "text": [
      "                   all        120         98      0.398       0.36      0.297      0.231\n"
     ]
    },
    {
     "name": "stderr",
     "output_type": "stream",
     "text": [
      "\n"
     ]
    },
    {
     "name": "stdout",
     "output_type": "stream",
     "text": [
      "\n",
      "      Epoch    GPU_mem   box_loss   cls_loss   dfl_loss  Instances       Size\n"
     ]
    },
    {
     "name": "stderr",
     "output_type": "stream",
     "text": [
      "     23/100         0G     0.9088      2.403     0.8335         48        640: 100%|██████████| 30/30 [23:36<00:00, 47.23s/it]  \n",
      "                 Class     Images  Instances      Box(P          R      mAP50  mAP50-95): 100%|██████████| 4/4 [00:07<00:00,  1.86s/it]"
     ]
    },
    {
     "name": "stdout",
     "output_type": "stream",
     "text": [
      "                   all        120         98      0.423      0.342      0.283      0.217\n"
     ]
    },
    {
     "name": "stderr",
     "output_type": "stream",
     "text": [
      "\n"
     ]
    },
    {
     "name": "stdout",
     "output_type": "stream",
     "text": [
      "\n",
      "      Epoch    GPU_mem   box_loss   cls_loss   dfl_loss  Instances       Size\n"
     ]
    },
    {
     "name": "stderr",
     "output_type": "stream",
     "text": [
      "     24/100         0G     0.9165      2.456     0.8253         40        640: 100%|██████████| 30/30 [08:57<00:00, 17.91s/it]\n",
      "                 Class     Images  Instances      Box(P          R      mAP50  mAP50-95): 100%|██████████| 4/4 [00:06<00:00,  1.74s/it]"
     ]
    },
    {
     "name": "stdout",
     "output_type": "stream",
     "text": [
      "                   all        120         98      0.375      0.417      0.286      0.227\n"
     ]
    },
    {
     "name": "stderr",
     "output_type": "stream",
     "text": [
      "\n"
     ]
    },
    {
     "name": "stdout",
     "output_type": "stream",
     "text": [
      "\n",
      "      Epoch    GPU_mem   box_loss   cls_loss   dfl_loss  Instances       Size\n"
     ]
    },
    {
     "name": "stderr",
     "output_type": "stream",
     "text": [
      "     25/100         0G     0.9034      2.397     0.8211         35        640: 100%|██████████| 30/30 [20:59<00:00, 41.99s/it]   \n",
      "                 Class     Images  Instances      Box(P          R      mAP50  mAP50-95): 100%|██████████| 4/4 [00:07<00:00,  1.80s/it]"
     ]
    },
    {
     "name": "stdout",
     "output_type": "stream",
     "text": [
      "                   all        120         98      0.519      0.369      0.283      0.218\n"
     ]
    },
    {
     "name": "stderr",
     "output_type": "stream",
     "text": [
      "\n"
     ]
    },
    {
     "name": "stdout",
     "output_type": "stream",
     "text": [
      "\n",
      "      Epoch    GPU_mem   box_loss   cls_loss   dfl_loss  Instances       Size\n"
     ]
    },
    {
     "name": "stderr",
     "output_type": "stream",
     "text": [
      "     26/100         0G     0.8847      2.278     0.8312         46        640: 100%|██████████| 30/30 [02:25<00:00,  4.84s/it]\n",
      "                 Class     Images  Instances      Box(P          R      mAP50  mAP50-95): 100%|██████████| 4/4 [00:07<00:00,  1.80s/it]"
     ]
    },
    {
     "name": "stdout",
     "output_type": "stream",
     "text": [
      "                   all        120         98      0.466      0.427      0.299      0.234\n"
     ]
    },
    {
     "name": "stderr",
     "output_type": "stream",
     "text": [
      "\n"
     ]
    },
    {
     "name": "stdout",
     "output_type": "stream",
     "text": [
      "\n",
      "      Epoch    GPU_mem   box_loss   cls_loss   dfl_loss  Instances       Size\n"
     ]
    },
    {
     "name": "stderr",
     "output_type": "stream",
     "text": [
      "     27/100         0G     0.8599       2.34     0.8227         50        640: 100%|██████████| 30/30 [02:18<00:00,  4.63s/it]\n",
      "                 Class     Images  Instances      Box(P          R      mAP50  mAP50-95): 100%|██████████| 4/4 [00:07<00:00,  1.84s/it]"
     ]
    },
    {
     "name": "stdout",
     "output_type": "stream",
     "text": [
      "                   all        120         98      0.404      0.402      0.328      0.264\n"
     ]
    },
    {
     "name": "stderr",
     "output_type": "stream",
     "text": [
      "\n"
     ]
    },
    {
     "name": "stdout",
     "output_type": "stream",
     "text": [
      "\n",
      "      Epoch    GPU_mem   box_loss   cls_loss   dfl_loss  Instances       Size\n"
     ]
    },
    {
     "name": "stderr",
     "output_type": "stream",
     "text": [
      "     28/100         0G     0.8645       2.26     0.8221         63        640: 100%|██████████| 30/30 [03:19<00:00,  6.64s/it]\n",
      "                 Class     Images  Instances      Box(P          R      mAP50  mAP50-95): 100%|██████████| 4/4 [00:12<00:00,  3.09s/it]"
     ]
    },
    {
     "name": "stdout",
     "output_type": "stream",
     "text": [
      "                   all        120         98      0.535      0.352      0.307      0.232\n"
     ]
    },
    {
     "name": "stderr",
     "output_type": "stream",
     "text": [
      "\n"
     ]
    },
    {
     "name": "stdout",
     "output_type": "stream",
     "text": [
      "\n",
      "      Epoch    GPU_mem   box_loss   cls_loss   dfl_loss  Instances       Size\n"
     ]
    },
    {
     "name": "stderr",
     "output_type": "stream",
     "text": [
      "     29/100         0G      0.859      2.235     0.8161         46        640: 100%|██████████| 30/30 [03:05<00:00,  6.17s/it]\n",
      "                 Class     Images  Instances      Box(P          R      mAP50  mAP50-95): 100%|██████████| 4/4 [00:07<00:00,  1.88s/it]"
     ]
    },
    {
     "name": "stdout",
     "output_type": "stream",
     "text": [
      "                   all        120         98      0.391      0.442       0.31       0.24\n"
     ]
    },
    {
     "name": "stderr",
     "output_type": "stream",
     "text": [
      "\n"
     ]
    },
    {
     "name": "stdout",
     "output_type": "stream",
     "text": [
      "\n",
      "      Epoch    GPU_mem   box_loss   cls_loss   dfl_loss  Instances       Size\n"
     ]
    },
    {
     "name": "stderr",
     "output_type": "stream",
     "text": [
      "     30/100         0G     0.8739      2.101     0.8299         45        640: 100%|██████████| 30/30 [03:01<00:00,  6.06s/it]\n",
      "                 Class     Images  Instances      Box(P          R      mAP50  mAP50-95): 100%|██████████| 4/4 [00:07<00:00,  1.87s/it]"
     ]
    },
    {
     "name": "stdout",
     "output_type": "stream",
     "text": [
      "                   all        120         98      0.398      0.431      0.367      0.297\n"
     ]
    },
    {
     "name": "stderr",
     "output_type": "stream",
     "text": [
      "\n"
     ]
    },
    {
     "name": "stdout",
     "output_type": "stream",
     "text": [
      "\n",
      "      Epoch    GPU_mem   box_loss   cls_loss   dfl_loss  Instances       Size\n"
     ]
    },
    {
     "name": "stderr",
     "output_type": "stream",
     "text": [
      "     31/100         0G     0.9053      2.152     0.8168         47        640: 100%|██████████| 30/30 [03:12<00:00,  6.41s/it]\n",
      "                 Class     Images  Instances      Box(P          R      mAP50  mAP50-95): 100%|██████████| 4/4 [00:07<00:00,  1.86s/it]"
     ]
    },
    {
     "name": "stdout",
     "output_type": "stream",
     "text": [
      "                   all        120         98      0.391      0.387      0.341      0.267\n"
     ]
    },
    {
     "name": "stderr",
     "output_type": "stream",
     "text": [
      "\n"
     ]
    },
    {
     "name": "stdout",
     "output_type": "stream",
     "text": [
      "\n",
      "      Epoch    GPU_mem   box_loss   cls_loss   dfl_loss  Instances       Size\n"
     ]
    },
    {
     "name": "stderr",
     "output_type": "stream",
     "text": [
      "     32/100         0G     0.8586      2.066      0.818         32        640: 100%|██████████| 30/30 [04:19<00:00,  8.64s/it]\n",
      "                 Class     Images  Instances      Box(P          R      mAP50  mAP50-95): 100%|██████████| 4/4 [00:11<00:00,  2.75s/it]"
     ]
    },
    {
     "name": "stdout",
     "output_type": "stream",
     "text": [
      "                   all        120         98       0.48       0.42      0.339      0.256\n"
     ]
    },
    {
     "name": "stderr",
     "output_type": "stream",
     "text": [
      "\n"
     ]
    },
    {
     "name": "stdout",
     "output_type": "stream",
     "text": [
      "\n",
      "      Epoch    GPU_mem   box_loss   cls_loss   dfl_loss  Instances       Size\n"
     ]
    },
    {
     "name": "stderr",
     "output_type": "stream",
     "text": [
      "     33/100         0G     0.8028      2.017     0.8135         48        640: 100%|██████████| 30/30 [04:32<00:00,  9.10s/it]\n",
      "                 Class     Images  Instances      Box(P          R      mAP50  mAP50-95): 100%|██████████| 4/4 [00:13<00:00,  3.25s/it]"
     ]
    },
    {
     "name": "stdout",
     "output_type": "stream",
     "text": [
      "                   all        120         98      0.465      0.414      0.327      0.247\n"
     ]
    },
    {
     "name": "stderr",
     "output_type": "stream",
     "text": [
      "\n"
     ]
    },
    {
     "name": "stdout",
     "output_type": "stream",
     "text": [
      "\n",
      "      Epoch    GPU_mem   box_loss   cls_loss   dfl_loss  Instances       Size\n"
     ]
    },
    {
     "name": "stderr",
     "output_type": "stream",
     "text": [
      "     34/100         0G     0.9038       2.11     0.8214         38        640:  47%|████▋     | 14/30 [02:40<03:03, 11.45s/it]\n"
     ]
    },
    {
     "ename": "KeyboardInterrupt",
     "evalue": "",
     "output_type": "error",
     "traceback": [
      "\u001b[31m---------------------------------------------------------------------------\u001b[39m",
      "\u001b[31mKeyboardInterrupt\u001b[39m                         Traceback (most recent call last)",
      "\u001b[36mCell\u001b[39m\u001b[36m \u001b[39m\u001b[32mIn[4]\u001b[39m\u001b[32m, line 4\u001b[39m\n\u001b[32m      1\u001b[39m \u001b[38;5;28;01mfrom\u001b[39;00m\u001b[38;5;250m \u001b[39m\u001b[34;01multralytics\u001b[39;00m\u001b[38;5;250m \u001b[39m\u001b[38;5;28;01mimport\u001b[39;00m YOLO\n\u001b[32m      3\u001b[39m model = YOLO(\u001b[33m\"\u001b[39m\u001b[33myolov8n.pt\u001b[39m\u001b[33m\"\u001b[39m)\n\u001b[32m----> \u001b[39m\u001b[32m4\u001b[39m results = \u001b[43mmodel\u001b[49m\u001b[43m.\u001b[49m\u001b[43mtrain\u001b[49m\u001b[43m(\u001b[49m\n\u001b[32m      5\u001b[39m \u001b[43m    \u001b[49m\u001b[43mdata\u001b[49m\u001b[43m=\u001b[49m\u001b[33;43m\"\u001b[39;49m\u001b[33;43mC:/Users/Venu Gopal/Downloads/TrainIJYOLO2013/TrainIJYOLO2013/traffic_signs.yaml\u001b[39;49m\u001b[33;43m\"\u001b[39;49m\u001b[43m,\u001b[49m\n\u001b[32m      6\u001b[39m \u001b[43m    \u001b[49m\u001b[43mepochs\u001b[49m\u001b[43m=\u001b[49m\u001b[32;43m100\u001b[39;49m\u001b[43m,\u001b[49m\n\u001b[32m      7\u001b[39m \u001b[43m    \u001b[49m\u001b[43mimgsz\u001b[49m\u001b[43m=\u001b[49m\u001b[32;43m640\u001b[39;49m\n\u001b[32m      8\u001b[39m \u001b[43m)\u001b[49m\n",
      "\u001b[36mFile \u001b[39m\u001b[32mc:\\Users\\Venu Gopal\\AppData\\Local\\Programs\\Python\\Python311\\Lib\\site-packages\\ultralytics\\engine\\model.py:799\u001b[39m, in \u001b[36mModel.train\u001b[39m\u001b[34m(self, trainer, **kwargs)\u001b[39m\n\u001b[32m    796\u001b[39m     \u001b[38;5;28mself\u001b[39m.model = \u001b[38;5;28mself\u001b[39m.trainer.model\n\u001b[32m    798\u001b[39m \u001b[38;5;28mself\u001b[39m.trainer.hub_session = \u001b[38;5;28mself\u001b[39m.session  \u001b[38;5;66;03m# attach optional HUB session\u001b[39;00m\n\u001b[32m--> \u001b[39m\u001b[32m799\u001b[39m \u001b[38;5;28;43mself\u001b[39;49m\u001b[43m.\u001b[49m\u001b[43mtrainer\u001b[49m\u001b[43m.\u001b[49m\u001b[43mtrain\u001b[49m\u001b[43m(\u001b[49m\u001b[43m)\u001b[49m\n\u001b[32m    800\u001b[39m \u001b[38;5;66;03m# Update model and cfg after training\u001b[39;00m\n\u001b[32m    801\u001b[39m \u001b[38;5;28;01mif\u001b[39;00m RANK \u001b[38;5;129;01min\u001b[39;00m {-\u001b[32m1\u001b[39m, \u001b[32m0\u001b[39m}:\n",
      "\u001b[36mFile \u001b[39m\u001b[32mc:\\Users\\Venu Gopal\\AppData\\Local\\Programs\\Python\\Python311\\Lib\\site-packages\\ultralytics\\engine\\trainer.py:227\u001b[39m, in \u001b[36mBaseTrainer.train\u001b[39m\u001b[34m(self)\u001b[39m\n\u001b[32m    224\u001b[39m         ddp_cleanup(\u001b[38;5;28mself\u001b[39m, \u001b[38;5;28mstr\u001b[39m(file))\n\u001b[32m    226\u001b[39m \u001b[38;5;28;01melse\u001b[39;00m:\n\u001b[32m--> \u001b[39m\u001b[32m227\u001b[39m     \u001b[38;5;28;43mself\u001b[39;49m\u001b[43m.\u001b[49m\u001b[43m_do_train\u001b[49m\u001b[43m(\u001b[49m\u001b[43mworld_size\u001b[49m\u001b[43m)\u001b[49m\n",
      "\u001b[36mFile \u001b[39m\u001b[32mc:\\Users\\Venu Gopal\\AppData\\Local\\Programs\\Python\\Python311\\Lib\\site-packages\\ultralytics\\engine\\trainer.py:415\u001b[39m, in \u001b[36mBaseTrainer._do_train\u001b[39m\u001b[34m(self, world_size)\u001b[39m\n\u001b[32m    410\u001b[39m     \u001b[38;5;28mself\u001b[39m.tloss = (\n\u001b[32m    411\u001b[39m         (\u001b[38;5;28mself\u001b[39m.tloss * i + \u001b[38;5;28mself\u001b[39m.loss_items) / (i + \u001b[32m1\u001b[39m) \u001b[38;5;28;01mif\u001b[39;00m \u001b[38;5;28mself\u001b[39m.tloss \u001b[38;5;129;01mis\u001b[39;00m \u001b[38;5;129;01mnot\u001b[39;00m \u001b[38;5;28;01mNone\u001b[39;00m \u001b[38;5;28;01melse\u001b[39;00m \u001b[38;5;28mself\u001b[39m.loss_items\n\u001b[32m    412\u001b[39m     )\n\u001b[32m    414\u001b[39m \u001b[38;5;66;03m# Backward\u001b[39;00m\n\u001b[32m--> \u001b[39m\u001b[32m415\u001b[39m \u001b[38;5;28;43mself\u001b[39;49m\u001b[43m.\u001b[49m\u001b[43mscaler\u001b[49m\u001b[43m.\u001b[49m\u001b[43mscale\u001b[49m\u001b[43m(\u001b[49m\u001b[38;5;28;43mself\u001b[39;49m\u001b[43m.\u001b[49m\u001b[43mloss\u001b[49m\u001b[43m)\u001b[49m\u001b[43m.\u001b[49m\u001b[43mbackward\u001b[49m\u001b[43m(\u001b[49m\u001b[43m)\u001b[49m\n\u001b[32m    417\u001b[39m \u001b[38;5;66;03m# Optimize - https://pytorch.org/docs/master/notes/amp_examples.html\u001b[39;00m\n\u001b[32m    418\u001b[39m \u001b[38;5;28;01mif\u001b[39;00m ni - last_opt_step >= \u001b[38;5;28mself\u001b[39m.accumulate:\n",
      "\u001b[36mFile \u001b[39m\u001b[32mc:\\Users\\Venu Gopal\\AppData\\Local\\Programs\\Python\\Python311\\Lib\\site-packages\\torch\\_tensor.py:648\u001b[39m, in \u001b[36mTensor.backward\u001b[39m\u001b[34m(self, gradient, retain_graph, create_graph, inputs)\u001b[39m\n\u001b[32m    638\u001b[39m \u001b[38;5;28;01mif\u001b[39;00m has_torch_function_unary(\u001b[38;5;28mself\u001b[39m):\n\u001b[32m    639\u001b[39m     \u001b[38;5;28;01mreturn\u001b[39;00m handle_torch_function(\n\u001b[32m    640\u001b[39m         Tensor.backward,\n\u001b[32m    641\u001b[39m         (\u001b[38;5;28mself\u001b[39m,),\n\u001b[32m   (...)\u001b[39m\u001b[32m    646\u001b[39m         inputs=inputs,\n\u001b[32m    647\u001b[39m     )\n\u001b[32m--> \u001b[39m\u001b[32m648\u001b[39m \u001b[43mtorch\u001b[49m\u001b[43m.\u001b[49m\u001b[43mautograd\u001b[49m\u001b[43m.\u001b[49m\u001b[43mbackward\u001b[49m\u001b[43m(\u001b[49m\n\u001b[32m    649\u001b[39m \u001b[43m    \u001b[49m\u001b[38;5;28;43mself\u001b[39;49m\u001b[43m,\u001b[49m\u001b[43m \u001b[49m\u001b[43mgradient\u001b[49m\u001b[43m,\u001b[49m\u001b[43m \u001b[49m\u001b[43mretain_graph\u001b[49m\u001b[43m,\u001b[49m\u001b[43m \u001b[49m\u001b[43mcreate_graph\u001b[49m\u001b[43m,\u001b[49m\u001b[43m \u001b[49m\u001b[43minputs\u001b[49m\u001b[43m=\u001b[49m\u001b[43minputs\u001b[49m\n\u001b[32m    650\u001b[39m \u001b[43m\u001b[49m\u001b[43m)\u001b[49m\n",
      "\u001b[36mFile \u001b[39m\u001b[32mc:\\Users\\Venu Gopal\\AppData\\Local\\Programs\\Python\\Python311\\Lib\\site-packages\\torch\\autograd\\__init__.py:353\u001b[39m, in \u001b[36mbackward\u001b[39m\u001b[34m(tensors, grad_tensors, retain_graph, create_graph, grad_variables, inputs)\u001b[39m\n\u001b[32m    348\u001b[39m     retain_graph = create_graph\n\u001b[32m    350\u001b[39m \u001b[38;5;66;03m# The reason we repeat the same comment below is that\u001b[39;00m\n\u001b[32m    351\u001b[39m \u001b[38;5;66;03m# some Python versions print out the first line of a multi-line function\u001b[39;00m\n\u001b[32m    352\u001b[39m \u001b[38;5;66;03m# calls in the traceback and some print out the last line\u001b[39;00m\n\u001b[32m--> \u001b[39m\u001b[32m353\u001b[39m \u001b[43m_engine_run_backward\u001b[49m\u001b[43m(\u001b[49m\n\u001b[32m    354\u001b[39m \u001b[43m    \u001b[49m\u001b[43mtensors\u001b[49m\u001b[43m,\u001b[49m\n\u001b[32m    355\u001b[39m \u001b[43m    \u001b[49m\u001b[43mgrad_tensors_\u001b[49m\u001b[43m,\u001b[49m\n\u001b[32m    356\u001b[39m \u001b[43m    \u001b[49m\u001b[43mretain_graph\u001b[49m\u001b[43m,\u001b[49m\n\u001b[32m    357\u001b[39m \u001b[43m    \u001b[49m\u001b[43mcreate_graph\u001b[49m\u001b[43m,\u001b[49m\n\u001b[32m    358\u001b[39m \u001b[43m    \u001b[49m\u001b[43minputs\u001b[49m\u001b[43m,\u001b[49m\n\u001b[32m    359\u001b[39m \u001b[43m    \u001b[49m\u001b[43mallow_unreachable\u001b[49m\u001b[43m=\u001b[49m\u001b[38;5;28;43;01mTrue\u001b[39;49;00m\u001b[43m,\u001b[49m\n\u001b[32m    360\u001b[39m \u001b[43m    \u001b[49m\u001b[43maccumulate_grad\u001b[49m\u001b[43m=\u001b[49m\u001b[38;5;28;43;01mTrue\u001b[39;49;00m\u001b[43m,\u001b[49m\n\u001b[32m    361\u001b[39m \u001b[43m\u001b[49m\u001b[43m)\u001b[49m\n",
      "\u001b[36mFile \u001b[39m\u001b[32mc:\\Users\\Venu Gopal\\AppData\\Local\\Programs\\Python\\Python311\\Lib\\site-packages\\torch\\autograd\\graph.py:824\u001b[39m, in \u001b[36m_engine_run_backward\u001b[39m\u001b[34m(t_outputs, *args, **kwargs)\u001b[39m\n\u001b[32m    822\u001b[39m     unregister_hooks = _register_logging_hooks_on_whole_graph(t_outputs)\n\u001b[32m    823\u001b[39m \u001b[38;5;28;01mtry\u001b[39;00m:\n\u001b[32m--> \u001b[39m\u001b[32m824\u001b[39m     \u001b[38;5;28;01mreturn\u001b[39;00m \u001b[43mVariable\u001b[49m\u001b[43m.\u001b[49m\u001b[43m_execution_engine\u001b[49m\u001b[43m.\u001b[49m\u001b[43mrun_backward\u001b[49m\u001b[43m(\u001b[49m\u001b[43m  \u001b[49m\u001b[38;5;66;43;03m# Calls into the C++ engine to run the backward pass\u001b[39;49;00m\n\u001b[32m    825\u001b[39m \u001b[43m        \u001b[49m\u001b[43mt_outputs\u001b[49m\u001b[43m,\u001b[49m\u001b[43m \u001b[49m\u001b[43m*\u001b[49m\u001b[43margs\u001b[49m\u001b[43m,\u001b[49m\u001b[43m \u001b[49m\u001b[43m*\u001b[49m\u001b[43m*\u001b[49m\u001b[43mkwargs\u001b[49m\n\u001b[32m    826\u001b[39m \u001b[43m    \u001b[49m\u001b[43m)\u001b[49m  \u001b[38;5;66;03m# Calls into the C++ engine to run the backward pass\u001b[39;00m\n\u001b[32m    827\u001b[39m \u001b[38;5;28;01mfinally\u001b[39;00m:\n\u001b[32m    828\u001b[39m     \u001b[38;5;28;01mif\u001b[39;00m attach_logging_hooks:\n",
      "\u001b[31mKeyboardInterrupt\u001b[39m: "
     ]
    }
   ],
   "source": [
    "from ultralytics import YOLO\n",
    "\n",
    "model = YOLO(\"yolov8n.pt\")\n",
    "results = model.train(\n",
    "    data=\"C:/Users/Venu Gopal/Downloads/TrainIJYOLO2013/TrainIJYOLO2013/traffic_signs.yaml\",\n",
    "    epochs=100,\n",
    "    imgsz=640\n",
    ")\n"
   ]
  },
  {
   "cell_type": "markdown",
   "id": "6a3a5314",
   "metadata": {},
   "source": [
    "Evaluate and Predict"
   ]
  },
  {
   "cell_type": "code",
   "execution_count": null,
   "id": "b74fea79",
   "metadata": {},
   "outputs": [
    {
     "name": "stdout",
     "output_type": "stream",
     "text": [
      "\n"
     ]
    },
    {
     "ename": "FileNotFoundError",
     "evalue": "C:/Users/Venu Gopal/Downloads/TrainIJYOLO2013/TrainIJYOLO2013/val/images/00501.ppm does not exist",
     "output_type": "error",
     "traceback": [
      "\u001b[31m---------------------------------------------------------------------------\u001b[39m",
      "\u001b[31mFileNotFoundError\u001b[39m                         Traceback (most recent call last)",
      "\u001b[36mCell\u001b[39m\u001b[36m \u001b[39m\u001b[32mIn[6]\u001b[39m\u001b[32m, line 6\u001b[39m\n\u001b[32m      4\u001b[39m \u001b[38;5;66;03m# Predict on a sample image from val set\u001b[39;00m\n\u001b[32m      5\u001b[39m img_path = \u001b[33m\"\u001b[39m\u001b[33mC:/Users/Venu Gopal/Downloads/TrainIJYOLO2013/TrainIJYOLO2013/val/images/00501.ppm\u001b[39m\u001b[33m\"\u001b[39m\n\u001b[32m----> \u001b[39m\u001b[32m6\u001b[39m results = \u001b[43mmodel\u001b[49m\u001b[43m.\u001b[49m\u001b[43mpredict\u001b[49m\u001b[43m(\u001b[49m\u001b[43mimg_path\u001b[49m\u001b[43m,\u001b[49m\u001b[43m \u001b[49m\u001b[43mimgsz\u001b[49m\u001b[43m=\u001b[49m\u001b[32;43m640\u001b[39;49m\u001b[43m)\u001b[49m\n\u001b[32m      7\u001b[39m results[\u001b[32m0\u001b[39m].show()  \u001b[38;5;66;03m# Show image with boxes\u001b[39;00m\n",
      "\u001b[36mFile \u001b[39m\u001b[32mc:\\Users\\Venu Gopal\\AppData\\Local\\Programs\\Python\\Python311\\Lib\\site-packages\\ultralytics\\engine\\model.py:555\u001b[39m, in \u001b[36mModel.predict\u001b[39m\u001b[34m(self, source, stream, predictor, **kwargs)\u001b[39m\n\u001b[32m    553\u001b[39m \u001b[38;5;28;01mif\u001b[39;00m prompts \u001b[38;5;129;01mand\u001b[39;00m \u001b[38;5;28mhasattr\u001b[39m(\u001b[38;5;28mself\u001b[39m.predictor, \u001b[33m\"\u001b[39m\u001b[33mset_prompts\u001b[39m\u001b[33m\"\u001b[39m):  \u001b[38;5;66;03m# for SAM-type models\u001b[39;00m\n\u001b[32m    554\u001b[39m     \u001b[38;5;28mself\u001b[39m.predictor.set_prompts(prompts)\n\u001b[32m--> \u001b[39m\u001b[32m555\u001b[39m \u001b[38;5;28;01mreturn\u001b[39;00m \u001b[38;5;28mself\u001b[39m.predictor.predict_cli(source=source) \u001b[38;5;28;01mif\u001b[39;00m is_cli \u001b[38;5;28;01melse\u001b[39;00m \u001b[38;5;28;43mself\u001b[39;49m\u001b[43m.\u001b[49m\u001b[43mpredictor\u001b[49m\u001b[43m(\u001b[49m\u001b[43msource\u001b[49m\u001b[43m=\u001b[49m\u001b[43msource\u001b[49m\u001b[43m,\u001b[49m\u001b[43m \u001b[49m\u001b[43mstream\u001b[49m\u001b[43m=\u001b[49m\u001b[43mstream\u001b[49m\u001b[43m)\u001b[49m\n",
      "\u001b[36mFile \u001b[39m\u001b[32mc:\\Users\\Venu Gopal\\AppData\\Local\\Programs\\Python\\Python311\\Lib\\site-packages\\ultralytics\\engine\\predictor.py:227\u001b[39m, in \u001b[36mBasePredictor.__call__\u001b[39m\u001b[34m(self, source, model, stream, *args, **kwargs)\u001b[39m\n\u001b[32m    225\u001b[39m     \u001b[38;5;28;01mreturn\u001b[39;00m \u001b[38;5;28mself\u001b[39m.stream_inference(source, model, *args, **kwargs)\n\u001b[32m    226\u001b[39m \u001b[38;5;28;01melse\u001b[39;00m:\n\u001b[32m--> \u001b[39m\u001b[32m227\u001b[39m     \u001b[38;5;28;01mreturn\u001b[39;00m \u001b[38;5;28;43mlist\u001b[39;49m\u001b[43m(\u001b[49m\u001b[38;5;28;43mself\u001b[39;49m\u001b[43m.\u001b[49m\u001b[43mstream_inference\u001b[49m\u001b[43m(\u001b[49m\u001b[43msource\u001b[49m\u001b[43m,\u001b[49m\u001b[43m \u001b[49m\u001b[43mmodel\u001b[49m\u001b[43m,\u001b[49m\u001b[43m \u001b[49m\u001b[43m*\u001b[49m\u001b[43margs\u001b[49m\u001b[43m,\u001b[49m\u001b[43m \u001b[49m\u001b[43m*\u001b[49m\u001b[43m*\u001b[49m\u001b[43mkwargs\u001b[49m\u001b[43m)\u001b[49m\u001b[43m)\u001b[49m\n",
      "\u001b[36mFile \u001b[39m\u001b[32mc:\\Users\\Venu Gopal\\AppData\\Local\\Programs\\Python\\Python311\\Lib\\site-packages\\torch\\utils\\_contextlib.py:36\u001b[39m, in \u001b[36m_wrap_generator.<locals>.generator_context\u001b[39m\u001b[34m(*args, **kwargs)\u001b[39m\n\u001b[32m     33\u001b[39m \u001b[38;5;28;01mtry\u001b[39;00m:\n\u001b[32m     34\u001b[39m     \u001b[38;5;66;03m# Issuing `None` to a generator fires it up\u001b[39;00m\n\u001b[32m     35\u001b[39m     \u001b[38;5;28;01mwith\u001b[39;00m ctx_factory():\n\u001b[32m---> \u001b[39m\u001b[32m36\u001b[39m         response = \u001b[43mgen\u001b[49m\u001b[43m.\u001b[49m\u001b[43msend\u001b[49m\u001b[43m(\u001b[49m\u001b[38;5;28;43;01mNone\u001b[39;49;00m\u001b[43m)\u001b[49m\n\u001b[32m     38\u001b[39m     \u001b[38;5;28;01mwhile\u001b[39;00m \u001b[38;5;28;01mTrue\u001b[39;00m:\n\u001b[32m     39\u001b[39m         \u001b[38;5;28;01mtry\u001b[39;00m:\n\u001b[32m     40\u001b[39m             \u001b[38;5;66;03m# Forward the response to our caller and get its next request\u001b[39;00m\n",
      "\u001b[36mFile \u001b[39m\u001b[32mc:\\Users\\Venu Gopal\\AppData\\Local\\Programs\\Python\\Python311\\Lib\\site-packages\\ultralytics\\engine\\predictor.py:300\u001b[39m, in \u001b[36mBasePredictor.stream_inference\u001b[39m\u001b[34m(self, source, model, *args, **kwargs)\u001b[39m\n\u001b[32m    296\u001b[39m     \u001b[38;5;28mself\u001b[39m.setup_model(model)\n\u001b[32m    298\u001b[39m \u001b[38;5;28;01mwith\u001b[39;00m \u001b[38;5;28mself\u001b[39m._lock:  \u001b[38;5;66;03m# for thread-safe inference\u001b[39;00m\n\u001b[32m    299\u001b[39m     \u001b[38;5;66;03m# Setup source every time predict is called\u001b[39;00m\n\u001b[32m--> \u001b[39m\u001b[32m300\u001b[39m     \u001b[38;5;28;43mself\u001b[39;49m\u001b[43m.\u001b[49m\u001b[43msetup_source\u001b[49m\u001b[43m(\u001b[49m\u001b[43msource\u001b[49m\u001b[43m \u001b[49m\u001b[38;5;28;43;01mif\u001b[39;49;00m\u001b[43m \u001b[49m\u001b[43msource\u001b[49m\u001b[43m \u001b[49m\u001b[38;5;129;43;01mis\u001b[39;49;00m\u001b[43m \u001b[49m\u001b[38;5;129;43;01mnot\u001b[39;49;00m\u001b[43m \u001b[49m\u001b[38;5;28;43;01mNone\u001b[39;49;00m\u001b[43m \u001b[49m\u001b[38;5;28;43;01melse\u001b[39;49;00m\u001b[43m \u001b[49m\u001b[38;5;28;43mself\u001b[39;49m\u001b[43m.\u001b[49m\u001b[43margs\u001b[49m\u001b[43m.\u001b[49m\u001b[43msource\u001b[49m\u001b[43m)\u001b[49m\n\u001b[32m    302\u001b[39m     \u001b[38;5;66;03m# Check if save_dir/ label file exists\u001b[39;00m\n\u001b[32m    303\u001b[39m     \u001b[38;5;28;01mif\u001b[39;00m \u001b[38;5;28mself\u001b[39m.args.save \u001b[38;5;129;01mor\u001b[39;00m \u001b[38;5;28mself\u001b[39m.args.save_txt:\n",
      "\u001b[36mFile \u001b[39m\u001b[32mc:\\Users\\Venu Gopal\\AppData\\Local\\Programs\\Python\\Python311\\Lib\\site-packages\\ultralytics\\engine\\predictor.py:259\u001b[39m, in \u001b[36mBasePredictor.setup_source\u001b[39m\u001b[34m(self, source)\u001b[39m\n\u001b[32m    251\u001b[39m \u001b[38;5;250m\u001b[39m\u001b[33;03m\"\"\"\u001b[39;00m\n\u001b[32m    252\u001b[39m \u001b[33;03mSet up source and inference mode.\u001b[39;00m\n\u001b[32m    253\u001b[39m \n\u001b[32m   (...)\u001b[39m\u001b[32m    256\u001b[39m \u001b[33;03m        Source for inference.\u001b[39;00m\n\u001b[32m    257\u001b[39m \u001b[33;03m\"\"\"\u001b[39;00m\n\u001b[32m    258\u001b[39m \u001b[38;5;28mself\u001b[39m.imgsz = check_imgsz(\u001b[38;5;28mself\u001b[39m.args.imgsz, stride=\u001b[38;5;28mself\u001b[39m.model.stride, min_dim=\u001b[32m2\u001b[39m)  \u001b[38;5;66;03m# check image size\u001b[39;00m\n\u001b[32m--> \u001b[39m\u001b[32m259\u001b[39m \u001b[38;5;28mself\u001b[39m.dataset = \u001b[43mload_inference_source\u001b[49m\u001b[43m(\u001b[49m\n\u001b[32m    260\u001b[39m \u001b[43m    \u001b[49m\u001b[43msource\u001b[49m\u001b[43m=\u001b[49m\u001b[43msource\u001b[49m\u001b[43m,\u001b[49m\n\u001b[32m    261\u001b[39m \u001b[43m    \u001b[49m\u001b[43mbatch\u001b[49m\u001b[43m=\u001b[49m\u001b[38;5;28;43mself\u001b[39;49m\u001b[43m.\u001b[49m\u001b[43margs\u001b[49m\u001b[43m.\u001b[49m\u001b[43mbatch\u001b[49m\u001b[43m,\u001b[49m\n\u001b[32m    262\u001b[39m \u001b[43m    \u001b[49m\u001b[43mvid_stride\u001b[49m\u001b[43m=\u001b[49m\u001b[38;5;28;43mself\u001b[39;49m\u001b[43m.\u001b[49m\u001b[43margs\u001b[49m\u001b[43m.\u001b[49m\u001b[43mvid_stride\u001b[49m\u001b[43m,\u001b[49m\n\u001b[32m    263\u001b[39m \u001b[43m    \u001b[49m\u001b[43mbuffer\u001b[49m\u001b[43m=\u001b[49m\u001b[38;5;28;43mself\u001b[39;49m\u001b[43m.\u001b[49m\u001b[43margs\u001b[49m\u001b[43m.\u001b[49m\u001b[43mstream_buffer\u001b[49m\u001b[43m,\u001b[49m\n\u001b[32m    264\u001b[39m \u001b[43m    \u001b[49m\u001b[43mchannels\u001b[49m\u001b[43m=\u001b[49m\u001b[38;5;28;43mgetattr\u001b[39;49m\u001b[43m(\u001b[49m\u001b[38;5;28;43mself\u001b[39;49m\u001b[43m.\u001b[49m\u001b[43mmodel\u001b[49m\u001b[43m,\u001b[49m\u001b[43m \u001b[49m\u001b[33;43m\"\u001b[39;49m\u001b[33;43mch\u001b[39;49m\u001b[33;43m\"\u001b[39;49m\u001b[43m,\u001b[49m\u001b[43m \u001b[49m\u001b[32;43m3\u001b[39;49m\u001b[43m)\u001b[49m\u001b[43m,\u001b[49m\n\u001b[32m    265\u001b[39m \u001b[43m\u001b[49m\u001b[43m)\u001b[49m\n\u001b[32m    266\u001b[39m \u001b[38;5;28mself\u001b[39m.source_type = \u001b[38;5;28mself\u001b[39m.dataset.source_type\n\u001b[32m    267\u001b[39m \u001b[38;5;28;01mif\u001b[39;00m \u001b[38;5;129;01mnot\u001b[39;00m \u001b[38;5;28mgetattr\u001b[39m(\u001b[38;5;28mself\u001b[39m, \u001b[33m\"\u001b[39m\u001b[33mstream\u001b[39m\u001b[33m\"\u001b[39m, \u001b[38;5;28;01mTrue\u001b[39;00m) \u001b[38;5;129;01mand\u001b[39;00m (\n\u001b[32m    268\u001b[39m     \u001b[38;5;28mself\u001b[39m.source_type.stream\n\u001b[32m    269\u001b[39m     \u001b[38;5;129;01mor\u001b[39;00m \u001b[38;5;28mself\u001b[39m.source_type.screenshot\n\u001b[32m    270\u001b[39m     \u001b[38;5;129;01mor\u001b[39;00m \u001b[38;5;28mlen\u001b[39m(\u001b[38;5;28mself\u001b[39m.dataset) > \u001b[32m1000\u001b[39m  \u001b[38;5;66;03m# many images\u001b[39;00m\n\u001b[32m    271\u001b[39m     \u001b[38;5;129;01mor\u001b[39;00m \u001b[38;5;28many\u001b[39m(\u001b[38;5;28mgetattr\u001b[39m(\u001b[38;5;28mself\u001b[39m.dataset, \u001b[33m\"\u001b[39m\u001b[33mvideo_flag\u001b[39m\u001b[33m\"\u001b[39m, [\u001b[38;5;28;01mFalse\u001b[39;00m]))\n\u001b[32m    272\u001b[39m ):  \u001b[38;5;66;03m# videos\u001b[39;00m\n",
      "\u001b[36mFile \u001b[39m\u001b[32mc:\\Users\\Venu Gopal\\AppData\\Local\\Programs\\Python\\Python311\\Lib\\site-packages\\ultralytics\\data\\build.py:280\u001b[39m, in \u001b[36mload_inference_source\u001b[39m\u001b[34m(source, batch, vid_stride, buffer, channels)\u001b[39m\n\u001b[32m    278\u001b[39m     dataset = LoadPilAndNumpy(source, channels=channels)\n\u001b[32m    279\u001b[39m \u001b[38;5;28;01melse\u001b[39;00m:\n\u001b[32m--> \u001b[39m\u001b[32m280\u001b[39m     dataset = \u001b[43mLoadImagesAndVideos\u001b[49m\u001b[43m(\u001b[49m\u001b[43msource\u001b[49m\u001b[43m,\u001b[49m\u001b[43m \u001b[49m\u001b[43mbatch\u001b[49m\u001b[43m=\u001b[49m\u001b[43mbatch\u001b[49m\u001b[43m,\u001b[49m\u001b[43m \u001b[49m\u001b[43mvid_stride\u001b[49m\u001b[43m=\u001b[49m\u001b[43mvid_stride\u001b[49m\u001b[43m,\u001b[49m\u001b[43m \u001b[49m\u001b[43mchannels\u001b[49m\u001b[43m=\u001b[49m\u001b[43mchannels\u001b[49m\u001b[43m)\u001b[49m\n\u001b[32m    282\u001b[39m \u001b[38;5;66;03m# Attach source types to the dataset\u001b[39;00m\n\u001b[32m    283\u001b[39m \u001b[38;5;28msetattr\u001b[39m(dataset, \u001b[33m\"\u001b[39m\u001b[33msource_type\u001b[39m\u001b[33m\"\u001b[39m, source_type)\n",
      "\u001b[36mFile \u001b[39m\u001b[32mc:\\Users\\Venu Gopal\\AppData\\Local\\Programs\\Python\\Python311\\Lib\\site-packages\\ultralytics\\data\\loaders.py:373\u001b[39m, in \u001b[36mLoadImagesAndVideos.__init__\u001b[39m\u001b[34m(self, path, batch, vid_stride, channels)\u001b[39m\n\u001b[32m    371\u001b[39m         files.append(\u001b[38;5;28mstr\u001b[39m((parent / p).absolute()))  \u001b[38;5;66;03m# files (relative to *.txt file parent)\u001b[39;00m\n\u001b[32m    372\u001b[39m     \u001b[38;5;28;01melse\u001b[39;00m:\n\u001b[32m--> \u001b[39m\u001b[32m373\u001b[39m         \u001b[38;5;28;01mraise\u001b[39;00m \u001b[38;5;167;01mFileNotFoundError\u001b[39;00m(\u001b[33mf\u001b[39m\u001b[33m\"\u001b[39m\u001b[38;5;132;01m{\u001b[39;00mp\u001b[38;5;132;01m}\u001b[39;00m\u001b[33m does not exist\u001b[39m\u001b[33m\"\u001b[39m)\n\u001b[32m    375\u001b[39m \u001b[38;5;66;03m# Define files as images or videos\u001b[39;00m\n\u001b[32m    376\u001b[39m images, videos = [], []\n",
      "\u001b[31mFileNotFoundError\u001b[39m: C:/Users/Venu Gopal/Downloads/TrainIJYOLO2013/TrainIJYOLO2013/val/images/00501.ppm does not exist"
     ]
    }
   ],
   "source": [
    "# Load trained model\n",
    "model = YOLO(\"runs/detect/train6/weights/best.pt\")\n",
    "\n",
    "# Predict on a sample image from val set\n",
    "img_path = \"C:/Users/Venu Gopal/Downloads/TrainIJYOLO2013/TrainIJYOLO2013/val/images/00501.ppm\" #need to convert to jpg, my bad\n",
    "results = model.predict(img_path, imgsz=640)\n",
    "results[0].show()  # Show image with boxes\n"
   ]
  }
 ],
 "metadata": {
  "kernelspec": {
   "display_name": "Python 3",
   "language": "python",
   "name": "python3"
  },
  "language_info": {
   "codemirror_mode": {
    "name": "ipython",
    "version": 3
   },
   "file_extension": ".py",
   "mimetype": "text/x-python",
   "name": "python",
   "nbconvert_exporter": "python",
   "pygments_lexer": "ipython3",
   "version": "3.11.9"
  }
 },
 "nbformat": 4,
 "nbformat_minor": 5
}
